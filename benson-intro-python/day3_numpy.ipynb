{
 "cells": [
  {
   "cell_type": "markdown",
   "metadata": {},
   "source": [
    "# Numpy Basics\n",
    "\n",
    "[Presented at [Neurohackademy 2020](https://neurohackademy.org) by [Tal Yarkoni](https://talyarkoni.org)]\n",
    "\n",
    "In this tutorial, we'll introduce numpy—Python's workhorse numerical computing library. We'll begin by motivating the need for a package like numpy, especially in domains with large datasets, like neuroimaging. Then we'll walk through some numpy basics. We'll introduce the core N-Dimensional Array structure; explore ways to initialize, inspect, and index arrays; and review some basic ways to manipulate them, including restructuring operations and application of basic mathematical and statistical functions. At the end of this tutorial, you should have a general sense of what numpy arrays are good for and how they work, though you'll probably need to put in some time working with them to really get a good feel for them.\n",
    "\n",
    "## From naive loops to n-dimensional arrays\n",
    "In many disciplines, data analysis consists largely of the analysis of *tabular* data—meaning, two-dimensional tables where data are structured into rows and columns, with each observation typically taking up a row, and each column representing a single variable. Neuroimaging data analysis also often involves tabular data, and we'll spend a lot of time later on discussing some of the tools Python provides for working efficiently with tabular data. However, one of the notable features of neuroimaging is that datasets are often large, and naturally tend to have many dimensions.\n",
    "\n",
    "For example, consider a typical \"resting state\" fMRI study, in which participants simply lie in the scanner at rest while the machine around them does its thing. Suppose we have 20 participants, each scanned for roughly 30 minutes, with a repetition time (TR)—i.e., the duration of acquisition of each fMRI volume—of 1 second. If the data are acquired at an isotropic spatial resolution of 2mm (i.e., each brain \"voxel\", or 3-dimensional pixel is 2 mm along each dimension), then the resulting dataset might have approximately 20 x 1800 x 100 x 100 x 100 = 36 billion observations. That's a lot of data! Moreover, each subject's data has a clear 4 dimensional structure—the 3 spatial dimensions, plus time. If we wanted to, we could also potentially represent subjects as the 5th dimension, though that involves some complications, since at least initially, different subjects' brains won't be aligned with one another—we'd need to spatially register them for that.\n",
    "\n",
    "It may be helpful to visualize a single subject's data to get a better sense of what the data look like. Of course, most of us mere mortals don't naturally think in 4 dimensions, so we'll need to cheat a little bit. We'll take advantage of the fact that the 3 spatial dimensions have an obvious structure to them, and then we'll concatenate consecutive 3d volumes along a time axis to get the 4th dimension. Here's the idea (image from the [nilearn docs](https://nilearn.github.io/building_blocks/manual_pipeline.html)):\n",
    "\n",
    "<br />\n",
    "\n",
    "![](images/niimgs.jpg)\n",
    "\n",
    "<br />\n",
    "\n",
    "We will typically want to access this data in pretty specific ways. That is, rather than applying an operation to every single voxel in the brain, at every single point in time, we usually want to pull out specific *slices* of the data, and only apply an operation to those slices. Say for example we're interested in a voxel in the amygdala. How would we access only that voxel, at every time point?\n",
    "\n",
    "A very naive approach that we could implement in pure Python would be to store all our data as a nested series of Python lists: each element in the first list would be a list containing data for one time point; each element within the list for each time point would itself be a list containing the 2d slices at each x-coordinate; and so on. Then we could write a series of 4 nested for-loops to sequentially access every data point (or voxel) in our array. For each voxel we inspect, we could then determine whether the voxel is one we want to work with, and if so, apply some operation to it.\n",
    "\n",
    "Basically, we'd have something like this (note that this is just pseudocode, not valid Python code, and you can't execute this snippet!):\n",
    "\n",
    "```python\n",
    "for t in time:\n",
    "    for x in t:\n",
    "        for y in x:\n",
    "            for z in y:\n",
    "                if z is in amygdala:\n",
    "                    apply_my_function(z)\n",
    "```"
   ]
  },
  {
   "cell_type": "markdown",
   "metadata": {},
   "source": [
    "Something like the above would probably work just fine. But it would be very inefficient, and might take a while to execute. Notice that even if we only want to access a single amygdala voxel at each timepoint (i.e., 1800 data points in total, if we stick with our resting state example from above), our naive looping approach still requires us to inspect every single one of the 1.8 billion voxels in our dataset—even if all we're doing for the vast majority of voxels is deciding that we don't actually need to use that voxel in our analysis! This is, to put it mildly, A Bad Thing.\n",
    "\n",
    "Computer scientists have developed a notation for more precisely describing how much of a bad thing it is: *Big O notation*, which gives us a formal way of representing the time complexity of an algorithm. In Big O notation, the code above runs in $O(n^4)$ time. Meaning, for any given dimension size $n$ (we assume for simplicity that $n$ is the same for all dimensions), we need to perform on the order of $n^4$ computations. To put this in perspective, just going from $n = 2$ to $n = 4$ means that we go from $2^4 = 16$ to $4^4 = 256$ operations. You can see how this might start to become problematic as $n$ gets large.\n",
    "\n",
    "The lesson we should take away from this is that writing naive Python loops just to access the values at a specific index in our dataset is a bad idea.\n",
    "\n",
    "### List indexing\n",
    "Fortunately, since we've already covered list indexing in Python, we have a better way to access the amygdala data we want. We know that the outer dimension in our nested list represents time, and we also know that the spatial index of the amygdala voxel we want will be constant across time points. This means that instead of writing a 4-level nested for-loop, we can do the job in just a single loop. If we know that the index of the amygdala voxel we want in our 3-d image is [20, 18, 32], then the following code suffices (again note that this code can't be executed):\n",
    "\n",
    "```python\n",
    "amygdala_values = []\n",
    "\n",
    "for t in dataset:\n",
    "    amygdala_values.append(t[20][18][32])\n",
    "```"
   ]
  },
  {
   "cell_type": "markdown",
   "metadata": {},
   "source": [
    "That's a big improvement! In terms of time complexity! We've gone from an $O(n^4)$ to an $O(n)$ algorithm. The time our new algorithm takes to run is now linear in the number of timepoints in our dataset, rather than growing as a polynomial function of it.\n",
    "\n",
    "### Towards a specialized array structure\n",
    "Unfortunately, our new approach still isn't great. One problem is that performance still won't be so good, because base Python isn't really optimized for the kind of operation we just saw—i.e., indexing repeatedly into nested lists. For one thing, Python is a dynamically typed language, so there will be some overhead involved in accessing each individual element (because the interpreter has to examine the object and determine its type), and this can quickly add up if we have millions or billions of elements.\n",
    "\n",
    "The other big limitation is that, even if lists themselves were super fast to work with, the Python standard library provides limited functionality for doing numerical analysis on them. There are a lot of basic numerical operations we might want to apply to our data that would be really annoying to write in core Python. For example, Python lists don't natively support matrix operations, so if we wanted to multiply one matrix (represented as a list of lists) by another, we'd probably need to write out a series of summations and multiplications ourselves inside for-loops. And that would be completely impractical given how basic and common an operation matrix multiplication is.\n",
    "\n",
    "The bottom line is that, as soon as we start working with large, or highly structured datasets—as is true of most datasets in neuroimaging—we're going to have to look beyond what Python provides us in its standard library. Lists just aren't going to cut it; we need some other kind of data structure—one that's optimized for numerical analysis on large, N-dimensional datasets. This is where *numpy* comes into play.\n",
    "\n",
    "## Numpy\n",
    "Numpy is the backbone of the numerical and scientific computing stack in Python; many of the libraries we'll cover in this course (SciPy, pandas, scikit-learn, etc.) depend on it internally. Numpy provides many data structures optimized for efficient representation and manipulation of different kinds of high-dimensional data, as well as an enormous range of numerical tools that help us work with those structures. Because numpy is so fundamental to scientific computing in Python, we'll spend most of our time in this notebook learning how to use it. Then we'll devote a little bit of time at the end to two other important packages that build on numpy (scipy and pandas).\n",
    "\n",
    "### Importing numpy\n",
    "Recall that, in Python, the default namespace contains only a small number of built-in functions. To use any other functionality, we need to explicitly import it into our namespace. Let's do that for numpy:"
   ]
  },
  {
   "cell_type": "code",
   "execution_count": 1,
   "metadata": {},
   "outputs": [],
   "source": [
    "import numpy as np"
   ]
  },
  {
   "cell_type": "markdown",
   "metadata": {},
   "source": [
    "By convention, numpy is imported as `np` for brevity. This is a general convention in Python; most widely-used packages have standard abbreviations that everyone in the community uses. While Python itself won't complain if you write, say, `import numpy as my_favorite_numerical_library`, we strongly recommend sticking with the conventional abbreviations, as they make it easier for everyone else to understand what your code is doing at a glance."
   ]
  },
  {
   "cell_type": "markdown",
   "metadata": {},
   "source": [
    "### The NDArray (n-dimensional array)\n",
    "The core data structure in numpy is the *n-dimensional array* (or `ndarray`). As the name suggests,  an `ndarray` is an array with an arbitrary number of dimensions. Unlike Python lists, numpy arrays are homogeneously typed—meaning, every element in the array has to have the same data type. You can have an array of floats, or an array of integers, but you can't have an array that mixes floats and integers (though numpy does have a [structured array](https://numpy.org/doc/stable/user/basics.rec.html) data type we won't cover here that provides a way of representing heterogeneous data).\n",
    "\n",
    "### Creating NDArrays\n",
    "Like any other Python object, we need to initialize an `ndarray` before we can do anything with it. Numpy provides us with several ways to create new arrays. Let's explore a couple."
   ]
  },
  {
   "cell_type": "markdown",
   "metadata": {},
   "source": [
    "#### Initializing an array from an existing list\n",
    "Let's start by constructing an array from existing data. Assume we have some values already stored in a native Python iterable object (typically, a list), and we want to convert that object to an ndarray so that we can perform more efficient numerical operations on it. In this case, we can just pass the iterable object directly to `np.ndarray()`. "
   ]
  },
  {
   "cell_type": "code",
   "execution_count": 2,
   "metadata": {},
   "outputs": [
    {
     "data": {
      "text/plain": [
       "array([1, 2, 3, 4, 5, 6])"
      ]
     },
     "execution_count": 2,
     "metadata": {},
     "output_type": "execute_result"
    }
   ],
   "source": [
    "np.array([1, 2, 3, 4, 5, 6])"
   ]
  },
  {
   "cell_type": "markdown",
   "metadata": {},
   "source": [
    "Numpy is pretty good about figuring out what kind of array we want based on the input data; for example, if we pass in a list of lists, where each of the inner lists has the same number of elements, numpy will infer that we want to construct a 2-dimensional array:"
   ]
  },
  {
   "cell_type": "code",
   "execution_count": 3,
   "metadata": {},
   "outputs": [
    {
     "data": {
      "text/plain": [
       "array([[1, 2, 5],\n",
       "       [4, 1, 7]])"
      ]
     },
     "execution_count": 3,
     "metadata": {},
     "output_type": "execute_result"
    }
   ],
   "source": [
    "# A Python list of lists\n",
    "my_list = [[1, 2, 5], [4, 1, 7]]\n",
    "\n",
    "# Construct an array from the list\n",
    "my_arr = np.array(my_list)\n",
    "\n",
    "my_arr"
   ]
  },
  {
   "cell_type": "markdown",
   "metadata": {},
   "source": [
    "The first time you see a printed representation of a numpy array, as in the above output, it might look a little confusing. But the visual representation closely resembles what we'd see if we were to print a nested list in Python. In the 2-dimensional case above, the elements of the outer list are the values along the first dimension, and each inner list gives the values along the second dimension. This ends up giving us a nice tabular representation, where, at least for small arrays, we can just read off the values from the output. For example, the first row of the array contains the values [1, 2, 5]; the second column of the array contains the values [2, 1]; and so on.\n",
    "\n",
    "**Exercise**: extend the above principle into 3 dimensions: create a list of list of lists, initialize an array from the list, and print into the screen. Make sure you understand how the values displayed visually map onto the dimensions of the array."
   ]
  },
  {
   "cell_type": "markdown",
   "metadata": {},
   "source": [
    "#### Initializing an empty array\n",
    "Alternatively, we can construct a new array from scratch and fill it with some predetermined value--most commonly zero. We can do this easily in numpy using the conveniently-named `zeros()` function. In many practical applications, we can think of this as an \"empty\" array (though technically we could also create a *truly* empty array that has *no* assigned values using the `empty()` function).\n",
    "\n",
    "The `zeros()` function takes a mandatory `shape` tuple as its first argument; this specifies the dimensions of the desired array."
   ]
  },
  {
   "cell_type": "code",
   "execution_count": 4,
   "metadata": {},
   "outputs": [],
   "source": [
    "# Create a new 10 x 10 array\n",
    "arr_2d = np.zeros((5, 10))\n",
    "\n",
    "# Create a new 3-d array with dimensions 2, 4, 8\n",
    "arr_3d = np.zeros((2, 4, 8))"
   ]
  },
  {
   "cell_type": "markdown",
   "metadata": {},
   "source": [
    "#### Other array initializers\n",
    "Numpy has many other functions for creating new arrays. Here are a few:"
   ]
  },
  {
   "cell_type": "code",
   "execution_count": 5,
   "metadata": {},
   "outputs": [
    {
     "data": {
      "text/plain": [
       "array([4, 5, 6, 7, 8, 9])"
      ]
     },
     "execution_count": 5,
     "metadata": {},
     "output_type": "execute_result"
    }
   ],
   "source": [
    "# Returns an array of evenly-spaced values within a certain range\n",
    "np.arange(4, 10)"
   ]
  },
  {
   "cell_type": "code",
   "execution_count": 6,
   "metadata": {},
   "outputs": [
    {
     "data": {
      "text/plain": [
       "array([[ 1.06202382,  3.14240947],\n",
       "       [ 0.94365725, -3.5409738 ],\n",
       "       [10.30160691,  6.33625439],\n",
       "       [-4.74518999,  1.38563174],\n",
       "       [ 1.10748107,  2.95859155],\n",
       "       [ 3.18452269, -6.26932375],\n",
       "       [ 2.61417559,  3.74547927],\n",
       "       [-2.76793151,  3.87292619],\n",
       "       [ 2.08277987,  0.90265221],\n",
       "       [-5.01525821,  3.89905384]])"
      ]
     },
     "execution_count": 6,
     "metadata": {},
     "output_type": "execute_result"
    }
   ],
   "source": [
    "# Generate normally distributed values drawn from a distribution with the specified shape.\n",
    "# There are several other random number generating functions in the np.random module.\n",
    "# Here we generate a 10 x 2 array of values sampled from a normal distribution with\n",
    "# mean of 2 and sd of 4.\n",
    "np.random.normal(2, 4, size=(10, 2))"
   ]
  },
  {
   "cell_type": "code",
   "execution_count": 7,
   "metadata": {},
   "outputs": [
    {
     "data": {
      "text/plain": [
       "array([[400, 400, 400, 400, 400],\n",
       "       [400, 400, 400, 400, 400],\n",
       "       [400, 400, 400, 400, 400],\n",
       "       [400, 400, 400, 400, 400],\n",
       "       [400, 400, 400, 400, 400]])"
      ]
     },
     "execution_count": 7,
     "metadata": {},
     "output_type": "execute_result"
    }
   ],
   "source": [
    "# np.full() is like np.zeros() and np.ones(), but fills the array with the\n",
    "# specified value instead of 0 or 1.\n",
    "np.full((5, 5), 400)"
   ]
  },
  {
   "cell_type": "markdown",
   "metadata": {},
   "source": [
    "### Inspecting NDArrays\n",
    "Like most other Python objects, the `ndarray` class has all kinds of attributes we can access and inspect, if we want to understand the structure and content of the data.\n",
    "\n",
    "#### Array shape\n",
    "One indispensable method is `.shape`, which tells us the shape of the array:"
   ]
  },
  {
   "cell_type": "code",
   "execution_count": 8,
   "metadata": {},
   "outputs": [
    {
     "data": {
      "text/plain": [
       "(2, 3)"
      ]
     },
     "execution_count": 8,
     "metadata": {},
     "output_type": "execute_result"
    }
   ],
   "source": [
    "my_list = [[1, 2, 5], [4, 1, 7]]\n",
    "\n",
    "my_arr.shape"
   ]
  },
  {
   "cell_type": "markdown",
   "metadata": {},
   "source": [
    "This array has shape `(2, 3)`—i.e., there are 2 elements along the first axis and 3 along the second axis.\n",
    "\n",
    "We can tell that the array is 2-dimensional from the number of elements in the `shape` tuple. But we could also get the number of dimensions directly using the `ndim` attribute:"
   ]
  },
  {
   "cell_type": "code",
   "execution_count": 9,
   "metadata": {},
   "outputs": [
    {
     "data": {
      "text/plain": [
       "2"
      ]
     },
     "execution_count": 9,
     "metadata": {},
     "output_type": "execute_result"
    }
   ],
   "source": [
    "my_arr.ndim"
   ]
  },
  {
   "cell_type": "markdown",
   "metadata": {},
   "source": [
    "#### Array data type\n",
    "As we noted above, NDArrays are homogeneous: all the values in an array have the same type. We can find out that type from the `dtype` attribute:"
   ]
  },
  {
   "cell_type": "code",
   "execution_count": 10,
   "metadata": {},
   "outputs": [
    {
     "name": "stdout",
     "output_type": "stream",
     "text": [
      "dtype of my_arr: int64\n",
      "dtype of arr_3d: float64\n"
     ]
    }
   ],
   "source": [
    "print(\"dtype of my_arr:\", my_arr.dtype)\n",
    "print(\"dtype of arr_3d:\", arr_3d.dtype)"
   ]
  },
  {
   "cell_type": "markdown",
   "metadata": {},
   "source": [
    "When initializing an array from a list, numpy will infer a suitable datatype by inspecting the types of the elements in the input. In the above example, `my_arr` has a `dtype` of `int64`, because we initialized it by passing in a list of Python `int`s. (**Exercise**: Create a Python list containing heterogeneous types, and see what happens to the inferred `dtype` when you create a numpy array. Try different combinations of types, including a dictionary.)\n",
    "\n",
    "By contrast, `np.zeros()` will always create an array of floats by default. If we want to explicitly control the dtype of the constructed array, we can pass a `dtype` argument:"
   ]
  },
  {
   "cell_type": "code",
   "execution_count": 11,
   "metadata": {},
   "outputs": [
    {
     "data": {
      "text/plain": [
       "array([0, 0, 0, 0, 0])"
      ]
     },
     "execution_count": 11,
     "metadata": {},
     "output_type": "execute_result"
    }
   ],
   "source": [
    "np.zeros((5,), dtype=int)"
   ]
  },
  {
   "cell_type": "markdown",
   "metadata": {},
   "source": [
    "In this case, we're stipulating that the constructed array should have an integer datatype.\n",
    "\n",
    "You may have noticed that the data types numpy uses look a little different from basic Python types. Instead of the familiar `int` and `float`, for instance, we now see `int64` and `float64`. This distinction is important, as numpy data types aren't the same as base Python types (though they have many similar behaviors). Also, numpy has many more [numerical data types]((https://numpy.org/doc/stable/reference/arrays.dtypes.html)) than base Python."
   ]
  },
  {
   "cell_type": "markdown",
   "metadata": {},
   "source": [
    "### Indexing arrays\n",
    "We've seen how we can create arrays and describe them; now let's talk about how we can get data in and out of arrays. We already know how to index Python lists, and array indexing in Python will look quite similar. But numpy indexing adds considerably more flexibility and power, and developing array indexing facility is a critical step towards acquiring general proficiency with the package.\n",
    "\n",
    "#### Indexing in one dimension\n",
    "Let's start with the simplest case: indexing 1-dimensional arrays. This looks very much like list indexing.\n",
    "\n",
    "Let's create a 1-d array to work with:"
   ]
  },
  {
   "cell_type": "code",
   "execution_count": 12,
   "metadata": {},
   "outputs": [
    {
     "data": {
      "text/plain": [
       "array([ 7,  1,  9, 14,  2,  8,  9,  6, 10,  4])"
      ]
     },
     "execution_count": 12,
     "metadata": {},
     "output_type": "execute_result"
    }
   ],
   "source": [
    "arr = np.array([7, 1, 9, 14, 2, 8, 9, 6, 10, 4])\n",
    "\n",
    "arr"
   ]
  },
  {
   "cell_type": "markdown",
   "metadata": {},
   "source": [
    "To access the $i^{th}$ element in the array, we follow the Python list syntax:"
   ]
  },
  {
   "cell_type": "code",
   "execution_count": 13,
   "metadata": {},
   "outputs": [
    {
     "data": {
      "text/plain": [
       "14"
      ]
     },
     "execution_count": 13,
     "metadata": {},
     "output_type": "execute_result"
    }
   ],
   "source": [
    "arr[3]"
   ]
  },
  {
   "cell_type": "markdown",
   "metadata": {},
   "source": [
    "Observe that numpy arrays use 0-based indexing, like base Python and most other programming languages, rather than the 1-based indexing found in several other data-centric languages (e.g., R and MATLAB). So `arr[3]` returns the 4th value in the array (i.e., `14`), not the 3rd.\n",
    "\n",
    "Numpy arrays also support two other important syntactic conventions found in Python lists: indexing from the end of the array, and \"slicing\" the array to extract multiple contiguous values.\n",
    "\n",
    "To index from the end, we use the minus sign (`-`):"
   ]
  },
  {
   "cell_type": "code",
   "execution_count": 14,
   "metadata": {},
   "outputs": [
    {
     "data": {
      "text/plain": [
       "10"
      ]
     },
     "execution_count": 14,
     "metadata": {},
     "output_type": "execute_result"
    }
   ],
   "source": [
    "arr[-2]"
   ]
  },
  {
   "cell_type": "markdown",
   "metadata": {},
   "source": [
    "This gives us the 2nd last value in the array.\n",
    "\n",
    "To slice an array, we use the colon (`:`) operator, passing in the positions we want to start and end at:"
   ]
  },
  {
   "cell_type": "code",
   "execution_count": 15,
   "metadata": {},
   "outputs": [
    {
     "data": {
      "text/plain": [
       "array([ 9, 14,  2,  8])"
      ]
     },
     "execution_count": 15,
     "metadata": {},
     "output_type": "execute_result"
    }
   ],
   "source": [
    "arr[2:6]"
   ]
  },
  {
   "cell_type": "markdown",
   "metadata": {},
   "source": [
    "Notice that the start index is inclusive and the end index is exclusive (i.e., in the above example, the resulting array includes the value at position `2`, but excludes the one at position `6`).\n",
    "\n",
    "We can also omit the start or end indexes, in which case numpy will return *all* positions up to, or starting from, the provided index. For example, to get the first 4 elements:"
   ]
  },
  {
   "cell_type": "code",
   "execution_count": 16,
   "metadata": {},
   "outputs": [
    {
     "data": {
      "text/plain": [
       "array([ 7,  1,  9, 14])"
      ]
     },
     "execution_count": 16,
     "metadata": {},
     "output_type": "execute_result"
    }
   ],
   "source": [
    "arr[:4]"
   ]
  },
  {
   "cell_type": "markdown",
   "metadata": {},
   "source": [
    "If we want to get even fancier, we can add a third number to the requested slice. This tells us the size of the *step* used in slicing. For example, to get every third value in the list, starting with the 2nd element, and ending before the second-last element:"
   ]
  },
  {
   "cell_type": "code",
   "execution_count": 17,
   "metadata": {},
   "outputs": [
    {
     "data": {
      "text/plain": [
       "array([1, 2, 6])"
      ]
     },
     "execution_count": 17,
     "metadata": {},
     "output_type": "execute_result"
    }
   ],
   "source": [
    "arr[1:-2:3]"
   ]
  },
  {
   "cell_type": "markdown",
   "metadata": {},
   "source": [
    "#### Indexing in multiple dimensions\n",
    "Once we start working with arrays with more than one dimension, indexing gets a little more complicate—both because the syntax is a little different, and because there's a lot more we can *do* with multi-dimensional arrays.\n",
    "\n",
    "Let's explore indexing in 3 dimensions. We could easily create a new array, just as we did earlier. But instead, we'll cheat a bit and use some real neuroimaging data—specifically, an anatomical brain volume. This will keep things a bit more interesting, and should also make it easier to build intuitions about arrays, as we'll be working with numbers that have some concrete meaning.\n",
    "\n",
    "The reason I say we're cheating a bit is that we're not going to cover the representation or reading in of neuroimaging data just yet; that comes later on in the course, in the presentation on NiBabel. NiBabel is a Python library that supports reading, writing, and manipulation of a wide range of common neuroimaging formats. Because it'll be covered in much more detail later, I won't explain what we're doing here, except to say that in the following two lines, we're loading an anatomical brain image (in Nifti format) into Python, and then extracting the actual 3-dimensional data (conveniently already stored in a numpy array) into its own variable."
   ]
  },
  {
   "cell_type": "code",
   "execution_count": 18,
   "metadata": {},
   "outputs": [],
   "source": [
    "import nibabel as nib\n",
    "\n",
    "img = nib.load('data/anatomical.nii.gz')\n",
    "data = img.get_fdata()"
   ]
  },
  {
   "cell_type": "markdown",
   "metadata": {},
   "source": [
    "Now the `data` variable is an NDArray that behaves just like the ones we've already seen. Let's interrogate it:"
   ]
  },
  {
   "cell_type": "code",
   "execution_count": 19,
   "metadata": {},
   "outputs": [
    {
     "data": {
      "text/plain": [
       "(91, 109, 91)"
      ]
     },
     "execution_count": 19,
     "metadata": {},
     "output_type": "execute_result"
    }
   ],
   "source": [
    "data.shape"
   ]
  },
  {
   "cell_type": "code",
   "execution_count": 20,
   "metadata": {},
   "outputs": [
    {
     "data": {
      "text/plain": [
       "dtype('float64')"
      ]
     },
     "execution_count": 20,
     "metadata": {},
     "output_type": "execute_result"
    }
   ],
   "source": [
    "data.dtype"
   ]
  },
  {
   "cell_type": "markdown",
   "metadata": {},
   "source": [
    "As you can see, we have a 3-dimensional array with shape (91, 109, 91). This is the shape of the famous MNI152 2mm template—probably the single most common standard space in which neuroimaging data analysis has historically been conducted. That's not a coincidence; the image we just loaded *is* the MNI152 2mm anatomical image. You can find more details about it [here](http://nist.mni.mcgill.ca/?p=858).\n",
    "\n",
    "Now we can start working with our image. To maximize clarity, let's assign the labels $i$, $j$, and $k$ to the three axes (or dimensions) of the array, where $i$ is the first dimension, $j$ is the second, and $k$ is the third. Let's retrieve a single value from the array—say, the one stored at $i$ = 45, $j$ = 54, $k$ = 45. Just as with one-dimensional indexing, we again pass the indexes inside square brackets. But this time, we separate the axes with commas:"
   ]
  },
  {
   "cell_type": "code",
   "execution_count": 21,
   "metadata": {},
   "outputs": [
    {
     "data": {
      "text/plain": [
       "5391.0"
      ]
     },
     "execution_count": 21,
     "metadata": {},
     "output_type": "execute_result"
    }
   ],
   "source": [
    "data[45, 54, 45]"
   ]
  },
  {
   "cell_type": "markdown",
   "metadata": {},
   "source": [
    "The value we get tells us the intensity of the MR signal at the specified voxel. If we were to plot the volume visually (and we will, momentarily), we could interpret the values as visual parameters (e.g., brightness or hue). While the absolute numbers in the image have no meaningful interpretation here, the relative variation *across* voxels certainly does, as we'll demonstrate below.\n",
    "\n",
    "So much for single values; what about multiple values? The slicing syntax used with Python lists and 1-dimensional numpy arrays still works fine. For example, to get the first 20 values along the $i$ axis, but only for $j$ = 54 and $k$ = 45:"
   ]
  },
  {
   "cell_type": "code",
   "execution_count": 22,
   "metadata": {},
   "outputs": [
    {
     "data": {
      "text/plain": [
       "array([   0.,    0.,    0.,    0.,    0.,    0.,    0.,    0.,    0.,\n",
       "          0.,    0., 4507., 5647., 6082., 6315., 6487., 6590., 6613.,\n",
       "       6539., 6312.])"
      ]
     },
     "execution_count": 22,
     "metadata": {},
     "output_type": "execute_result"
    }
   ],
   "source": [
    "data[:20, 54, 45]"
   ]
  },
  {
   "cell_type": "markdown",
   "metadata": {},
   "source": [
    "The first few values in the array are 0, presumably because they're outside the brain, and hence carry no anatomical information.\n",
    "\n",
    "Notice that even though the `data` array we started with had 3 dimensions, the sub-array we get back is a 1-dimensional numpy array. We can verify this by inspecting the shape of the result:"
   ]
  },
  {
   "cell_type": "code",
   "execution_count": 23,
   "metadata": {},
   "outputs": [
    {
     "data": {
      "text/plain": [
       "(20,)"
      ]
     },
     "execution_count": 23,
     "metadata": {},
     "output_type": "execute_result"
    }
   ],
   "source": [
    "data[:20, 54, 45].shape"
   ]
  },
  {
   "cell_type": "markdown",
   "metadata": {},
   "source": [
    "The latter two dimensions are implicitly omitted, because we only requested a slice along the first dimension (try replacing the code in the above cell with `data[:20, 54:55, 45]` and see what happens). \n",
    "\n",
    "What about slicing along multiple dimensions simultaneously? That also works fine. Let's say we want to get the 2-dimensional plane defined by $k = 45$. If we don't have starting and ending positions in mind—i.e., we want to get *all* available values in the plane, we can pass the `:` operator in the desired axes without further elaboration:"
   ]
  },
  {
   "cell_type": "code",
   "execution_count": 24,
   "metadata": {},
   "outputs": [
    {
     "data": {
      "text/plain": [
       "array([[0., 0., 0., ..., 0., 0., 0.],\n",
       "       [0., 0., 0., ..., 0., 0., 0.],\n",
       "       [0., 0., 0., ..., 0., 0., 0.],\n",
       "       ...,\n",
       "       [0., 0., 0., ..., 0., 0., 0.],\n",
       "       [0., 0., 0., ..., 0., 0., 0.],\n",
       "       [0., 0., 0., ..., 0., 0., 0.]])"
      ]
     },
     "execution_count": 24,
     "metadata": {},
     "output_type": "execute_result"
    }
   ],
   "source": [
    "data[:, :, 45]"
   ]
  },
  {
   "cell_type": "markdown",
   "metadata": {},
   "source": [
    "Let's verify that we get back a 2-dimensional array:"
   ]
  },
  {
   "cell_type": "code",
   "execution_count": 25,
   "metadata": {},
   "outputs": [
    {
     "data": {
      "text/plain": [
       "(91, 109)"
      ]
     },
     "execution_count": 25,
     "metadata": {},
     "output_type": "execute_result"
    }
   ],
   "source": [
    "data[:, :, 45].shape"
   ]
  },
  {
   "cell_type": "markdown",
   "metadata": {},
   "source": [
    "To help build intuitions about what's going here, let's make things more concrete. We're going to cheat again and once more borrow content from course material we haven't yet covered--in this case, from the material on visualization. As before, I won't bother explaining the code just yet; we'll talk about that later on. Let's just focus on the result."
   ]
  },
  {
   "cell_type": "code",
   "execution_count": 26,
   "metadata": {},
   "outputs": [
    {
     "data": {
      "image/png": "[encoded data removed]",
      "text/plain": [
       "<Figure size 432x288 with 1 Axes>"
      ]
     },
     "metadata": {},
     "output_type": "display_data"
    }
   ],
   "source": [
    "# same slice as above\n",
    "axial_slice = data[:, :, 45]\n",
    "\n",
    "# matplotlib is Python's workhorse plotting library\n",
    "import matplotlib.pyplot as plt\n",
    "\n",
    "# imshow plots a 2d array as an image\n",
    "plt.imshow(axial_slice);"
   ]
  },
  {
   "cell_type": "markdown",
   "metadata": {},
   "source": [
    "Just like that, in a single line of code, we've turned a 2-dimensional array of numbers into a plot of an axial brain slice!\n",
    "\n",
    "Granted, it probably isn't the most beautiful brain image anyone's ever seen; gray matter, as its name implies, is usually gray (or at worst, pinkish), and not neon green. But no matter. In later parts of the course, we'll mess around with Python's vast visualization capabilities, and you'll be able to tweak the colors, and everything else about the above figure, to your heart's content. For now, the important thing is just to gaze in awe upon the image above.\n",
    "\n",
    "It's easy to take what we just did for granted, seeing as it only took us 3 - 4 line of code. As we get deeper into the course, and do far more sophisticated things with neuroimaging data, the above example will probably start to seem really trivial (if it doesn't already). Still, it's worth taking a moment to think about what we were able to accomplish in a matter of seconds, thanks to the heroic efforts of tens of thousands of scientists, engineers, and software developers that came before us. We took a 2-dimensional array containing about 10,000 floating-point numbers, and just by mapping those values onto different colors, we were able to project the array onto a visual plot in a way that allows us to immediately *see* and make sense of an actual human brain--a brain that was imaged using an extremely large magnet, while still safely housed inside somebody's skull (technically, the image is derived from many people's brains, but you get the point). That's pretty remarkable, isn't it?\n",
    "\n",
    "#### From image to world coordinates\n",
    "If you've worked with human brain images before, you might recognize the slice plotted above: in the standard coordinate space used in MRI, it's the slice you get at $z = 0$—i.e., an axial (or transverse, or horizontal) slice through roughly the middle of the brain. In this space, the origin (i.e., the point with coordinates (0, 0, 0)) is conventionally located at the midpoint of the line between the anterior and posterior commissures (the AC-PC line).\n",
    "\n",
    "Armed with this knowledge, you might be thinking that it should be easy to plot a brain slice along *any* of the conventional axes—axial (as above), sagittal, or coronal. And you'd be right. Now that we know that the image-space dimensions we've labeled $i$, $j$, and $k$ correspond to the world-space axes $x$, $y$, and $z$, it's a snap to plot any slice we want. For example, to plot the coronal slice at $y = 10$:"
   ]
  },
  {
   "cell_type": "code",
   "execution_count": 27,
   "metadata": {},
   "outputs": [
    {
     "data": {
      "image/png": "[encoded data removed]",
      "text/plain": [
       "<Figure size 432x288 with 1 Axes>"
      ]
     },
     "metadata": {},
     "output_type": "display_data"
    }
   ],
   "source": [
    "plt.imshow(data[:, 59, :]);"
   ]
  },
  {
   "cell_type": "markdown",
   "metadata": {},
   "source": [
    "You might notice that the orientation of the image is wrong (at least, relative to the way coronal slices are usually oriented in images); we'll fix that in a moment.\n",
    "\n",
    "You might also notice that the index we passed (`59`)—is 5 off from the center of the array (i.e., `59 - 54 = 5`), and not 10, as you might expect given that we wanted the slice at $y = 10$. But remember: image space and world space are different things. Later in the course, when we cover NiBabel, we'll talk at length about the *affine* array contained in every Nifti image file's header, which tells us exactly what the mapping between the two spaces is. For now, we can dispense with any confusion by observing that each voxel in our image is 2 mm in width, so moving 10 mm in world space (from $y = 0$ to $y = 10$) corresponds to a move of only 5 element in image space."
   ]
  },
  {
   "cell_type": "markdown",
   "metadata": {},
   "source": [
    "#### Setting values\n",
    "So far we've only used the indexing syntax to *get* values from arrays. But it also allows us to *set* new values in an array. Setting a single value operates just the way it does with lists:"
   ]
  },
  {
   "cell_type": "code",
   "execution_count": 28,
   "metadata": {},
   "outputs": [
    {
     "data": {
      "text/plain": [
       "array([  7,   1, 100,  14,   2,   8,   9,   6,  10,   4])"
      ]
     },
     "execution_count": 28,
     "metadata": {},
     "output_type": "execute_result"
    }
   ],
   "source": [
    "arr = np.array([7, 1, 9, 14, 2, 8, 9, 6, 10, 4])\n",
    "arr[2] = 100\n",
    "arr"
   ]
  },
  {
   "cell_type": "markdown",
   "metadata": {},
   "source": [
    "What about multiple values? Can we replace the values of a sub-array in a single shot? The answer is yes."
   ]
  },
  {
   "cell_type": "code",
   "execution_count": 29,
   "metadata": {},
   "outputs": [],
   "source": [
    "arr[2:4] = [1, 5]"
   ]
  },
  {
   "cell_type": "markdown",
   "metadata": {},
   "source": [
    "And the same goes for arrays with more than one dimension:"
   ]
  },
  {
   "cell_type": "code",
   "execution_count": 30,
   "metadata": {},
   "outputs": [
    {
     "data": {
      "text/plain": [
       "array([[0., 0., 1., 1., 1.],\n",
       "       [0., 0., 1., 1., 1.],\n",
       "       [0., 0., 1., 1., 1.],\n",
       "       [0., 0., 0., 0., 0.],\n",
       "       [0., 0., 0., 0., 0.]])"
      ]
     },
     "execution_count": 30,
     "metadata": {},
     "output_type": "execute_result"
    }
   ],
   "source": [
    "# create a 5 x 5 array of zeros\n",
    "arr_2d = np.zeros((5, 5))\n",
    "\n",
    "# create a 3 x 3 array of ones.\n",
    "# np.ones() is just like np.zeros(), but fills the matrix with ones\n",
    "ones = np.ones((3, 3))\n",
    "\n",
    "# replace a 3 x 3 sub-array of arr_2d with ones\n",
    "arr_2d[:3, 2:] = ones\n",
    "\n",
    "arr_2d"
   ]
  },
  {
   "cell_type": "markdown",
   "metadata": {},
   "source": [
    "###  Restructuring arrays\n",
    "Sometimes the existing structure or shape of an array doesn't lend itself well to the operations we intend to perform. This is common, for example, when doing linear algebra, which often needs arrays to have dimensions that align with one another in certain ways. Fortunately, numpy gives us lots of tools for restructuring arrays in various ways. Let's explore a few of them.\n",
    "\n",
    "#### Reshaping\n",
    "One very useful function is `reshape()`, which takes a single array as input and returns another array with a different shape as output (technically `reshape*()` returns a *view* on an array, but we'll cover that in the second part of this tutorial).\n",
    "\n",
    "First, let's make a 1-d array with 100 elements:"
   ]
  },
  {
   "cell_type": "code",
   "execution_count": 31,
   "metadata": {},
   "outputs": [
    {
     "name": "stdout",
     "output_type": "stream",
     "text": [
      "x: [ 0  1  2  3  4  5  6  7  8  9 10 11 12 13 14 15 16 17 18 19 20 21 22 23\n",
      " 24 25 26 27 28 29 30 31 32 33 34 35 36 37 38 39 40 41 42 43 44 45 46 47\n",
      " 48 49 50 51 52 53 54 55 56 57 58 59 60 61 62 63 64 65 66 67 68 69 70 71\n",
      " 72 73 74 75 76 77 78 79 80 81 82 83 84 85 86 87 88 89 90 91 92 93 94 95\n",
      " 96 97 98 99]\n"
     ]
    }
   ],
   "source": [
    "x = np.arange(100)\n",
    "print(\"x:\", x)"
   ]
  },
  {
   "cell_type": "markdown",
   "metadata": {},
   "source": [
    "Now we'll reshape it. The `reshape()` function takes two mandatory arguments: the array we want to reshape, and the new shape we want:"
   ]
  },
  {
   "cell_type": "code",
   "execution_count": 32,
   "metadata": {},
   "outputs": [
    {
     "data": {
      "text/plain": [
       "array([[ 0,  1,  2,  3,  4,  5,  6,  7,  8,  9],\n",
       "       [10, 11, 12, 13, 14, 15, 16, 17, 18, 19],\n",
       "       [20, 21, 22, 23, 24, 25, 26, 27, 28, 29],\n",
       "       [30, 31, 32, 33, 34, 35, 36, 37, 38, 39],\n",
       "       [40, 41, 42, 43, 44, 45, 46, 47, 48, 49],\n",
       "       [50, 51, 52, 53, 54, 55, 56, 57, 58, 59],\n",
       "       [60, 61, 62, 63, 64, 65, 66, 67, 68, 69],\n",
       "       [70, 71, 72, 73, 74, 75, 76, 77, 78, 79],\n",
       "       [80, 81, 82, 83, 84, 85, 86, 87, 88, 89],\n",
       "       [90, 91, 92, 93, 94, 95, 96, 97, 98, 99]])"
      ]
     },
     "execution_count": 32,
     "metadata": {},
     "output_type": "execute_result"
    }
   ],
   "source": [
    "# 1st argument is the array to be reshaped; 2nd is the target shape\n",
    "np.reshape(x, (10, 10))"
   ]
  },
  {
   "cell_type": "markdown",
   "metadata": {},
   "source": [
    "As you might intuitively expect, the new shape has to be compatible with the old one. It would be strange if we could, say, reshape an array with shape `(100,)` into one with shape `(179, 1)`; where would the extra 79 elements in the latter magically come from? (You can verify this for yourself by replacing `(10, 10)` with `(179, 1)` above, and watching numpy yell at you.)\n",
    "\n",
    "The easiest way to ensure compatible shapes is to provide a new shape tuple that implies an equal number of elements to the existing array. Meaning, the product of the old shape tuple should be equal to the product of the new one. In the above example, we created a 1-dimensional array with 100 values, and then reshaped it to a 2-dimensional array with shape `(10, 10)`. This works, because `(100,)` and `(10, 10)` both imply the same number of elements (100). We could also have reshaped to `(50, 2)`, `(4, 25)`, and so on.\n",
    "\n",
    "**Exercise**: starting with the same `x` array above, reshape it so that instead of having 2 dimensions, the output now has 4 dimensions (of any size).\n",
    "\n",
    "#### Transposition\n",
    "Another common restructuring operation is *transposition*, which reverses the order of an array's axes. This is easy to visualize in two dimensions:"
   ]
  },
  {
   "cell_type": "code",
   "execution_count": 33,
   "metadata": {},
   "outputs": [
    {
     "name": "stdout",
     "output_type": "stream",
     "text": [
      "x:\n",
      " [[1. 1.]\n",
      " [1. 1.]\n",
      " [1. 1.]\n",
      " [1. 1.]\n",
      " [1. 1.]]\n",
      "\n",
      "x transposed:\n",
      " [[1. 1. 1. 1. 1.]\n",
      " [1. 1. 1. 1. 1.]]\n"
     ]
    }
   ],
   "source": [
    "x = np.ones((5, 2))\n",
    "print(\"x:\\n\", x)\n",
    "print(\"\\nx transposed:\\n\", np.transpose(x))"
   ]
  },
  {
   "cell_type": "markdown",
   "metadata": {},
   "source": [
    "The transposition reverses the axes, so that the shape `(5, 2)` becomes `(2, 5)`. This also works in additional dimensions (e.g., transposing an array with shape `(10, 5, 2)` gives one with shape `(2, 5, 10)`).\n",
    "\n",
    "For convenience, we can also use an array's `.T` attribute as shorthand for `np.transpose()`:"
   ]
  },
  {
   "cell_type": "code",
   "execution_count": 34,
   "metadata": {},
   "outputs": [
    {
     "name": "stdout",
     "output_type": "stream",
     "text": [
      "[[1. 1. 1. 1. 1.]\n",
      " [1. 1. 1. 1. 1.]]\n"
     ]
    }
   ],
   "source": [
    "x = np.ones((5, 2))\n",
    "print(x.T)"
   ]
  },
  {
   "cell_type": "markdown",
   "metadata": {},
   "source": [
    "Remember the misoriented coronal brain slice we plotted earlier? Now that we know how to transpose an array, we're in a position to fix that!"
   ]
  },
  {
   "cell_type": "code",
   "execution_count": 35,
   "metadata": {},
   "outputs": [
    {
     "data": {
      "image/png": "[encoded data removed]",
      "text/plain": [
       "<Figure size 432x288 with 1 Axes>"
      ]
     },
     "metadata": {},
     "output_type": "display_data"
    }
   ],
   "source": [
    "coronal = data[:, 59, :]\n",
    "\n",
    "reoriented = coronal.T[::-1, :]\n",
    "\n",
    "plt.imshow(reoriented);"
   ]
  },
  {
   "cell_type": "markdown",
   "metadata": {},
   "source": [
    "Notice that we actually stacked two operations here: first we transposed the coronal slice (`coronal.T`), and then we reindexed its first axis.\n",
    "\n",
    "**Exercise**: if you're not sure what the  `::-1` slicing syntax above is doing, see if you can figure it out by experimenting with the above code. Try leaving out the transposition and/or the re-indexing steps and seeing what happens to the image. *Bonus*: rewrite the expression so that an indexing step happens *before* the transposition step, but still produces the correct image orientation."
   ]
  },
  {
   "cell_type": "markdown",
   "metadata": {},
   "source": [
    "#### Stacking and splitting arrays\n",
    "Sometimes we want to *concatenate*, or *stack*, multiple arrays into a single one. Numpy provides a `concatenate()` function that allows us to accomplish this efficiently. It takes a sequence of arrays as input, and concatenates them along the desired axis:"
   ]
  },
  {
   "cell_type": "code",
   "execution_count": 36,
   "metadata": {},
   "outputs": [
    {
     "data": {
      "text/plain": [
       "(20, 2)"
      ]
     },
     "execution_count": 36,
     "metadata": {},
     "output_type": "execute_result"
    }
   ],
   "source": [
    "x = np.ones((10, 2))\n",
    "y = np.ones((10, 2)) * 2\n",
    "\n",
    "xy = np.concatenate([x, y], axis=0)\n",
    "\n",
    "xy.shape"
   ]
  },
  {
   "cell_type": "markdown",
   "metadata": {},
   "source": [
    "Above we concatenated two axes of shape `(10, 2)` along the first axis (i.e., `axis=0`). We could also concatenate along the second axis:"
   ]
  },
  {
   "cell_type": "code",
   "execution_count": 37,
   "metadata": {},
   "outputs": [
    {
     "data": {
      "text/plain": [
       "(10, 4)"
      ]
     },
     "execution_count": 37,
     "metadata": {},
     "output_type": "execute_result"
    }
   ],
   "source": [
    "xy = np.concatenate([x , y], axis=1)\n",
    "\n",
    "xy.shape"
   ]
  },
  {
   "cell_type": "markdown",
   "metadata": {},
   "source": [
    "For convenience, numpy also provides `vstack()` and `hstack()` functions, which are just wrappers around `concatenate()` that take care of the axis argument for you (as long as you only need to concatenate along one of the first two axes). I.e., `vstack()` (for \"vertical stack\") is equivalent to calling `concenate()` with `axis=0`, and `hstack()` (for \"horizontal stack\") is equivalent to calling it with `axis=1`. (As an **exercise**, you can try replacing the `concatenate()` calls above with the stacking functions to produce the same result.)\n",
    "\n",
    "\n",
    "Just as we can stack multiple arrays into one, we can also split a single array into multiple parts. Numpy provides `split()`, `vsplit()`, and `hsplit()`, which do basically the opposite of `concatenate()`, `vstack()`, and `hstack()`, respectively."
   ]
  },
  {
   "cell_type": "code",
   "execution_count": 38,
   "metadata": {},
   "outputs": [
    {
     "data": {
      "text/plain": [
       "[array([1, 2, 5]), array([9, 3, 1, 4]), array([5, 2, 9, 4])]"
      ]
     },
     "execution_count": 38,
     "metadata": {},
     "output_type": "execute_result"
    }
   ],
   "source": [
    "x = np.array([1, 2, 5, 9, 3, 1, 4, 5, 2, 9, 4])\n",
    "\n",
    "np.split(x, [3, 7], axis=0)"
   ]
  },
  {
   "cell_type": "markdown",
   "metadata": {},
   "source": [
    "Note that `split()` takes one more argument than `concatenate()`, because we need to specify the split points along the arget axis. Above, we specify that we want to split the array at the indices `3` and `7`."
   ]
  },
  {
   "cell_type": "markdown",
   "metadata": {},
   "source": [
    "### Array arithmetic\n",
    "The main purpose of the array data structure is to support numerical operations, so let's look at some of those. We'll start with simple arithmetic: addition, subtraction, etc. In numpy, all arithmetic operations are applied to arrays in an *element-wise* fashion. By element-wise, we mean that the operation is applied identically to every element in the array. For example:"
   ]
  },
  {
   "cell_type": "code",
   "execution_count": 39,
   "metadata": {},
   "outputs": [
    {
     "data": {
      "text/plain": [
       "array([ 2, 12,  8,  4])"
      ]
     },
     "execution_count": 39,
     "metadata": {},
     "output_type": "execute_result"
    }
   ],
   "source": [
    "x = np.array([1, 6, 4, 2])\n",
    "\n",
    "y = x * 2\n",
    "\n",
    "y"
   ]
  },
  {
   "cell_type": "markdown",
   "metadata": {},
   "source": [
    "Each element in `y` is double the value at the corresponding position in `x`.\n",
    "\n",
    "The multiplication operation should look familiar, as it uses the standard Python operator `*`. The same goes for the other operators natively available in Python: addition (`+`), subtraction (`-`), division (`/`), power (`**`), modulo (`%`), and floor (or integer) division (`//`). Some more examples:"
   ]
  },
  {
   "cell_type": "code",
   "execution_count": 40,
   "metadata": {},
   "outputs": [
    {
     "name": "stdout",
     "output_type": "stream",
     "text": [
      "x: [0 1 2 3 4 5 6 7 8 9]\n",
      "\n",
      "Add 10 to x: [10 11 12 13 14 15 16 17 18 19]\n",
      "Divide x by 2: [0.  0.5 1.  1.5 2.  2.5 3.  3.5 4.  4.5]\n",
      "x modulo 2: [0 1 0 1 0 1 0 1 0 1]\n",
      "x raised to the power of 3: [  0   1   8  27  64 125 216 343 512 729]\n"
     ]
    }
   ],
   "source": [
    "# np.arange() builds an array with sequentially increasing values\n",
    "x = np.arange(10)\n",
    "print(\"x:\", x)\n",
    "\n",
    "print(\"\\nAdd 10 to x:\", x + 10)\n",
    "print(\"Divide x by 2:\", x / 2)\n",
    "print(\"x modulo 2:\", x % 2)\n",
    "print(\"x raised to the power of 3:\", x ** 3)"
   ]
  },
  {
   "cell_type": "markdown",
   "metadata": {},
   "source": [
    "For all of these operations, so long as the two operands are an array and a single number, the output of the operation will always be a new array with the same dimensions as the input array.\n",
    "\n",
    "What about arithmetic operations where the other operand *isn't* a number? Can we, for example, subtract one array from another? Yes! We just have to make sure to that the two arrays have the same shape:"
   ]
  },
  {
   "cell_type": "code",
   "execution_count": 41,
   "metadata": {},
   "outputs": [
    {
     "data": {
      "text/plain": [
       "array([ 8,  2, -2,  1])"
      ]
     },
     "execution_count": 41,
     "metadata": {},
     "output_type": "execute_result"
    }
   ],
   "source": [
    "a = np.array([10, 5, 2, 8])\n",
    "b = np.array([2, 3, 4, 7])\n",
    "\n",
    "a - b"
   ]
  },
  {
   "cell_type": "markdown",
   "metadata": {},
   "source": [
    "The above subtraction still proceeds element-wise: the first element in `b` is subtracted from the first element in `a`; the second element in `b` is subtracted from the second in `a`; and so on.\n",
    "\n",
    "#### In-place operations\n",
    "When we perform an arithmetic operation like the ones above, numpy will create and return an entirely new array. But sometimes we want to modify an existing array, without creating any new variables. In such cases, we can append the `=` operator to the arithmetic operator to indicate that we want the result to be stored in the same array we used as input. This is known as *in-place* modification:"
   ]
  },
  {
   "cell_type": "code",
   "execution_count": 42,
   "metadata": {},
   "outputs": [
    {
     "data": {
      "text/plain": [
       "array([ 2, 12,  8,  4])"
      ]
     },
     "execution_count": 42,
     "metadata": {},
     "output_type": "execute_result"
    }
   ],
   "source": [
    "x = np.array([1, 6, 4, 2])\n",
    "\n",
    "# Shorthand for x = x * 2\n",
    "x *= 2\n",
    "\n",
    "x"
   ]
  },
  {
   "cell_type": "markdown",
   "metadata": {},
   "source": [
    "### Mathematical functions\n",
    "Once we've imported numpy into our namespace, we have easy access to dozens of mathematical functions we can use to transform arrays in various ways. Many of these operate element-wise on an array. For example, we can use `np.abs()` to get the the absolute value of each element:"
   ]
  },
  {
   "cell_type": "code",
   "execution_count": 43,
   "metadata": {},
   "outputs": [
    {
     "data": {
      "text/plain": [
       "array([ 1. ,  5. , 48. ,  7. , 12. ,  6. ,  4. ,  1.8,  9. ])"
      ]
     },
     "execution_count": 43,
     "metadata": {},
     "output_type": "execute_result"
    }
   ],
   "source": [
    "y = np.array([1, 5, 48, -7, 12, 6, -4, 1.8, 9])\n",
    "\n",
    "# Take the absolute value of each element\n",
    "np.abs(y)"
   ]
  },
  {
   "cell_type": "markdown",
   "metadata": {},
   "source": [
    "And similarly, `np.log()` gives us the natural log of each element:"
   ]
  },
  {
   "cell_type": "code",
   "execution_count": 44,
   "metadata": {},
   "outputs": [
    {
     "data": {
      "text/plain": [
       "array([1.38629436, 1.60943791, 0.        , 4.60517019, 4.31748811])"
      ]
     },
     "execution_count": 44,
     "metadata": {},
     "output_type": "execute_result"
    }
   ],
   "source": [
    "y = [4, 5, 1, 100, 75]\n",
    "\n",
    "# Natural log of each element\n",
    "np.log(y)"
   ]
  },
  {
   "cell_type": "markdown",
   "metadata": {},
   "source": [
    "There's also support for the full complement of trigonometric functions (`sin()`, `tan()`, `cosh()`, etc.):"
   ]
  },
  {
   "cell_type": "code",
   "execution_count": 45,
   "metadata": {},
   "outputs": [
    {
     "data": {
      "text/plain": [
       "array([ 0.15425145, -0.44807362,  0.7421542 , -0.71798508])"
      ]
     },
     "execution_count": 45,
     "metadata": {},
     "output_type": "execute_result"
    }
   ],
   "source": [
    "y = [30, 90, 51, 216]\n",
    "np.cos(y)"
   ]
  },
  {
   "cell_type": "markdown",
   "metadata": {},
   "source": [
    "### Aggregation/summarization\n",
    "Another set of functions help us summarize or aggregate arrays in various ways. These are mostly *unary* functions, meaning that they take a single array as an argument.\n",
    "\n",
    "For example, `sum()` produces the sum of the elements:"
   ]
  },
  {
   "cell_type": "code",
   "execution_count": 46,
   "metadata": {},
   "outputs": [
    {
     "data": {
      "text/plain": [
       "7"
      ]
     },
     "execution_count": 46,
     "metadata": {},
     "output_type": "execute_result"
    }
   ],
   "source": [
    "x = np.array([-10, 20, 0, -3])\n",
    "\n",
    "np.sum(x)"
   ]
  },
  {
   "cell_type": "markdown",
   "metadata": {},
   "source": [
    "And similarly, we could get the maximum, minimum, mean, median, variance, etc.:"
   ]
  },
  {
   "cell_type": "code",
   "execution_count": 47,
   "metadata": {},
   "outputs": [
    {
     "name": "stdout",
     "output_type": "stream",
     "text": [
      "Max of y: 48.0\n",
      "Min of y: -7.0\n",
      "Mean of y: 7.977777777777778\n",
      "Median of y: 5.0\n",
      "Variance of y: 231.8261728395062\n"
     ]
    }
   ],
   "source": [
    "y = np.array([1, 5, 48, -7, 12, 6, -4, 1.8, 9])\n",
    "\n",
    "print(\"Max of y:\", np.max(y))\n",
    "print(\"Min of y:\", np.min(y))\n",
    "print(\"Mean of y:\", np.mean(y))\n",
    "print(\"Median of y:\", np.median(y))\n",
    "print(\"Variance of y:\", np.var(y))"
   ]
  },
  {
   "cell_type": "markdown",
   "metadata": {},
   "source": [
    "#### Applying functions along an axis\n",
    "Many functions in numpy take an `axis` argument (you've already seen this for, e.g., `concatenate()`). This argument indicates which axis the function should be applied along. All of the above summarization functions, for example, accept an `axis` argument, which allows us to take, e.g., the mean or sum along a specific axis:"
   ]
  },
  {
   "cell_type": "code",
   "execution_count": 48,
   "metadata": {},
   "outputs": [
    {
     "name": "stdout",
     "output_type": "stream",
     "text": [
      "Means over the first axis (i.e., mean of each column): [47.5 48.5 49.5 50.5 51.5]\n",
      "Means over the second axis (i.e., mean of each row): [ 2.  7. 12. 17. 22. 27. 32. 37. 42. 47. 52. 57. 62. 67. 72. 77. 82. 87.\n",
      " 92. 97.]\n"
     ]
    }
   ],
   "source": [
    "x = np.arange(100)\n",
    "x = np.reshape(x, (20, 5))\n",
    "\n",
    "print(\"Means over the first axis (i.e., mean of each column):\", np.mean(x, axis=0))\n",
    "print(\"Means over the second axis (i.e., mean of each row):\", np.mean(x, axis=1))"
   ]
  },
  {
   "cell_type": "markdown",
   "metadata": {},
   "source": [
    "Notice that the two outputs have different shapes. The input array had shape `(20, 5)`, so depending on which axis we take the mean along, we end up with a 1-d array with either 20 or 5 elements."
   ]
  },
  {
   "cell_type": "markdown",
   "metadata": {},
   "source": [
    "### Linear algebra\n",
    "Numpy provides access to fast linear algebra routines in either the root namespace or the `linalg` module. Some examples:"
   ]
  },
  {
   "cell_type": "code",
   "execution_count": 49,
   "metadata": {},
   "outputs": [
    {
     "data": {
      "text/plain": [
       "array([[1., 0., 0., 0.],\n",
       "       [0., 1., 0., 0.],\n",
       "       [0., 0., 1., 0.],\n",
       "       [0., 0., 0., 1.]])"
      ]
     },
     "execution_count": 49,
     "metadata": {},
     "output_type": "execute_result"
    }
   ],
   "source": [
    "# Identity matrix\n",
    "np.eye(4)"
   ]
  },
  {
   "cell_type": "code",
   "execution_count": 50,
   "metadata": {},
   "outputs": [
    {
     "data": {
      "text/plain": [
       "array([[-0.06411868,  0.01232084, -0.02615036, -0.06939904],\n",
       "       [ 0.09705808,  0.0088006 ,  0.26703545,  0.0932864 ],\n",
       "       [-0.06688459, -0.07342218, -0.31355293, -0.17827508],\n",
       "       [-0.06336434,  0.03570531, -0.4023133 , -0.22152376]])"
      ]
     },
     "execution_count": 50,
     "metadata": {},
     "output_type": "execute_result"
    }
   ],
   "source": [
    "x = np.random.randint(-10, 10, size=(4, 4))\n",
    "\n",
    "# Invert a matrix\n",
    "np.linalg.inv(x)"
   ]
  },
  {
   "cell_type": "code",
   "execution_count": 51,
   "metadata": {},
   "outputs": [
    {
     "data": {
      "text/plain": [
       "array([[105,  77],\n",
       "       [134, 108]])"
      ]
     },
     "execution_count": 51,
     "metadata": {},
     "output_type": "execute_result"
    }
   ],
   "source": [
    "x = np.random.randint(0, 10, size=(2, 5))\n",
    "y = np.random.randint(0, 10, size=(5, 2))\n",
    "\n",
    "# Dot product\n",
    "x.dot(y)"
   ]
  },
  {
   "cell_type": "markdown",
   "metadata": {},
   "source": [
    "## Where to next?\n",
    "The material covered above should be sufficient to get you started working with numpy, but we're really only scratching the surface. In a second notebook, we'll cover a few more important concepts, as well as some useful tips and tricks. But for a much more thorough introduction to numpy, we recommend working through the [numpy chapter](https://jakevdp.github.io/PythonDataScienceHandbook/02.00-introduction-to-numpy.html) of Jake Vanderplas's exceptional [Python Data Science Handbook](https://jakevdp.github.io/PythonDataScienceHandbook/index.html), available free online.\n",
    "\n",
    "### Pandas\n",
    "Numpy is the core numerical library in Python, and many other widely used scientific computing libraries build directly on its array structures. One of the most popular such libraries is [pandas](https://pandas.pydata.org/), a data analysis library that supplements numpy's array structures with data-oriented structures like data frames, as well as extensive functionality for performing common data processing and analysis operations on tabular data.\n",
    "\n",
    "We don't have enough time in the schedule to cover pandas, but we strongly recommend working through a tutorial or two online. Here, again, it's hard to do better than the [pandas chapter](https://jakevdp.github.io/PythonDataScienceHandbook/03.00-introduction-to-pandas.html) in Jake Vanderplas's book.\n",
    "\n",
    "Just to give you a sense of what's possible in pandas, here's a series of examples illustrating just a sliver of the functionality the library provides:"
   ]
  },
  {
   "cell_type": "code",
   "execution_count": 52,
   "metadata": {},
   "outputs": [],
   "source": [
    "import pandas as pd\n",
    "\n",
    "# read_csv() is a workhorse text-reading function that can handle almost\n",
    "# any kind of tabular plain-text representation of data. Pandas also has\n",
    "# a range of utilities for reading from other formats, e.g., read_excel(),\n",
    "# read_sas(), etc.\n",
    "data = pd.read_csv('data/abide2.tsv', sep='\\t')"
   ]
  },
  {
   "cell_type": "code",
   "execution_count": 53,
   "metadata": {},
   "outputs": [
    {
     "data": {
      "text/html": [
       "<div>\n",
       "<style scoped>\n",
       "    .dataframe tbody tr th:only-of-type {\n",
       "        vertical-align: middle;\n",
       "    }\n",
       "\n",
       "    .dataframe tbody tr th {\n",
       "        vertical-align: top;\n",
       "    }\n",
       "\n",
       "    .dataframe thead th {\n",
       "        text-align: right;\n",
       "    }\n",
       "</style>\n",
       "<table border=\"1\" class=\"dataframe\">\n",
       "  <thead>\n",
       "    <tr style=\"text-align: right;\">\n",
       "      <th></th>\n",
       "      <th>site</th>\n",
       "      <th>subject</th>\n",
       "      <th>age</th>\n",
       "      <th>age_resid</th>\n",
       "      <th>sex</th>\n",
       "      <th>group</th>\n",
       "      <th>fsArea_L_V1_ROI</th>\n",
       "      <th>fsArea_L_MST_ROI</th>\n",
       "      <th>fsArea_L_V6_ROI</th>\n",
       "      <th>fsArea_L_V2_ROI</th>\n",
       "      <th>...</th>\n",
       "      <th>fsCT_R_p47r_ROI</th>\n",
       "      <th>fsCT_R_TGv_ROI</th>\n",
       "      <th>fsCT_R_MBelt_ROI</th>\n",
       "      <th>fsCT_R_LBelt_ROI</th>\n",
       "      <th>fsCT_R_A4_ROI</th>\n",
       "      <th>fsCT_R_STSva_ROI</th>\n",
       "      <th>fsCT_R_TE1m_ROI</th>\n",
       "      <th>fsCT_R_PI_ROI</th>\n",
       "      <th>fsCT_R_a32pr_ROI</th>\n",
       "      <th>fsCT_R_p24_ROI</th>\n",
       "    </tr>\n",
       "  </thead>\n",
       "  <tbody>\n",
       "    <tr>\n",
       "      <th>0</th>\n",
       "      <td>ABIDEII-KKI_1</td>\n",
       "      <td>29293</td>\n",
       "      <td>8.893151</td>\n",
       "      <td>13.642852</td>\n",
       "      <td>2.0</td>\n",
       "      <td>1.0</td>\n",
       "      <td>2750.0</td>\n",
       "      <td>306.0</td>\n",
       "      <td>354.0</td>\n",
       "      <td>2123.0</td>\n",
       "      <td>...</td>\n",
       "      <td>3.362</td>\n",
       "      <td>2.827</td>\n",
       "      <td>2.777</td>\n",
       "      <td>2.526</td>\n",
       "      <td>3.202</td>\n",
       "      <td>3.024</td>\n",
       "      <td>3.354</td>\n",
       "      <td>2.629</td>\n",
       "      <td>2.699</td>\n",
       "      <td>3.179</td>\n",
       "    </tr>\n",
       "    <tr>\n",
       "      <th>1</th>\n",
       "      <td>ABIDEII-OHSU_1</td>\n",
       "      <td>28997</td>\n",
       "      <td>12.000000</td>\n",
       "      <td>16.081732</td>\n",
       "      <td>2.0</td>\n",
       "      <td>1.0</td>\n",
       "      <td>2836.0</td>\n",
       "      <td>186.0</td>\n",
       "      <td>354.0</td>\n",
       "      <td>2261.0</td>\n",
       "      <td>...</td>\n",
       "      <td>2.809</td>\n",
       "      <td>3.539</td>\n",
       "      <td>2.944</td>\n",
       "      <td>2.769</td>\n",
       "      <td>3.530</td>\n",
       "      <td>3.079</td>\n",
       "      <td>3.282</td>\n",
       "      <td>2.670</td>\n",
       "      <td>2.746</td>\n",
       "      <td>3.324</td>\n",
       "    </tr>\n",
       "    <tr>\n",
       "      <th>2</th>\n",
       "      <td>ABIDEII-GU_1</td>\n",
       "      <td>28845</td>\n",
       "      <td>8.390000</td>\n",
       "      <td>12.866264</td>\n",
       "      <td>1.0</td>\n",
       "      <td>2.0</td>\n",
       "      <td>3394.0</td>\n",
       "      <td>223.0</td>\n",
       "      <td>373.0</td>\n",
       "      <td>2827.0</td>\n",
       "      <td>...</td>\n",
       "      <td>2.435</td>\n",
       "      <td>3.321</td>\n",
       "      <td>2.799</td>\n",
       "      <td>2.388</td>\n",
       "      <td>3.148</td>\n",
       "      <td>3.125</td>\n",
       "      <td>3.116</td>\n",
       "      <td>2.891</td>\n",
       "      <td>2.940</td>\n",
       "      <td>3.232</td>\n",
       "    </tr>\n",
       "    <tr>\n",
       "      <th>3</th>\n",
       "      <td>ABIDEII-NYU_1</td>\n",
       "      <td>29210</td>\n",
       "      <td>8.300000</td>\n",
       "      <td>13.698139</td>\n",
       "      <td>1.0</td>\n",
       "      <td>1.0</td>\n",
       "      <td>3382.0</td>\n",
       "      <td>266.0</td>\n",
       "      <td>422.0</td>\n",
       "      <td>2686.0</td>\n",
       "      <td>...</td>\n",
       "      <td>3.349</td>\n",
       "      <td>3.344</td>\n",
       "      <td>2.694</td>\n",
       "      <td>3.030</td>\n",
       "      <td>3.258</td>\n",
       "      <td>2.774</td>\n",
       "      <td>3.383</td>\n",
       "      <td>2.696</td>\n",
       "      <td>3.014</td>\n",
       "      <td>3.264</td>\n",
       "    </tr>\n",
       "    <tr>\n",
       "      <th>4</th>\n",
       "      <td>ABIDEII-EMC_1</td>\n",
       "      <td>29894</td>\n",
       "      <td>7.772758</td>\n",
       "      <td>14.772459</td>\n",
       "      <td>2.0</td>\n",
       "      <td>2.0</td>\n",
       "      <td>3080.0</td>\n",
       "      <td>161.0</td>\n",
       "      <td>346.0</td>\n",
       "      <td>2105.0</td>\n",
       "      <td>...</td>\n",
       "      <td>2.428</td>\n",
       "      <td>2.940</td>\n",
       "      <td>2.809</td>\n",
       "      <td>2.607</td>\n",
       "      <td>3.430</td>\n",
       "      <td>2.752</td>\n",
       "      <td>2.645</td>\n",
       "      <td>3.111</td>\n",
       "      <td>3.219</td>\n",
       "      <td>4.128</td>\n",
       "    </tr>\n",
       "  </tbody>\n",
       "</table>\n",
       "<p>5 rows × 1446 columns</p>\n",
       "</div>"
      ],
      "text/plain": [
       "             site  subject        age  age_resid  sex  group  fsArea_L_V1_ROI  \\\n",
       "0   ABIDEII-KKI_1    29293   8.893151  13.642852  2.0    1.0           2750.0   \n",
       "1  ABIDEII-OHSU_1    28997  12.000000  16.081732  2.0    1.0           2836.0   \n",
       "2    ABIDEII-GU_1    28845   8.390000  12.866264  1.0    2.0           3394.0   \n",
       "3   ABIDEII-NYU_1    29210   8.300000  13.698139  1.0    1.0           3382.0   \n",
       "4   ABIDEII-EMC_1    29894   7.772758  14.772459  2.0    2.0           3080.0   \n",
       "\n",
       "   fsArea_L_MST_ROI  fsArea_L_V6_ROI  fsArea_L_V2_ROI  ...  fsCT_R_p47r_ROI  \\\n",
       "0             306.0            354.0           2123.0  ...            3.362   \n",
       "1             186.0            354.0           2261.0  ...            2.809   \n",
       "2             223.0            373.0           2827.0  ...            2.435   \n",
       "3             266.0            422.0           2686.0  ...            3.349   \n",
       "4             161.0            346.0           2105.0  ...            2.428   \n",
       "\n",
       "   fsCT_R_TGv_ROI  fsCT_R_MBelt_ROI  fsCT_R_LBelt_ROI  fsCT_R_A4_ROI  \\\n",
       "0           2.827             2.777             2.526          3.202   \n",
       "1           3.539             2.944             2.769          3.530   \n",
       "2           3.321             2.799             2.388          3.148   \n",
       "3           3.344             2.694             3.030          3.258   \n",
       "4           2.940             2.809             2.607          3.430   \n",
       "\n",
       "   fsCT_R_STSva_ROI  fsCT_R_TE1m_ROI  fsCT_R_PI_ROI  fsCT_R_a32pr_ROI  \\\n",
       "0             3.024            3.354          2.629             2.699   \n",
       "1             3.079            3.282          2.670             2.746   \n",
       "2             3.125            3.116          2.891             2.940   \n",
       "3             2.774            3.383          2.696             3.014   \n",
       "4             2.752            2.645          3.111             3.219   \n",
       "\n",
       "   fsCT_R_p24_ROI  \n",
       "0           3.179  \n",
       "1           3.324  \n",
       "2           3.232  \n",
       "3           3.264  \n",
       "4           4.128  \n",
       "\n",
       "[5 rows x 1446 columns]"
      ]
     },
     "execution_count": 53,
     "metadata": {},
     "output_type": "execute_result"
    }
   ],
   "source": [
    "# Inspect the first 5 rows of the file\n",
    "data.head(5)"
   ]
  },
  {
   "cell_type": "code",
   "execution_count": 54,
   "metadata": {},
   "outputs": [
    {
     "data": {
      "text/html": [
       "<div>\n",
       "<style scoped>\n",
       "    .dataframe tbody tr th:only-of-type {\n",
       "        vertical-align: middle;\n",
       "    }\n",
       "\n",
       "    .dataframe tbody tr th {\n",
       "        vertical-align: top;\n",
       "    }\n",
       "\n",
       "    .dataframe thead th {\n",
       "        text-align: right;\n",
       "    }\n",
       "</style>\n",
       "<table border=\"1\" class=\"dataframe\">\n",
       "  <thead>\n",
       "    <tr style=\"text-align: right;\">\n",
       "      <th></th>\n",
       "      <th>subject</th>\n",
       "      <th>age</th>\n",
       "      <th>age_resid</th>\n",
       "      <th>sex</th>\n",
       "      <th>group</th>\n",
       "    </tr>\n",
       "  </thead>\n",
       "  <tbody>\n",
       "    <tr>\n",
       "      <th>count</th>\n",
       "      <td>1004.000000</td>\n",
       "      <td>1004.000000</td>\n",
       "      <td>1004.000000</td>\n",
       "      <td>1004.000000</td>\n",
       "      <td>1004.000000</td>\n",
       "    </tr>\n",
       "    <tr>\n",
       "      <th>mean</th>\n",
       "      <td>29278.616534</td>\n",
       "      <td>15.101264</td>\n",
       "      <td>15.102124</td>\n",
       "      <td>1.238048</td>\n",
       "      <td>1.538845</td>\n",
       "    </tr>\n",
       "    <tr>\n",
       "      <th>std</th>\n",
       "      <td>374.424343</td>\n",
       "      <td>9.433702</td>\n",
       "      <td>5.363841</td>\n",
       "      <td>0.426101</td>\n",
       "      <td>0.498737</td>\n",
       "    </tr>\n",
       "    <tr>\n",
       "      <th>min</th>\n",
       "      <td>28675.000000</td>\n",
       "      <td>5.128000</td>\n",
       "      <td>-5.390924</td>\n",
       "      <td>1.000000</td>\n",
       "      <td>1.000000</td>\n",
       "    </tr>\n",
       "    <tr>\n",
       "      <th>25%</th>\n",
       "      <td>28974.750000</td>\n",
       "      <td>9.280137</td>\n",
       "      <td>13.215053</td>\n",
       "      <td>1.000000</td>\n",
       "      <td>1.000000</td>\n",
       "    </tr>\n",
       "    <tr>\n",
       "      <th>50%</th>\n",
       "      <td>29247.500000</td>\n",
       "      <td>11.667580</td>\n",
       "      <td>14.909247</td>\n",
       "      <td>1.000000</td>\n",
       "      <td>2.000000</td>\n",
       "    </tr>\n",
       "    <tr>\n",
       "      <th>75%</th>\n",
       "      <td>29542.250000</td>\n",
       "      <td>18.015000</td>\n",
       "      <td>16.620996</td>\n",
       "      <td>1.000000</td>\n",
       "      <td>2.000000</td>\n",
       "    </tr>\n",
       "    <tr>\n",
       "      <th>max</th>\n",
       "      <td>30167.000000</td>\n",
       "      <td>64.000000</td>\n",
       "      <td>44.644232</td>\n",
       "      <td>2.000000</td>\n",
       "      <td>2.000000</td>\n",
       "    </tr>\n",
       "  </tbody>\n",
       "</table>\n",
       "</div>"
      ],
      "text/plain": [
       "            subject          age    age_resid          sex        group\n",
       "count   1004.000000  1004.000000  1004.000000  1004.000000  1004.000000\n",
       "mean   29278.616534    15.101264    15.102124     1.238048     1.538845\n",
       "std      374.424343     9.433702     5.363841     0.426101     0.498737\n",
       "min    28675.000000     5.128000    -5.390924     1.000000     1.000000\n",
       "25%    28974.750000     9.280137    13.215053     1.000000     1.000000\n",
       "50%    29247.500000    11.667580    14.909247     1.000000     2.000000\n",
       "75%    29542.250000    18.015000    16.620996     1.000000     2.000000\n",
       "max    30167.000000    64.000000    44.644232     2.000000     2.000000"
      ]
     },
     "execution_count": 54,
     "metadata": {},
     "output_type": "execute_result"
    }
   ],
   "source": [
    "# Summarize the properties of the first 6 rows in the dataset\n",
    "data.iloc[:, :6].describe()"
   ]
  },
  {
   "cell_type": "code",
   "execution_count": 55,
   "metadata": {
    "scrolled": true
   },
   "outputs": [
    {
     "data": {
      "text/plain": [
       "0        8.893151\n",
       "1       12.000000\n",
       "2        8.390000\n",
       "3        8.300000\n",
       "4        7.772758\n",
       "5        8.270000\n",
       "6       18.750000\n",
       "7       22.000000\n",
       "8       13.249315\n",
       "9       12.900000\n",
       "10      12.068493\n",
       "11      12.558904\n",
       "12      10.810959\n",
       "13       7.090000\n",
       "14      12.558904\n",
       "15      10.019178\n",
       "16      21.000000\n",
       "17       6.499658\n",
       "18      10.000000\n",
       "19      13.076712\n",
       "20      12.605479\n",
       "21      10.663014\n",
       "22      10.640000\n",
       "23      51.000000\n",
       "24      20.000000\n",
       "25      16.366900\n",
       "26       5.960000\n",
       "27      28.083333\n",
       "28      11.900000\n",
       "29      15.300000\n",
       "          ...    \n",
       "974     19.000000\n",
       "975     11.090411\n",
       "976     18.750000\n",
       "977      8.931507\n",
       "978     11.821918\n",
       "979     19.000000\n",
       "980      9.578082\n",
       "981     12.764384\n",
       "982     11.353425\n",
       "983     10.427397\n",
       "984      8.723288\n",
       "985     18.750000\n",
       "986     20.607800\n",
       "987     12.000000\n",
       "988     19.583333\n",
       "989     14.000000\n",
       "990     18.000000\n",
       "991     32.624200\n",
       "992     15.290000\n",
       "993     26.000000\n",
       "994     17.560000\n",
       "995     12.200000\n",
       "996      5.603000\n",
       "997      8.745205\n",
       "998     15.000000\n",
       "999     20.000000\n",
       "1000    10.862000\n",
       "1001    11.200000\n",
       "1002     9.789041\n",
       "1003     6.194000\n",
       "Name: age, Length: 1004, dtype: float64"
      ]
     },
     "execution_count": 55,
     "metadata": {},
     "output_type": "execute_result"
    }
   ],
   "source": [
    "# Select a column by name\n",
    "data['age']"
   ]
  },
  {
   "cell_type": "code",
   "execution_count": 56,
   "metadata": {
    "scrolled": true
   },
   "outputs": [
    {
     "data": {
      "text/html": [
       "<div>\n",
       "<style scoped>\n",
       "    .dataframe tbody tr th:only-of-type {\n",
       "        vertical-align: middle;\n",
       "    }\n",
       "\n",
       "    .dataframe tbody tr th {\n",
       "        vertical-align: top;\n",
       "    }\n",
       "\n",
       "    .dataframe thead th {\n",
       "        text-align: right;\n",
       "    }\n",
       "</style>\n",
       "<table border=\"1\" class=\"dataframe\">\n",
       "  <thead>\n",
       "    <tr style=\"text-align: right;\">\n",
       "      <th></th>\n",
       "      <th>age</th>\n",
       "      <th>sex</th>\n",
       "    </tr>\n",
       "  </thead>\n",
       "  <tbody>\n",
       "    <tr>\n",
       "      <th>2</th>\n",
       "      <td>8.39</td>\n",
       "      <td>1.0</td>\n",
       "    </tr>\n",
       "    <tr>\n",
       "      <th>5</th>\n",
       "      <td>8.27</td>\n",
       "      <td>1.0</td>\n",
       "    </tr>\n",
       "  </tbody>\n",
       "</table>\n",
       "</div>"
      ],
      "text/plain": [
       "    age  sex\n",
       "2  8.39  1.0\n",
       "5  8.27  1.0"
      ]
     },
     "execution_count": 56,
     "metadata": {},
     "output_type": "execute_result"
    }
   ],
   "source": [
    "# Select values at specific rows and columns\n",
    "data.loc[[2, 5], ['age', 'sex']]"
   ]
  },
  {
   "cell_type": "code",
   "execution_count": 57,
   "metadata": {},
   "outputs": [
    {
     "data": {
      "text/html": [
       "<div>\n",
       "<style scoped>\n",
       "    .dataframe tbody tr th:only-of-type {\n",
       "        vertical-align: middle;\n",
       "    }\n",
       "\n",
       "    .dataframe tbody tr th {\n",
       "        vertical-align: top;\n",
       "    }\n",
       "\n",
       "    .dataframe thead th {\n",
       "        text-align: right;\n",
       "    }\n",
       "</style>\n",
       "<table border=\"1\" class=\"dataframe\">\n",
       "  <thead>\n",
       "    <tr style=\"text-align: right;\">\n",
       "      <th></th>\n",
       "      <th>site</th>\n",
       "      <th>subject</th>\n",
       "      <th>age</th>\n",
       "      <th>age_resid</th>\n",
       "      <th>sex</th>\n",
       "      <th>group</th>\n",
       "      <th>fsArea_L_V1_ROI</th>\n",
       "      <th>fsArea_L_MST_ROI</th>\n",
       "      <th>fsArea_L_V6_ROI</th>\n",
       "      <th>fsArea_L_V2_ROI</th>\n",
       "      <th>...</th>\n",
       "      <th>fsCT_R_p47r_ROI</th>\n",
       "      <th>fsCT_R_TGv_ROI</th>\n",
       "      <th>fsCT_R_MBelt_ROI</th>\n",
       "      <th>fsCT_R_LBelt_ROI</th>\n",
       "      <th>fsCT_R_A4_ROI</th>\n",
       "      <th>fsCT_R_STSva_ROI</th>\n",
       "      <th>fsCT_R_TE1m_ROI</th>\n",
       "      <th>fsCT_R_PI_ROI</th>\n",
       "      <th>fsCT_R_a32pr_ROI</th>\n",
       "      <th>fsCT_R_p24_ROI</th>\n",
       "    </tr>\n",
       "  </thead>\n",
       "  <tbody>\n",
       "    <tr>\n",
       "      <th>251</th>\n",
       "      <td>ABIDEII-NYU_2</td>\n",
       "      <td>29170</td>\n",
       "      <td>5.128</td>\n",
       "      <td>13.444107</td>\n",
       "      <td>1.0</td>\n",
       "      <td>1.0</td>\n",
       "      <td>2729.0</td>\n",
       "      <td>293.0</td>\n",
       "      <td>316.0</td>\n",
       "      <td>2536.0</td>\n",
       "      <td>...</td>\n",
       "      <td>2.937</td>\n",
       "      <td>2.861</td>\n",
       "      <td>2.344</td>\n",
       "      <td>2.894</td>\n",
       "      <td>3.126</td>\n",
       "      <td>2.744</td>\n",
       "      <td>3.149</td>\n",
       "      <td>2.379</td>\n",
       "      <td>2.925</td>\n",
       "      <td>2.580</td>\n",
       "    </tr>\n",
       "    <tr>\n",
       "      <th>518</th>\n",
       "      <td>ABIDEII-NYU_1</td>\n",
       "      <td>29224</td>\n",
       "      <td>5.220</td>\n",
       "      <td>10.618139</td>\n",
       "      <td>2.0</td>\n",
       "      <td>1.0</td>\n",
       "      <td>3495.0</td>\n",
       "      <td>182.0</td>\n",
       "      <td>495.0</td>\n",
       "      <td>3041.0</td>\n",
       "      <td>...</td>\n",
       "      <td>3.426</td>\n",
       "      <td>3.747</td>\n",
       "      <td>2.585</td>\n",
       "      <td>3.092</td>\n",
       "      <td>3.261</td>\n",
       "      <td>2.683</td>\n",
       "      <td>3.393</td>\n",
       "      <td>1.878</td>\n",
       "      <td>3.398</td>\n",
       "      <td>2.965</td>\n",
       "    </tr>\n",
       "    <tr>\n",
       "      <th>291</th>\n",
       "      <td>ABIDEII-NYU_2</td>\n",
       "      <td>29167</td>\n",
       "      <td>5.255</td>\n",
       "      <td>13.571107</td>\n",
       "      <td>1.0</td>\n",
       "      <td>1.0</td>\n",
       "      <td>2436.0</td>\n",
       "      <td>185.0</td>\n",
       "      <td>350.0</td>\n",
       "      <td>2225.0</td>\n",
       "      <td>...</td>\n",
       "      <td>2.863</td>\n",
       "      <td>3.457</td>\n",
       "      <td>2.494</td>\n",
       "      <td>2.655</td>\n",
       "      <td>3.400</td>\n",
       "      <td>2.771</td>\n",
       "      <td>3.210</td>\n",
       "      <td>2.023</td>\n",
       "      <td>3.426</td>\n",
       "      <td>3.241</td>\n",
       "    </tr>\n",
       "    <tr>\n",
       "      <th>231</th>\n",
       "      <td>ABIDEII-NYU_2</td>\n",
       "      <td>29174</td>\n",
       "      <td>5.295</td>\n",
       "      <td>13.611107</td>\n",
       "      <td>1.0</td>\n",
       "      <td>1.0</td>\n",
       "      <td>3224.0</td>\n",
       "      <td>201.0</td>\n",
       "      <td>473.0</td>\n",
       "      <td>2500.0</td>\n",
       "      <td>...</td>\n",
       "      <td>2.952</td>\n",
       "      <td>3.625</td>\n",
       "      <td>2.699</td>\n",
       "      <td>3.352</td>\n",
       "      <td>3.843</td>\n",
       "      <td>3.222</td>\n",
       "      <td>3.566</td>\n",
       "      <td>2.644</td>\n",
       "      <td>3.173</td>\n",
       "      <td>3.003</td>\n",
       "    </tr>\n",
       "    <tr>\n",
       "      <th>246</th>\n",
       "      <td>ABIDEII-NYU_1</td>\n",
       "      <td>29189</td>\n",
       "      <td>5.320</td>\n",
       "      <td>10.718139</td>\n",
       "      <td>1.0</td>\n",
       "      <td>1.0</td>\n",
       "      <td>3261.0</td>\n",
       "      <td>222.0</td>\n",
       "      <td>423.0</td>\n",
       "      <td>2679.0</td>\n",
       "      <td>...</td>\n",
       "      <td>3.285</td>\n",
       "      <td>3.797</td>\n",
       "      <td>2.858</td>\n",
       "      <td>3.092</td>\n",
       "      <td>3.538</td>\n",
       "      <td>3.307</td>\n",
       "      <td>3.150</td>\n",
       "      <td>3.283</td>\n",
       "      <td>2.925</td>\n",
       "      <td>2.927</td>\n",
       "    </tr>\n",
       "  </tbody>\n",
       "</table>\n",
       "<p>5 rows × 1446 columns</p>\n",
       "</div>"
      ],
      "text/plain": [
       "              site  subject    age  age_resid  sex  group  fsArea_L_V1_ROI  \\\n",
       "251  ABIDEII-NYU_2    29170  5.128  13.444107  1.0    1.0           2729.0   \n",
       "518  ABIDEII-NYU_1    29224  5.220  10.618139  2.0    1.0           3495.0   \n",
       "291  ABIDEII-NYU_2    29167  5.255  13.571107  1.0    1.0           2436.0   \n",
       "231  ABIDEII-NYU_2    29174  5.295  13.611107  1.0    1.0           3224.0   \n",
       "246  ABIDEII-NYU_1    29189  5.320  10.718139  1.0    1.0           3261.0   \n",
       "\n",
       "     fsArea_L_MST_ROI  fsArea_L_V6_ROI  fsArea_L_V2_ROI  ...  fsCT_R_p47r_ROI  \\\n",
       "251             293.0            316.0           2536.0  ...            2.937   \n",
       "518             182.0            495.0           3041.0  ...            3.426   \n",
       "291             185.0            350.0           2225.0  ...            2.863   \n",
       "231             201.0            473.0           2500.0  ...            2.952   \n",
       "246             222.0            423.0           2679.0  ...            3.285   \n",
       "\n",
       "     fsCT_R_TGv_ROI  fsCT_R_MBelt_ROI  fsCT_R_LBelt_ROI  fsCT_R_A4_ROI  \\\n",
       "251           2.861             2.344             2.894          3.126   \n",
       "518           3.747             2.585             3.092          3.261   \n",
       "291           3.457             2.494             2.655          3.400   \n",
       "231           3.625             2.699             3.352          3.843   \n",
       "246           3.797             2.858             3.092          3.538   \n",
       "\n",
       "     fsCT_R_STSva_ROI  fsCT_R_TE1m_ROI  fsCT_R_PI_ROI  fsCT_R_a32pr_ROI  \\\n",
       "251             2.744            3.149          2.379             2.925   \n",
       "518             2.683            3.393          1.878             3.398   \n",
       "291             2.771            3.210          2.023             3.426   \n",
       "231             3.222            3.566          2.644             3.173   \n",
       "246             3.307            3.150          3.283             2.925   \n",
       "\n",
       "     fsCT_R_p24_ROI  \n",
       "251           2.580  \n",
       "518           2.965  \n",
       "291           3.241  \n",
       "231           3.003  \n",
       "246           2.927  \n",
       "\n",
       "[5 rows x 1446 columns]"
      ]
     },
     "execution_count": 57,
     "metadata": {},
     "output_type": "execute_result"
    }
   ],
   "source": [
    "# Sort data on columns: group first, then age\n",
    "sorted_data = data.sort_values(['group', 'age'])\n",
    "\n",
    "sorted_data.head(5)"
   ]
  },
  {
   "cell_type": "code",
   "execution_count": 58,
   "metadata": {},
   "outputs": [
    {
     "data": {
      "text/plain": [
       "fsArea_L_V1_ROI     3161.415339\n",
       "fsArea_L_MST_ROI     226.266932\n",
       "fsArea_L_V6_ROI      395.445219\n",
       "fsArea_L_V2_ROI     2613.914343\n",
       "fsArea_L_V3_ROI     1747.647410\n",
       "dtype: float64"
      ]
     },
     "execution_count": 58,
     "metadata": {},
     "output_type": "execute_result"
    }
   ],
   "source": [
    "# Mean values of first five columns whose names start with 'fsArea'\n",
    "data.filter(like='fsArea').iloc[:, :5].mean()"
   ]
  },
  {
   "cell_type": "code",
   "execution_count": 59,
   "metadata": {},
   "outputs": [
    {
     "data": {
      "text/plain": [
       "sex  group\n",
       "1.0  1.0      0.263925\n",
       "     2.0      0.169335\n",
       "2.0  1.0      0.231037\n",
       "     2.0      0.213257\n",
       "Name: fsCT_R_TGv_ROI, dtype: float64"
      ]
     },
     "execution_count": 59,
     "metadata": {},
     "output_type": "execute_result"
    }
   ],
   "source": [
    "# Variance of the 'fsCT_R_TGv_ROI' column, grouped separately by\n",
    "# every combination of sex and group in the dataset\n",
    "groups = data.groupby(['sex', 'group'])\n",
    "\n",
    "groups['fsCT_R_TGv_ROI'].var()"
   ]
  }
 ],
 "metadata": {
  "kernelspec": {
   "display_name": "Python 3",
   "language": "python",
   "name": "python3"
  },
  "language_info": {
   "codemirror_mode": {
    "name": "ipython",
    "version": 3
   },
   "file_extension": ".py",
   "mimetype": "text/x-python",
   "name": "python",
   "nbconvert_exporter": "python",
   "pygments_lexer": "ipython3",
   "version": "3.6.9"
  }
 },
 "nbformat": 4,
 "nbformat_minor": 4
}
