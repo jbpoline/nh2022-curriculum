{
 "cells": [
  {
   "cell_type": "markdown",
   "metadata": {
    "slideshow": {
     "slide_type": "slide"
    }
   },
   "source": [
    "# A Brief Introduction to Python: Part 2\n",
    "\n",
    "[Originally Presented at [Neurohackademy 2020](https://neurohackademy.org/) by [Tal Yarkoni](https://talyarkoni.org)] <br>\n",
    "[Edited by [Noah Benson](http://nben.net/) for [Neurohackademy 2022](https://neurohackademy.org/)]"
   ]
  },
  {
   "cell_type": "markdown",
   "metadata": {
    "slideshow": {
     "slide_type": "skip"
    }
   },
   "source": [
    "This notebook presents a very brief overview of the Python programming language, with a particular slant on tools and applications relevant for data science. It's assumed that the reader has at least a little bit of prior programming experience; the emphasis is primarily on (a) demonstrating how basic things are done in Python, and (b) reviewing the many strengths of Python (and okay, also a few weaknesses).\n",
    "\n",
    "[**Cautionary note**: while this tutorial is introductory, that doesn't mean it's *easy*. Novice or less experienced programmers may find some of the concepts covered here—particularly the later sections (e.g., object-oriented programming)—difficult. If this is your experience, don't be alarmed! Programming computers is a fundamentally hard thing to do. The fact that this notebook is titled \"a brief introduction\" shouldn't fool you into thinking that one learns to become a proficient programmer in just a few hours of reading and experimentation. Readers will undoubtedly get more or less out of different parts of this tutorial depending on their prior experience; the hope is just that at least *some* part of the tutorial will be helpful to almost anyone looking to learn Python.]"
   ]
  },
  {
   "cell_type": "markdown",
   "metadata": {
    "slideshow": {
     "slide_type": "subslide"
    }
   },
   "source": [
    "## Control flow\n",
    "Like nearly every other programming language, Python has a number of core language constructs that allow us to control the flow of our code—i.e., the order in which functions get called and expressions are evaluated. The two most common ones are conditionals (if-then statements) and for-loops (for others, see the [official docs](https://docs.python.org/3/reference/compound_stmts.html)).\n",
    "\n",
    "### Conditionals\n",
    "Conditional (or if-then) statements allow our code to branch—meaning, we can execute different chunks of code depending on which of two or more conditions is met. For example:"
   ]
  },
  {
   "cell_type": "code",
   "execution_count": null,
   "metadata": {
    "slideshow": {
     "slide_type": "fragment"
    }
   },
   "outputs": [],
   "source": [
    "mango = 0.2 \n",
    "\n",
    "if mango < 0.5:\n",
    "    print(\"Mangoes are super cheap; get a bunch of them!\")\n",
    "elif mango < 1.0:\n",
    "    print(\"Get one mango from the store.\")\n",
    "else:\n",
    "    print(\"Meh. I don't really even like mangoes.\")"
   ]
  },
  {
   "cell_type": "markdown",
   "metadata": {},
   "source": [
    "The printed statement will vary depending on the value assigned to the `mango` variable. Try changing it and see what happens when you re-run the cell.\n",
    "\n",
    "Notice that there are actually three statements in the above code: `if`, `elif` (which in Python stands for \"else if\"), and `else` (the whole if-then-else construction is referred to as a *compound statement*). Only the first of these (i.e., `if`) is strictly necessary. And there can be arbitrarily many `elif` statements. Try adding another one to the code above.\n",
    "\n",
    "### Loops\n",
    "For-loops allow us to iterate (or loop) over the elements of a sequence (e.g., a list) and perform the same operation(s) on each one:"
   ]
  },
  {
   "cell_type": "code",
   "execution_count": null,
   "metadata": {
    "slideshow": {
     "slide_type": "fragment"
    }
   },
   "outputs": [],
   "source": [
    "# Loop over the random_stuff list we created earlier and print each element\n",
    "for elem in random_stuff:\n",
    "    print(elem)"
   ]
  },
  {
   "cell_type": "markdown",
   "metadata": {},
   "source": [
    "### Nested control flow\n",
    "We can nest conditionals and for-loops inside one another (as well as inside other compound statements). For example, we can loop over the elements of `random_stuff`, as above, but keeping only the elements that meet some condition—e.g., only those elements that are strings:"
   ]
  },
  {
   "cell_type": "code",
   "execution_count": null,
   "metadata": {},
   "outputs": [],
   "source": [
    "# create an empty list to hold the filtered values\n",
    "strings_only = []\n",
    "\n",
    "# loop over the random_stuff list\n",
    "for elem in random_stuff:\n",
    "    # if the current element is a string...\n",
    "    if isinstance(elem, str):\n",
    "        # ...then append the value to strings_only\n",
    "        strings_only.append(elem)\n",
    "\n",
    "print(\"Only the string values:\", strings_only)"
   ]
  },
  {
   "cell_type": "markdown",
   "metadata": {},
   "source": [
    "### List comprehensions\n",
    "In Python, for-loops can also be written in a more compact way known as a list comprehension. List comprehensions are just a bit of *syntactic sugar*—meaning, they don't have any difference in meaning from for-loops, and are purely a different way of writing the same thing. Here's the list comprehension version of the for-loop we wrote above:"
   ]
  },
  {
   "cell_type": "code",
   "execution_count": null,
   "metadata": {},
   "outputs": [],
   "source": [
    "# this is identical to the first loop above\n",
    "[print(elem) for elem in random_stuff];"
   ]
  },
  {
   "cell_type": "markdown",
   "metadata": {},
   "source": [
    "We can also embed conditional statements inside list comprehensions. Here's a much more compact way of writing the string-filtering snippet we wrote above:"
   ]
  },
  {
   "cell_type": "code",
   "execution_count": null,
   "metadata": {
    "slideshow": {
     "slide_type": "fragment"
    }
   },
   "outputs": [],
   "source": [
    "strings_only = [elem for elem in random_stuff if isinstance(elem, str)]\n",
    "\n",
    "print(\"Only the string values:\", strings_only)"
   ]
  },
  {
   "cell_type": "markdown",
   "metadata": {},
   "source": [
    "List comprehensions can save you quite a bit of typing once you get used to reading them, and you may eventually even find them clearer to read. It's also possible to nest list comprehensions (equivalent to for-loops within for-loops), though that power should be used sparingly, as nested list comprehensions can be difficult to understand."
   ]
  },
  {
   "cell_type": "markdown",
   "metadata": {},
   "source": [
    "### Syntactically significant whitespace\n",
    "One thing you might have noticed when reading the conditional statements and for-loops above is that we always seem to indent our code inside these statements. This isn't a matter of choice; Python is a bit of an odd duck among programming languages, in that it imposes strong rules about how whitespace can be used (i.e., whitespace is *syntactically significant*). This can take a bit of getting used to, but once you do, it has important benefits: there's much less variability in coding style across different Python developers, and reading other people's code is often much easier than it is in languages without semantic whitespace.\n",
    "\n",
    "The main rule you need to be aware of is that whenever you enter a compound statement (which includes for-loops and conditionals, but also function and class definitions), you have to increase the indentation of your code. When you exit the compound statement, you then decrease the indentation by the same amount.\n",
    "\n",
    "The exact amount you indent each time is technically up to you. But it's strongly recommended that you use the same convention everyone else does (described [here](https://www.python.org/dev/peps/pep-0008/#indentation)), which is to always indent or dedent by 4 spaces. Here's what this looks like in a block with multiple nested conditionals:"
   ]
  },
  {
   "cell_type": "code",
   "execution_count": null,
   "metadata": {},
   "outputs": [],
   "source": [
    "num = 800\n",
    "\n",
    "if num > 500:\n",
    "    if num < 900:\n",
    "        if num > 700:\n",
    "            print(\"Great number.\")\n",
    "        else:\n",
    "            print(\"Terrible number.\")"
   ]
  },
  {
   "cell_type": "markdown",
   "metadata": {},
   "source": [
    "Now try modify the above snippet so that you (a) consistently use a different amount of indentation, and (b) break Python by using invalid indentation."
   ]
  },
  {
   "cell_type": "markdown",
   "metadata": {
    "slideshow": {
     "slide_type": "subslide"
    }
   },
   "source": [
    "## Namespaces and imports\n",
    "Python is a high-level, dynamic programming language, which people often associated with flexibility and lack of precision (e.g., you don't have to type your variables when you declare them in Python). But in some ways, Python is actually much more of a stickler than most other dynamic languages about the way Python developers write their code. We just saw that Python is very serious about how you indent your code. Another thing that's characteristic of Python is that it takes *namespacing* very seriously.\n",
    "\n",
    "If you're used to languages like, say, R or MATLAB, you might expect to have hundreds of different functions available to call as soon as you fire up an interactive prompt. In Python, the *built-in namespace*—i.e., the set of functions you can invoke when you start running Python—is [very small](https://docs.python.org/3/library/functions.html). This is by design: Python expects you to carefully manage the code you use, and it's particularly serious about making sure you maintain orderly namespaces.\n",
    "\n",
    "In practice, this means that any time you want to use some code that's not available to you in your current [scope](https://en.wikipedia.org/wiki/Scope_(computer_science)), you need to explicitly *import* it from whatever module it's currently in, via an `import` statement. Python's import system often annoys beginners, because it forces them to write additional lines of code that other languages dson't. But once you get used to it, you'll find that it substantially increases code clarity and almost completely eliminates naming conflicts and confusion.\n",
    "\n",
    "### Importing a module\n",
    "Conventionally, all import statements in a Python file are consolidated at the very top (though there are some niche situations where this isn't possible). Here's what the most basic usage of `import` looks like:"
   ]
  },
  {
   "cell_type": "code",
   "execution_count": null,
   "metadata": {},
   "outputs": [],
   "source": [
    "import json\n",
    "\n",
    "# Create a dict\n",
    "dummy = {'a': 1, 'b': 5}\n",
    "\n",
    "# Dump the contents of the dict to a JSON string\n",
    "json.dumps(dummy)"
   ]
  },
  {
   "cell_type": "markdown",
   "metadata": {},
   "source": [
    "Here we import the `json` module from the standard library. Once we do that, we can now call functions located within that library, using the dot syntax you see above. In this case, we're calling the `dumps()` function that's contained in the `json` module we imported. But we could also call `json.load()` or `json.dump()`, as those are other functions available in the `json` module's namespace.\n",
    "\n",
    "Note that if we hadn't explicitly imported `json`, the `json.dumps()` call would have failed, because `json` would be undefined in our namespace. You can try it and see what happens.\n",
    "\n",
    "### Importing from a module\n",
    "Importing a module by name gives us access to all of its internal attributes. But sometimes we only need to call a single function inside a module, and we might not want to have to type the full module name every time we use that function. In that case, we can import *from* the module:"
   ]
  },
  {
   "cell_type": "code",
   "execution_count": null,
   "metadata": {},
   "outputs": [],
   "source": [
    "# defaultdict is a dictionary that has default values\n",
    "# for new keys.\n",
    "from collections import defaultdict\n",
    "\n",
    "test_dict = defaultdict(int)\n",
    "\n",
    "# this would fail with a normal dict, but with a defaultdict,\n",
    "# a new key with the default value is created upon first access.\n",
    "test_dict['made_up_key']"
   ]
  },
  {
   "cell_type": "markdown",
   "metadata": {},
   "source": [
    "Here we import `defaultdict()` directly *from* the `collections` module *into* our current namespace. This makes `defaultdict` available for our use. Note that `collections` itself is *not* available to us unless we explicitly import it (i.e., if we `import collections`):"
   ]
  },
  {
   "cell_type": "code",
   "execution_count": null,
   "metadata": {},
   "outputs": [],
   "source": [
    "test_dict = collections.defaultdict(int)"
   ]
  },
  {
   "cell_type": "markdown",
   "metadata": {},
   "source": [
    "### Renaming variables at import time\n",
    "Sometimes the module or function we want to import has an unwieldy name. Python's import statements allow us to rename the variable we're importing on-the-fly using the `as` keyword:"
   ]
  },
  {
   "cell_type": "code",
   "execution_count": null,
   "metadata": {
    "slideshow": {
     "slide_type": "fragment"
    }
   },
   "outputs": [],
   "source": [
    "from collections import defaultdict as dd\n",
    "\n",
    "b = dd(float)\n",
    "\n",
    "b['apple']"
   ]
  },
  {
   "cell_type": "markdown",
   "metadata": {},
   "source": [
    "For many commonly used packages, that are strong conventions about naming abbreviations, and you should make sure to respect these in your code. For example, it's standard to see `import numpy as np` and `import pandas as pd`. Your code will still work fine if you use other variable names, but other programmers will have a slightly more difficult time understanding what you're doing. So be kind to others and respect the conventions."
   ]
  },
  {
   "cell_type": "markdown",
   "metadata": {
    "slideshow": {
     "slide_type": "subslide"
    }
   },
   "source": [
    "## Functions\n",
    "Python would be of limited use to use if we could only run our code linearly from top to bottom. Fortunately, as in almost every other modern programming language, Python has *functions*: blocks of code that only run when explicitly called. Some of these are built into the language itself (or contained in the standard library's many modules we can import from, as we saw above):"
   ]
  },
  {
   "cell_type": "code",
   "execution_count": null,
   "metadata": {},
   "outputs": [],
   "source": [
    "animal = 'elephant'\n",
    "\n",
    "# len() is a built-in function that counts the number of\n",
    "# elements in an iterable object like a list or string.\n",
    "len(animal)"
   ]
  },
  {
   "cell_type": "markdown",
   "metadata": {},
   "source": [
    "But we can also define our own functions, which we can then call just like the built-in ones:"
   ]
  },
  {
   "cell_type": "code",
   "execution_count": null,
   "metadata": {},
   "outputs": [],
   "source": [
    "def useless_message():\n",
    "    print(\"This function just prints a fairly useless message.\")"
   ]
  },
  {
   "cell_type": "markdown",
   "metadata": {},
   "source": [
    "Notice that nothing happens when we run the above block of code, because all we've done is define the function; we haven't yet *called* or *invoked* it. let's do that:"
   ]
  },
  {
   "cell_type": "code",
   "execution_count": null,
   "metadata": {},
   "outputs": [],
   "source": [
    "useless_message()"
   ]
  },
  {
   "cell_type": "markdown",
   "metadata": {},
   "source": [
    "### Function arguments and return values\n",
    "Functions can accept *arguments* (or parameters) that alter their behavior. When we called `len()` above, we passed the variable `elephant` as an argument. This argument is mandatory in the case of `len()`; if you try calling `len()` with no argument (feel free to attempt that), it will generate an error.\n",
    "\n",
    "Functions can also explicitly *return* values to the user. (If a function doesn't explicitly end with a `return` statement, it will return the special value `None` we encountered earlier.)\n",
    "\n",
    "Let's illustrate the use of arguments by writing a small function that takes a single float as input, adds gaussian noise from a specified distribution to it, and returns the result."
   ]
  },
  {
   "cell_type": "code",
   "execution_count": null,
   "metadata": {
    "slideshow": {
     "slide_type": "fragment"
    }
   },
   "outputs": [],
   "source": [
    "# We'll need the random module for this\n",
    "import random\n",
    "\n",
    "def add_noise(x, mu, sd):\n",
    "    ''' Adds gaussian noise to the input.\n",
    "    \n",
    "    Parameters:\n",
    "        x (number): The number to add noise to\n",
    "        mu (float): The mean of the gaussian noise distribution\n",
    "        sd (float): The standard deviation of the noise distribution\n",
    "    \n",
    "    Returns: A float.\n",
    "    '''\n",
    "    noise = random.normalvariate(mu, sd)\n",
    "    return (x + noise)"
   ]
  },
  {
   "cell_type": "code",
   "execution_count": null,
   "metadata": {
    "slideshow": {
     "slide_type": "fragment"
    }
   },
   "outputs": [],
   "source": [
    "# Let's try calling it...\n",
    "add_noise(7, 0, 10)"
   ]
  },
  {
   "cell_type": "markdown",
   "metadata": {},
   "source": [
    "The `add_noise()` function has three mandatory parameters (i.e., if you omit any of them, an error will be generated). The first (`x`) is the number we want to add noise to; the second is the mean of the gaussian distribution to sample from; and the third is the distribution's standard deviation. Notice that we've documented the function's behavior inside the function using what's called a *[docstring](https://www.python.org/dev/peps/pep-0257/)*. This is a good habit to get into, as good documentation is essential if you expect other people (including future versions of you) to be able to use the code you write."
   ]
  },
  {
   "cell_type": "markdown",
   "metadata": {
    "slideshow": {
     "slide_type": "subslide"
    }
   },
   "source": [
    "### Function arguments\n",
    "Python functions can have two kinds of arguments: *positional* arguments, and *keyword* (or sometimes, *named*) arguments.\n",
    "\n",
    "#### Positional arguments\n",
    "Positional arguments, as their name suggests, are defined by position, and they *must* be passed when the function is called. The values passed inside the parentheses are mapped one-to-one onto the arguments, as we saw above for `add_noise()`. That is, inside the `add_noise()` function, the first value is referenced by `x`, the second by `mu`, and so on.\n",
    "\n",
    "If the caller fails to pass the right number of arguments (either too few or too many), an error will be generated:"
   ]
  },
  {
   "cell_type": "code",
   "execution_count": null,
   "metadata": {},
   "outputs": [],
   "source": [
    "# Fails because the function has 3 positional arguments, and we only pass one\n",
    "add_noise(7)"
   ]
  },
  {
   "cell_type": "markdown",
   "metadata": {},
   "source": [
    "#### Keyword arguments\n",
    "Keyword arguments are arguments that are assigned a default value in the function *signature* (i.e., the top line of the function definition, that looks like `def my_function(...)`). Unlike positional arguments, keyword arguments are optional: if the caller doesn't pass a value for the keyword argument, the corresponding variable will still be available inside the function, but it will have whatever value is defined as the default in the signature.\n",
    "\n",
    "To see how this works, let's rewrite our `add_noise()` function so that the parameters of the gaussian distribution are now optional:"
   ]
  },
  {
   "cell_type": "code",
   "execution_count": null,
   "metadata": {
    "slideshow": {
     "slide_type": "fragment"
    }
   },
   "outputs": [],
   "source": [
    "def add_noise_with_defaults(x, mu=0, sd=1):\n",
    "    ''' Adds gaussian noise to the input.\n",
    "    \n",
    "    Parameters:\n",
    "        x (number): The number to add noise to\n",
    "        mu (float, optional): The mean of the gaussian noise distribution\n",
    "        sd (float, optional): The standard deviation of the noise distribution\n",
    "    \n",
    "    Returns: A float.\n",
    "    '''\n",
    "    noise = random.normalvariate(mu, sd)\n",
    "    return x + noise"
   ]
  },
  {
   "cell_type": "markdown",
   "metadata": {},
   "source": [
    "This looks very similar, but we can now call the function without filling in `mu` or `sd`. If we don't pass in those values explicitly, the function will internally use the defaults (i.e., `0` in the case of `mu`, and `1` in the case of `sd`)."
   ]
  },
  {
   "cell_type": "code",
   "execution_count": null,
   "metadata": {
    "slideshow": {
     "slide_type": "fragment"
    }
   },
   "outputs": [],
   "source": [
    "# Let's call it again...\n",
    "add_noise_with_defaults(10)"
   ]
  },
  {
   "cell_type": "markdown",
   "metadata": {},
   "source": [
    "Note that keyword arguments don't need to be filled in order, as long as we explicitly name them. For example, we can specify a value for `sd` but not for `mu`:"
   ]
  },
  {
   "cell_type": "code",
   "execution_count": null,
   "metadata": {},
   "outputs": [],
   "source": [
    "# we specify x and sd, but not mu\n",
    "add_noise_with_defaults(5, sd=100)"
   ]
  },
  {
   "cell_type": "markdown",
   "metadata": {},
   "source": [
    "Note that if we didn't specify the name of the argument (i.e., if we called `add_noise_with_defaults(5, 100)`, the function would still work, but the second value we pass would be interpreted as `mu` rather than `sd`.\n",
    "\n",
    "It's also worth noting that we can always explicitly name *any* of our arguments, including positional ones. This is extremely handy in cases where we're calling functions whose argument names we remember, but where we don't necessarily remember the exact order of the arguments. For example, suppose we remember that `add_noise()` takes the three arguments `x`, `mu`, and `sd`, but we don't remember if `x` comes before or after the distribution parameters. We can guarantee that we get the result we expect by explicitly specifying all the names:"
   ]
  },
  {
   "cell_type": "code",
   "execution_count": null,
   "metadata": {},
   "outputs": [],
   "source": [
    "add_noise(mu=1, sd=2, x=100)"
   ]
  },
  {
   "cell_type": "markdown",
   "metadata": {
    "slideshow": {
     "slide_type": "subslide"
    }
   },
   "source": [
    "### Argument unpacking with \\*args and \\**kwargs\n",
    "It sometimes happens that a function needs to be able to accept an unknown number of arguments. A very common scenario like this is where we've written a \"wrapper\" function that takes some input, does some operation that relies on only some of the arguments the user passed, and then hands off the rest of the arguments to a different function. \n",
    "\n",
    "For example, suppose we want to write a `arg_printer()` function that we can use to produce a standardized display of the positional and keyword arguments used when calling some other (arbitrary function). Python handles this scenario elegantly via special `*args` and `**kwargs` syntax in function signatures, also known as *argument unpacking*.\n",
    "\n",
    "The best way to understand what `*args` and `**kwargs` do is to see them in action (and note that if you're new to programming, some of these ideas in this section and the next couple may take a *while* to make sense). Here's an example:"
   ]
  },
  {
   "cell_type": "code",
   "execution_count": null,
   "metadata": {
    "slideshow": {
     "slide_type": "fragment"
    }
   },
   "outputs": [],
   "source": [
    "def arg_printer(func, *args, **kwargs):\n",
    "    \"\"\"\n",
    "    A wrapper that takes any other function plus arguments to pass\n",
    "    to that function. The arguments are printed out before the\n",
    "    function is called and the result returned.\n",
    "    \n",
    "    Args:\n",
    "        func (callable): The function to call with the passed args.\n",
    "        args (list): Optional list of arguments to pass onto func.\n",
    "        kwargs (dict): Optional dict of keyword arguments to pass\n",
    "            onto func.\n",
    "\n",
    "    Returns:\n",
    "        The result of func() when called with the passed arguments.\n",
    "    \"\"\"\n",
    "    print(\"Calling function '{}'.\".format(func.__name__))\n",
    "    print(\"Positional arguments:\", args)\n",
    "    print(\"Keyword arguments:\", kwargs)\n",
    "    return func(*args, **kwargs)"
   ]
  },
  {
   "cell_type": "markdown",
   "metadata": {},
   "source": [
    "This may seem a bit mysterious, and there are parts we won't explain right now (e.g., `func.__name__`). But try experimenting a bit with calling this function, and things may start to click. Here's an example to get you rolling:"
   ]
  },
  {
   "cell_type": "code",
   "execution_count": null,
   "metadata": {
    "slideshow": {
     "slide_type": "fragment"
    }
   },
   "outputs": [],
   "source": [
    "# feel free to experiment with this. e.g.,\n",
    "# try replacing add_noise with built-in functions\n",
    "# like min, len, or list. Hint: you'll probably\n",
    "# nee to change the rest of the arguments too!\n",
    "arg_printer(add_noise, 17, mu=0, sd=5)"
   ]
  },
  {
   "cell_type": "markdown",
   "metadata": {},
   "source": [
    "What's happening here is that the first argument to `arg_printer()` is the `add_noise()` function we defined earlier. Remember: everything in Python is secretly an object! You can pass functions as arguments to other functions too; it's no different than passing a string or a list. A key point to note, however, is that what we're passing in is, in a sense, the *definition* of the function. Notice how we didn't add parentheses to `add_noise` when we passed it to `arg_printer()`? That's because we don't want to actually call `add_noise` yet; we're leaving that to `arg_printer()` to do that internally.\n",
    "\n",
    "All the other arguments to `arg_printer()` after the first one are arguments that we actually want to pass onto the `add_noise()` function when it's called internally by `arg_printer()`. The first thing `arg_printer()` does is print out the name of the function we just gave it, as well as all of the positional and keyword arguments we passed in. Once it's done that, it calls the function we passed in (`add_noise()`) and passes along all the arguments.\n",
    "\n",
    "If the above doesn't make sense, don't worry! We're moving quickly, and the concepts from here on out start to get quite a bit denser. The point of this tutorial is just to give you an overview of how Python works, and people come to Python with varying degrees of experience in other programming languages. If argument unpacking doesn't make much sense right now, try reading other, longer, tutorials (for example, [this one](https://realpython.com/python-kwargs-and-args/)). And remember, there's no substitute for writing your own code and experimenting with different ideas until things start to make sense."
   ]
  },
  {
   "cell_type": "markdown",
   "metadata": {
    "slideshow": {
     "slide_type": "subslide"
    }
   },
   "source": [
    "## Classes\n",
    "At various points in this tutorial, I've pointed out that Python is a deeply object-oriented programming language, and that, in a sense, everything in Python is an object. We're now in a position to unpack that statement. What does it mean to say that something is an object? How do objects get defined? And how do we specify what an object should do when a certain operation is applied to it? To answer these question, we need to introduce the notion of *classes*—and, more generally, the *object-oriented programming* (OOP) paradigm.\n",
    "\n",
    "### What is a class?\n",
    "A class is, in a sense, a kind of template for an object. You can think of it as a specification, or a set of instructions that determine what an object of a given class can do. In a sense, it's very close in meaning to what we've already been referring to as the *type* of an object. There *is* technically a difference between types and classes in Python, but it's quite subtle (especially in Python 3), and in day-to-day usage, you can use the terms interchangeably and nobody is going to yell at you.\n",
    "\n",
    "### Defining classes\n",
    "So a class is a kind of template; okay, what does it look like? Well, minimally, it looks like very little. Here's a fully functional class definition:"
   ]
  },
  {
   "cell_type": "code",
   "execution_count": null,
   "metadata": {},
   "outputs": [],
   "source": [
    "class Circle:\n",
    "    pass"
   ]
  },
  {
   "cell_type": "markdown",
   "metadata": {},
   "source": [
    "### Creating instances of a class\n",
    "That's it! We've defined a new Python class. We can now *instantiate* this class if we like—which is to say, we can create entirely new *instances* of objects, whose behaviors are defined by the class. The syntax for creating an instance in Python is:"
   ]
  },
  {
   "cell_type": "code",
   "execution_count": null,
   "metadata": {},
   "outputs": [],
   "source": [
    "circle = Circle()"
   ]
  },
  {
   "cell_type": "markdown",
   "metadata": {},
   "source": [
    "That's it again! We now have a new variable `circle` on our hands, which is an instance of class `Circle`.\n",
    "\n",
    "If you don't believe me, I can prove it:"
   ]
  },
  {
   "cell_type": "code",
   "execution_count": null,
   "metadata": {},
   "outputs": [],
   "source": [
    "type(circle)"
   ]
  },
  {
   "cell_type": "markdown",
   "metadata": {},
   "source": [
    "#### A note on nomenclature\n",
    "You may have already noticed the naming convention we've used throughout this tutorial: our variables are always composed of lower-case characters, with words separated by underscores. This is called *snake_case*, and you should get in the habit of following it. You'll also note that class names are capitalized (technically, they're in *CamelCase*). This too is conventional, and you should follow that convention as well.\n",
    "\n",
    "If you follow both of these conventions, then you won't be surprised when you see `circle` and `Circle` both show up in your code. You'll know that `Circle` is a class, whereas `circle` is a particular *instance*.\n",
    "\n",
    "### Making it do things\n",
    "The `Circle` class definition we wrote above was perfectly valid, but not terribly useful. It didn't define any new behavior, so any instances of the class we created wouldn't do anything more than base objects in Python can do (which isn't very much).\n",
    "\n",
    "Let's fix that by filling in the class a bit."
   ]
  },
  {
   "cell_type": "code",
   "execution_count": null,
   "metadata": {
    "slideshow": {
     "slide_type": "fragment"
    }
   },
   "outputs": [],
   "source": [
    "# We need pi!\n",
    "import math\n",
    "\n",
    "class Circle:\n",
    "    \n",
    "    def __init__(self, radius):\n",
    "        self.r = radius\n",
    "\n",
    "    def area(self):\n",
    "        return math.pi * self.r**2"
   ]
  },
  {
   "cell_type": "markdown",
   "metadata": {},
   "source": [
    "There's not much code to see, but conceptually, a lot is going on. Let's walk through this piece by piece.\n",
    "\n",
    "First, observe that we've defined what look like two new functions inside the class. Technically, these are *methods* and not functions, because they're *bound* to a particular object. But the principle is the same: they're chunks of code that take arguments, do some stuff, and then (possibly) return something to the caller.\n",
    "\n",
    "You'll also note that both methods have `self` as their first argument. This is a requirement: all instance methods have to take a reference to the current instance (conventionally named `self`) as their first argument (there are also *class* methods and *static* methods, which behave differently, but we won't cover those in this tutorial). This reference is what will allow us to easily maintain state (i.e., to store information that can vary over time) inside the instance.\n",
    "\n",
    "Now let's walk through each of the defined methods. First, there's `__init__()`. The leading and trailing double underscores indicate that this is a special kind of method called a *magic* method; we'll talk about those a bit more later. For the moment, we just have to know that `__init__()` is a special method that gets called whenever we initialize a new instance of the class. So, when we write a line like `circle = Circle()`, what happens is that the `__init__()` method of `Circle` gets called and executed.\n",
    "\n",
    "Observe that, in this case, `__init__()` takes a single argument (other than `self`, that is): a `radius` argument. And further, the only thing that happens inside `__init__()` is that we store the value of `radius` in an *instance attribute* called `r`. We do this by assigning to `self`. Remember, `self` is a reference to the current instance! So the newly-created instance that's returned by `Circle()` will have that `radius` value set in the `.r` attribute.\n",
    "\n",
    "This code should make this a bit clearer:"
   ]
  },
  {
   "cell_type": "code",
   "execution_count": null,
   "metadata": {},
   "outputs": [],
   "source": [
    "# Initialize a new circle, passing a radius of 4\n",
    "circle = Circle(4)\n",
    "\n",
    "# We can now access the stored radius inside our instance\n",
    "circle.r"
   ]
  },
  {
   "cell_type": "markdown",
   "metadata": {},
   "source": [
    "Next, let's look at the `area()` method. This one takes no arguments (again, `self` is passed automatically; we don't need to, and shouldn't, pass it ourselves). That means we can just call it and see what happens. Let's do that:"
   ]
  },
  {
   "cell_type": "code",
   "execution_count": null,
   "metadata": {},
   "outputs": [],
   "source": [
    "circle.area()"
   ]
  },
  {
   "cell_type": "markdown",
   "metadata": {},
   "source": [
    "When we call `area()`, what we get back is the area of our circle—based on the radius stored in the instance at that moment. Note that this area is only computed when we actually call `area()`, and isn't computed in advance. This means that if the circle's radius changes, so too will the result of `area()`:"
   ]
  },
  {
   "cell_type": "code",
   "execution_count": null,
   "metadata": {},
   "outputs": [],
   "source": [
    "# We're changing the radius stored in the instance\n",
    "circle.r = 9\n",
    "\n",
    "# And that should also change the area...\n",
    "circle.area()"
   ]
  },
  {
   "cell_type": "markdown",
   "metadata": {
    "slideshow": {
     "slide_type": "subslide"
    }
   },
   "source": [
    "### Magic methods\n",
    "There's a *lot* more we could say about how classes work in Python, and about object-oriented programming in general, but this is just a brief introduction, so we have to be picky. Let's introduce just one other big concept: *magic methods*. Magic methods of objects, as we've seen a couple of times now, start and end with a double underscore: `__init__`, `__getattr__`, `__new__`, and so on. As their names suggest, these methods are magic—at least in the sense that they appear to add some magic to a class's behavior. We've already talked about `__init__`, which is a magic method that gets called any time we create a new instance of a class. But there are many others.\n",
    "\n",
    "The key to understanding how magic methods work is to recognize that they're usually called implicitly when a certain operation is applied to an object—even if it doesn't look like the magic method and the operation being applied have anything to do with each other (that's what makes them magic!). Remember how we said earlier that *everything in Python is an object*? Well now we're going to explore one of the deeper implications of that observation, which is that *all operators in Python are actually just cleverly-disguised method calls*. That means that when we write even an expression as seemingly basic as `4 * 3` in Python, it's actually implicitly converted to a call to a magic method on the first operand (4), with the second operand (3) being passed in as an argument.\n",
    "\n",
    "This is a bit hard to explain abstractly, so let's dive into an example. Start with this naive arithmetic operation:"
   ]
  },
  {
   "cell_type": "code",
   "execution_count": null,
   "metadata": {},
   "outputs": [],
   "source": [
    "4 * 3"
   ]
  },
  {
   "cell_type": "markdown",
   "metadata": {},
   "source": [
    "No surprises there. But here's an equivalent way to write that, which makes clearer what's actually happening under the hood when we multiple one number by another:"
   ]
  },
  {
   "cell_type": "code",
   "execution_count": null,
   "metadata": {},
   "outputs": [],
   "source": [
    "# 4 is a number, so we have to wrap it in parentheses to prevent a syntax error.\n",
    "# but we wouldn't have to do this for variables.\n",
    "(4).__mul__(3)"
   ]
  },
  {
   "cell_type": "markdown",
   "metadata": {},
   "source": [
    "Remember the dot notation? Here, `__mul__` is actually a (magic) method implemented in the integer class. When Python evaluates the expression `4 * 3`, it actually calls `__mul__` on the first integer, and hands it the second one as an argument. See, we weren't messing around when we said *everything is an object in Python*. Even something as seemingly basic as the multiplication operator is actually just an alias to a method called on an integer object! Isn't that neat?\n",
    "\n",
    "### The semantics of *\n",
    "Once we recognize that Python's `*` operator is just an alias to the `__mul__` magic method, we might start to wonder if this is *always* true. Does every valid occurrence of `*` in Python code imply that the object just before the `*` must be an instance of a class that implements the `__mul__` method? The answer is yes! The result of an expression that includes the `*` operator (and for that matter, every other operator in Python, including things like `==` and `&`) is entirely dependent on the receiver object's implementation of `__mul__`.\n",
    "\n",
    "Just to make it clear how far-reaching the implications of this principle are, let's look at how a couple of other built-in Python types deal with the `*` operator. Let's start with strings. What do you think will happen when we multiply a string object by 2?"
   ]
  },
  {
   "cell_type": "code",
   "execution_count": null,
   "metadata": {
    "slideshow": {
     "slide_type": "fragment"
    }
   },
   "outputs": [],
   "source": [
    "# What about a string?\n",
    "\"apple\" * 2"
   ]
  },
  {
   "cell_type": "markdown",
   "metadata": {},
   "source": [
    "There's a good chance this was *not* the behavior you expected. Many people intuitively expect an expression like `\"apple\" * 2` to produce an error, because we don't normally think of strings as a kind of thing that can be multiplied. But remember: in Python, the multiplication operator is just an alias for a `__mul__` call. And there's no particular reason a string class *shouldn't* implement the `__mul__` method; why not define *some* behavior for it, even if it's counterintuitive? That way users have a super easy way to repeat strings if that's what they want to do.\n",
    "\n",
    "What about a list?"
   ]
  },
  {
   "cell_type": "code",
   "execution_count": null,
   "metadata": {
    "slideshow": {
     "slide_type": "fragment"
    }
   },
   "outputs": [],
   "source": [
    "# A list?\n",
    "random_stuff * 3"
   ]
  },
  {
   "cell_type": "markdown",
   "metadata": {},
   "source": [
    "List multiplication behaves a lot like string multiplication: the result is that the list is repeated $n$ times.\n",
    "\n",
    "What about dictionary multiplication?"
   ]
  },
  {
   "cell_type": "code",
   "execution_count": null,
   "metadata": {
    "scrolled": true,
    "slideshow": {
     "slide_type": "fragment"
    }
   },
   "outputs": [],
   "source": [
    "fruit_prices * 2"
   ]
  },
  {
   "cell_type": "markdown",
   "metadata": {},
   "source": [
    "Finally, we encounter an outright failure! It appears Python dictionaries can't be multiplied. Which presumably means that the `dict` class doesn't implement `__mul__` (you can verify this for yourself by inspecting a dictionary using `dir()`).\n",
    "\n",
    "### Other magic methods\n",
    "Most of the magic methods in Python do something very much like what we saw for the multiplication operator. Consider the following operators: `+`, `&`, `/`, `%`, and `<`. These map, respectively, onto the magic methods `__add__`, `__and__`, `__truediv__`, `__mod__`, and `__lt__`. There are many others that follow the same pattern.\n",
    "\n",
    "There are also a number of magic methods tied to built-in functions rather than operators (e.g., when you call `len(obj)`, that's equivalent to calling `obj.__len__`), or that are triggered by certain events (e.g., `__getattr__` is called when a requested attribute isn't found in an object).\n",
    "\n",
    "For a full descriptions of all the magic methods, you can peruse the [official docs](https://docs.python.org/3/reference/datamodel.html). In practice, though, you won't really need to know much about magic methods unless you start writing a lot of classes of your own. We spent a lot of time talking about them mainly because they're a good way to convey some deep insights about the data model at the core of the Python language.\n",
    "\n",
    "### Hungry Circles\n",
    "Let's come full circle now (no pun intended) and revisit the `Circle` class we defined earlier. The last thing we'll do in this tutorial is add a magic method to our `Circle` class. This will nicely tie together a lot of different threads we've covered.\n",
    "\n",
    "What we're going to do, via a clever use of the `__lshift__` magic method (which maps to the `<<` operator), is give instances of class `Circle` the ability to \"eat\" other circles. When given Python code like this..."
   ]
  },
  {
   "cell_type": "code",
   "execution_count": null,
   "metadata": {},
   "outputs": [],
   "source": [
    "c1 = Circle(4)\n",
    "c2 = Circle(2)\n",
    "c1 << c2"
   ]
  },
  {
   "cell_type": "markdown",
   "metadata": {},
   "source": [
    "...we want the first circle to \"grow\" its radius by exactly the amount required for its new area to equal the sum of the two circles' previous areas.\n",
    "\n",
    "If you run the snippet above it'll fail, because our current `Circle` implementation has no idea what to do with the `<<` operator. So let's fix that. Here's our updated implementation:"
   ]
  },
  {
   "cell_type": "code",
   "execution_count": null,
   "metadata": {
    "slideshow": {
     "slide_type": "fragment"
    }
   },
   "outputs": [],
   "source": [
    "import math\n",
    "\n",
    "class Circle:\n",
    "    \n",
    "    def __init__(self, radius):\n",
    "        self.r = radius\n",
    "\n",
    "    def __lshift__(self, prey):\n",
    "        new_area = self.area() + prey.area()\n",
    "        self.r = math.sqrt(new_area / math.pi)\n",
    "\n",
    "    def area(self):\n",
    "        return math.pi * self.r**2"
   ]
  },
  {
   "cell_type": "markdown",
   "metadata": {},
   "source": [
    "The only change here is the addition of the `__lshift__` method.\n",
    "\n",
    "Let's see if the above did what we wanted:"
   ]
  },
  {
   "cell_type": "code",
   "execution_count": null,
   "metadata": {},
   "outputs": [],
   "source": [
    "import weakref\n",
    "\n",
    "c1 = Circle(4)\n",
    "print(\"Radius of c1:\", c1.r)\n",
    "print(\"Area of c1:\", c1.area())\n",
    "\n",
    "c2 = Circle(2)\n",
    "print(\"Radius of c2:\", c2.r)\n",
    "print(\"Area of c2:\", c2.area())\n",
    "\n",
    "# Now the important part: c1 eats c2!\n",
    "c1 << c2"
   ]
  },
  {
   "cell_type": "markdown",
   "metadata": {},
   "source": [
    "Well, we didn't get an error, so that's a good sign. Let's inspect `c1` and see if it's been updated as we expect. Remember: we expect `c1` to have \"eaten\" `c2`, which means its radius should grow, and its area should be the sum of both previous areas."
   ]
  },
  {
   "cell_type": "code",
   "execution_count": null,
   "metadata": {},
   "outputs": [],
   "source": [
    "print(\"Radius of c1 after gorging on c2:\", c1.r)\n",
    "print(\"Area of c1 after gorging on c2:\", c1.area())"
   ]
  },
  {
   "cell_type": "markdown",
   "metadata": {},
   "source": [
    "It worked!\n",
    "\n",
    "The only slightly dissatisfying feature of our implementation is that, after `c1` eats `c2`, `c2` is somehow still around to tell the tale. This probably violates some conservation law, but we'll overlook that here. For reasons we won't get into, it's not trivial to delete `c2` from inside `c1`. (There are good reasons for this, and the fact that we can't easily make some of our circles wink out of existence from inside the belly of other circles might lead us to suspect we've architected our code suboptimally. But that's a problem for a different tutorial.)"
   ]
  },
  {
   "cell_type": "markdown",
   "metadata": {
    "slideshow": {
     "slide_type": "slide"
    }
   },
   "source": [
    "# Resources/further reading\n",
    "This tutorial provided a high-level look at some of the main features of the Python language—some basic, some more advanced. To really develop a working familiarity with the language, you will, of course need to roll up your sleeves and start writing some code. One of the best ways to learn is to pick a small problem that actually interests or matters to you in some way (e.g., parsing some text data you have lying around), and google for help every time you run into problems (there's no shame in consulting the internet! All programmers do it!).\n",
    "\n",
    "If you prefer to have more structure, there are hundreds of excellent, and mostly free, resources online to help you on your way. A few good ones:\n",
    "\n",
    "* CodeAcademy offers interactive programming courses for many languages and tools, including [Python](https://www.codecademy.com/learn/learn-python). (The Python 3 course costs money, but the Python 2 course is free, and the changes to the language aren't huge.)\n",
    "* [A Whirlwind Tour of Python](http://www.oreilly.com/programming/free/files/a-whirlwind-tour-of-python.pdf) is an excellent intro to Python by [Jake VanderPlas](https://staff.washington.edu/jakevdp/); Jupyter notebooks are available [here](https://github.com/jakevdp/WhirlwindTourOfPython)\n",
    "* Another excellent and free online book is Allen Downey's [\"Think Python\"](http://greenteapress.com/wp/think-python-2e/)"
   ]
  }
 ],
 "metadata": {
  "kernelspec": {
   "display_name": "Python 3",
   "language": "python",
   "name": "python3"
  },
  "language_info": {
   "codemirror_mode": {
    "name": "ipython",
    "version": 3
   },
   "file_extension": ".py",
   "mimetype": "text/x-python",
   "name": "python",
   "nbconvert_exporter": "python",
   "pygments_lexer": "ipython3",
   "version": "3.6.9"
  },
  "widgets": {
   "application/vnd.jupyter.widget-state+json": {
    "state": {},
    "version_major": 2,
    "version_minor": 0
   }
  }
 },
 "nbformat": 4,
 "nbformat_minor": 4
}
