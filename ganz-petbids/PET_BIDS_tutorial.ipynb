{
 "cells": [
  {
   "cell_type": "markdown",
   "id": "ce9fca16",
   "metadata": {},
   "source": [
    "# Getting started with the Python environment and packages"
   ]
  },
  {
   "cell_type": "code",
   "execution_count": 2,
   "id": "c6ad34f5",
   "metadata": {},
   "outputs": [
    {
     "ename": "ModuleNotFoundError",
     "evalue": "No module named 'nibabel'",
     "output_type": "error",
     "traceback": [
      "\u001b[1;31m---------------------------------------------------------------------------\u001b[0m",
      "\u001b[1;31mModuleNotFoundError\u001b[0m                       Traceback (most recent call last)",
      "\u001b[1;32m<ipython-input-2-f816d660e10a>\u001b[0m in \u001b[0;36m<module>\u001b[1;34m\u001b[0m\n\u001b[0;32m      2\u001b[0m \u001b[1;33m\u001b[0m\u001b[0m\n\u001b[0;32m      3\u001b[0m \u001b[1;32mimport\u001b[0m \u001b[0mnumpy\u001b[0m\u001b[1;33m\u001b[0m\u001b[1;33m\u001b[0m\u001b[0m\n\u001b[1;32m----> 4\u001b[1;33m \u001b[1;32mimport\u001b[0m \u001b[0mnibabel\u001b[0m\u001b[1;33m\u001b[0m\u001b[1;33m\u001b[0m\u001b[0m\n\u001b[0m\u001b[0;32m      5\u001b[0m \u001b[1;32mimport\u001b[0m \u001b[0mnipype\u001b[0m\u001b[1;33m\u001b[0m\u001b[1;33m\u001b[0m\u001b[0m\n\u001b[0;32m      6\u001b[0m \u001b[1;32mimport\u001b[0m \u001b[0mmatplotlib\u001b[0m\u001b[1;33m\u001b[0m\u001b[1;33m\u001b[0m\u001b[0m\n",
      "\u001b[1;31mModuleNotFoundError\u001b[0m: No module named 'nibabel'"
     ]
    }
   ],
   "source": [
    "# import the relevant Python packages\n",
    "\n",
    "import numpy\n",
    "import nibabel\n",
    "import nipype\n",
    "import matplotlib\n"
   ]
  },
  {
   "cell_type": "markdown",
   "id": "734530b7",
   "metadata": {},
   "source": [
    "# The PET Brain Imaging Data Structure\n",
    "\n",
    "## History\n",
    "\n",
    "The PET modality is a recent addition to BIDS with its introduction via BEP 009. If you're interested in seeing exactly what and how something gets added to BIDS see the pull request for BEP009 [here](https://github.com/bids-standard/bids-specification/pull/633). The results of that extension proposal can be read [here](https://bids-specification.readthedocs.io/en/stable/04-modality-specific-files/09-positron-emission-tomography.html#positron-emission-tomography) in the bids standard.\n",
    "\n",
    "# PET data conversion\n",
    "\n",
    "## PET image data file formats\n",
    "\n",
    "\n",
    "Before we start to convert data we need to quickly mention that PET image data files come of the scanner in various different formats, some scanners provide DICOM files (.dcm) and others use proprietary formats for example ECAT format (.v) . In order to facilitate easy testing of data conversion across different PET file formats  the [OpenNeuroPET project](https://openneuropet.github.io/) has compiled a bunch of phantom data from different scanner types and is distributing two examples [here](https://drive.google.com/file/d/10S0H7HAnMmxHNpZLlifR14ykIuiXcBAD/view?usp=sharing) . You can download them for testing purposes either manually or in the terminal by typing "
   ]
  },
  {
   "cell_type": "code",
   "execution_count": null,
   "id": "cd4010e7",
   "metadata": {},
   "outputs": [],
   "source": [
    "gdown https://drive.google.com/file/d/10S0H7HAnMmxHNpZLlifR14ykIuiXcBAD/view?usp=sharing --fuzzy"
   ]
  },
  {
   "cell_type": "markdown",
   "id": "251c65a8",
   "metadata": {},
   "source": [
    "And then unzipping the downloaded file:"
   ]
  },
  {
   "cell_type": "code",
   "execution_count": null,
   "id": "033b26d5",
   "metadata": {},
   "outputs": [],
   "source": [
    "unzip OpenNeuroPET-Demo_raw.zip"
   ]
  },
  {
   "cell_type": "markdown",
   "id": "5d08c74c",
   "metadata": {},
   "source": [
    "You can now look at the file tree:\n",
    "\n",
    "\n",
    "```\n",
    "tree OpenNeuroPET-Demo_raw \n",
    "OpenNeuroPET-Demo_raw\n",
    "│   .bidsignore\n",
    "│   .DS_Store\n",
    "│   dataset_description.json\n",
    "│   README\n",
    "│\n",
    "├───code\n",
    "│       .python_conversions.sh.swp\n",
    "│       matlab_conversions.m\n",
    "│       python_conversions.sh\n",
    "│       README.md\n",
    "│\n",
    "├───source\n",
    "│   │   .DS_Store\n",
    "│   │\n",
    "│   ├───SiemensBiographPETMR-NRU\n",
    "│   │       X-CAL_7.PT.Kalibrering_xca.30003.1.2022.04.26.15.04.22.218.14689529.dcm\n",
    "│   │       X-CAL_7.PT.Kalibrering_xca.30003.10.2022.04.26.15.04.22.218.14689628.dcm\n",
    "│   │       X-CAL_7.PT.Kalibrering_xca.30003.100.2022.04.26.15.04.22.218.14690618.dcm\n",
    "│   │       X-CAL_7.PT.Kalibrering_xca.30003.101.2022.04.26.15.04.22.218.14690629.dcm\n",
    "│   │       ....\n",
    "│   │\n",
    "│   └───SiemensHRRT-NRU\n",
    "│           XCal-Hrrt-2022.04.21.15.43.05_EM_3D.json\n",
    "│           XCal-Hrrt-2022.04.21.15.43.05_EM_3D.v\n",
    "│\n",
    "├───sub-SiemensBiographNRU\n",
    "│   └───pet\n",
    "│           sub-SiemensBiographNRU_pet.json\n",
    "│           sub-SiemensBiographNRU_pet.nii.gz\n",
    "│\n",
    "└───sub-SiemensHRRT\n",
    "    └───pet\n",
    "            sub-SiemensHRRT_pet.json\n",
    "            sub-SiemensHRRT_pet.nii.gz\n",
    "```\n",
    "\n",
    "Now you have an example dataset where you have source data (both for ECAT and DICOM PET image format) and the PET BIDS data sets constructed for it.\n",
    "\n",
    "Also if you have access to another PET image file format, or data from a scanner not tested, please reach out to [OpenNeuroPET project](https://openneuropet.github.io/) in order to add a phantom scan in your format.\n",
    "\n",
    "## Conversion\n",
    "\n",
    "The [OpenNeuroPET project](https://openneuropet.github.io/) has tried to develop tools for facilitating easy data conversion for PET. The main tool used for this is [PET2BIDS](https://github.com/openneuropet/PET2BIDS) freely available on the [OpenNeuroPET  GitHub repository](https://github.com/openneuropet) along with other resources like altlases or pipelines. It is available for both Python and MatLab. Eventually, [PET2BIDS](https://github.com/openneuropet/PET2BIDS) will also be wrapped inside other BIDS conversion tools such as [BIDScoin](https://github.com/Donders-Institute/bidscoin) or [ezBIDS](https://brainlife.io/ezbids/), but this is work in progress at the moment. \n",
    "\n",
    "Besides using  [PET2BIDS](https://github.com/openneuropet/PET2BIDS) there is always the possibility to manually convert a data set to PET BIDS and an example will be shown below. In any case, for dicom data format, one relies on [dcm2niix](https://www.nitrc.org/plugins/mwiki/index.php/dcm2nii:MainPage).\n",
    "\n",
    "Below we will show two ways of converting your PET data to BIDS: 1) using [PET2BIDS](https://github.com/openneuropet/PET2BIDS) and 2) manually.\n",
    "\n",
    "### 1) Conversion of PET data using PET2BIDS\n",
    "\n",
    "Detailed documentation for PET2BIDS can be found [here](https://pet2bids.readthedocs.io/en/latest/index.html#) or on the [Github repo](https://github.com/openneuropet/PET2BIDS/blob/main/README.md).\n",
    "\n",
    "##### get dcm2niix\n",
    "\n",
    "Download [dcm2niix](https://www.nitrc.org/plugins/mwiki/index.php/dcm2nii:MainPage), and for Mac and Linux users you can add it to your path, for instance it would could downloaded and unzipped into /bin."
   ]
  },
  {
   "cell_type": "code",
   "execution_count": null,
   "id": "be7ff071",
   "metadata": {},
   "outputs": [],
   "source": [
    "export PATH=\"/home/$USER/bin:$PATH\" "
   ]
  },
  {
   "cell_type": "markdown",
   "id": "93a50415",
   "metadata": {},
   "source": [
    "##### For Python:\n",
    "\n",
    "Open your terminal, either regular or anaconda terminal and type. "
   ]
  },
  {
   "cell_type": "code",
   "execution_count": null,
   "id": "40f937e9",
   "metadata": {},
   "outputs": [],
   "source": [
    "pip install pypet2bids "
   ]
  },
  {
   "cell_type": "markdown",
   "id": "cac49f50",
   "metadata": {},
   "source": [
    "Now you already have the converter installed and can go ahead and convert your first dataset! \n",
    "\n",
    "In this example, I am converting an image in DICOM format. It should be noted that pypet2bids  contains several different tools and is itself a part of the larger PET library PET2BIDS, the specific tool I will be using for the following DICOM conversion is dcm2niix4pet.\n",
    "\n",
    "You just need to point dcm2niix4pet to the folder where your data resides, *dcmfolder*, and the folder where you want to output the PET BIDS formatted dataset, *mynewfolder*:"
   ]
  },
  {
   "cell_type": "code",
   "execution_count": null,
   "id": "8ddf6e68",
   "metadata": {},
   "outputs": [],
   "source": [
    "dcm2niix4pet dcmfolder -d mynewfolder"
   ]
  },
  {
   "cell_type": "markdown",
   "id": "d60606b4",
   "metadata": {},
   "source": [
    "Note, dcm2niix4pet will do it's best to extract as much information about radiological and blood data from the DICOM files in the dcmfolder. However, dcm2niix4pet can't find information if it isn't there, hence it will often be up to you the user to provide some missing information at the time of conversion. \n",
    "\n",
    "Additional information can be provided via the command line with the `--kwargs` argument in the form of key=pair values. For an idea of what this looks like see below:\n",
    "\n",
    "\n",
    "\n",
    "```bash\n",
    "dcm2niix4pet /OpenNeuroPET-Demo_raw/source/SiemensBiographPETMR-NRU -d mynewfolder --kwargs TimeZero=ScanStart \n",
    "Manufacturer=Siemens \n",
    "ManufacturersModelName=Biograph \n",
    "InstitutionName=\"Rigshospitalet, NRU, DK\"\n",
    "BodyPart=Phantom\n",
    "Units=Bq/mL\n",
    "TracerName=none\n",
    "TracerRadionuclide=F18\n",
    "InjectedRadioactivity=81.24\n",
    "SpecificRadioactivity=13019.23\n",
    "ModeOfAdministration=infusion\n",
    "FrameTimesStart=0\n",
    "AcquisitionMode=\"list mode\"\n",
    "ImageDecayCorrected=true\n",
    "ImageDecayCorrectionTime=0\n",
    "AttenuationCorrection=MR-corrected\n",
    "FrameDuration=300\n",
    "FrameTimesStart=0\n",
    "```\n",
    "\n",
    "Now you have a dataset in PET BIDS format. You will probably have gotten some warnings relating to the .json sidecar file. Carefully look at them, since they will help you to catch inconsistencies and missing required fields that you need to add in order for the dataset to pass the BIDS validator as well (see below how that's done). \n",
    "You can always edit the .json file, by opening it in a text editor and manually fixing errors. Alternatively, adjust the meta structure you created above to correct the errors.\n",
    "\n",
    "# PET processing\n",
    "\n",
    "## PET example data for processing\n",
    "\n",
    "In the following we will basically follow the tutorial presented in the [PyPetSurfer repository](https://github.com/openneuropet/PET_pipelines/tree/main/pyPetSurfer) and perform a simple data processing of a PET data set. Therefore we need to clone that GitHub repository:\n"
   ]
  },
  {
   "cell_type": "code",
   "execution_count": null,
   "id": "c7da97ff",
   "metadata": {},
   "outputs": [],
   "source": [
    "! git clone https://github.com/openneuropet/PET_pipelines/tree/main/pyPetSurfer ."
   ]
  },
  {
   "cell_type": "markdown",
   "id": "68ca8349",
   "metadata": {},
   "source": [
    "Then we need to cd to the right directory inside the Github repository:"
   ]
  },
  {
   "cell_type": "code",
   "execution_count": null,
   "id": "b405f875",
   "metadata": {},
   "outputs": [],
   "source": [
    " cd pyPetSurfer "
   ]
  },
  {
   "cell_type": "markdown",
   "id": "1fa47ad3",
   "metadata": {},
   "source": [
    "Download this example dataset from OpenNeuro: https://openneuro.org/datasets/ds001421. You can see instructions on how to do this [here](https://openneuro.org/datasets/ds001421/versions/1.2.1/download). In this example, I will use the openneuro cli "
   ]
  },
  {
   "cell_type": "code",
   "execution_count": null,
   "id": "40075136",
   "metadata": {},
   "outputs": [],
   "source": [
    "openneuro download --snapshot 1.2.1 ds001421 ds001421-download/"
   ]
  },
  {
   "cell_type": "markdown",
   "id": "bfe2e6b4",
   "metadata": {},
   "source": [
    "And now simply perform your first PET data anlysis, including"
   ]
  },
  {
   "cell_type": "code",
   "execution_count": null,
   "id": "da214afe",
   "metadata": {},
   "outputs": [],
   "source": [
    "%run example.py"
   ]
  },
  {
   "cell_type": "code",
   "execution_count": null,
   "id": "0f17e80d",
   "metadata": {},
   "outputs": [],
   "source": []
  }
 ],
 "metadata": {
  "kernelspec": {
   "display_name": "Python 3",
   "language": "python",
   "name": "python3"
  },
  "language_info": {
   "codemirror_mode": {
    "name": "ipython",
    "version": 3
   },
   "file_extension": ".py",
   "mimetype": "text/x-python",
   "name": "python",
   "nbconvert_exporter": "python",
   "pygments_lexer": "ipython3",
   "version": "3.8.8"
  }
 },
 "nbformat": 4,
 "nbformat_minor": 5
}
