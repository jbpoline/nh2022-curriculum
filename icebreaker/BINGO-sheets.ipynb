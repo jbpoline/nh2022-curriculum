{
 "cells": [
  {
   "cell_type": "markdown",
   "metadata": {},
   "source": [
    "# NeuroHackademy 2022: BINGO Icebreaker"
   ]
  },
  {
   "cell_type": "markdown",
   "metadata": {},
   "source": [
    "To play BINGO, you need to generate a BINGO sheet. In order to do this, click in the cell below; this will cause a green boundary to form around the cell. Once you see the green boundary, hold Control and press Enter. This will evaluate the cell and produce a BINGO sheet for you to use!"
   ]
  },
  {
   "cell_type": "code",
   "execution_count": null,
   "metadata": {},
   "outputs": [],
   "source": [
    "# Import the BINGO's draw function.\n",
    "from BINGO import draw\n",
    "\n",
    "# Draw a BINGO Sheet!\n",
    "draw();"
   ]
  },
  {
   "cell_type": "markdown",
   "metadata": {},
   "source": [
    "For online participants, Zoom rooms for the BINGO sheets can be found [here](https://github.com/neurohackademy/zoom2022/blob/master/README.md)."
   ]
  }
 ],
 "metadata": {
  "kernelspec": {
   "display_name": "Noah's Python Environment",
   "language": "python",
   "name": "python-nben"
  },
  "language_info": {
   "codemirror_mode": {
    "name": "ipython",
    "version": 3
   },
   "file_extension": ".py",
   "mimetype": "text/x-python",
   "name": "python",
   "nbconvert_exporter": "python",
   "pygments_lexer": "ipython3",
   "version": "3.8.2"
  }
 },
 "nbformat": 4,
 "nbformat_minor": 4
}
