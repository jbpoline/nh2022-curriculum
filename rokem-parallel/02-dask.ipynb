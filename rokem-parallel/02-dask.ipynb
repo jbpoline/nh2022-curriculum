{
 "cells": [
  {
   "cell_type": "markdown",
   "id": "69bb6aef-660a-4721-9c43-a1d8be0a17c5",
   "metadata": {},
   "source": [
    "# Parallelizing Python with Dask. \n",
    "\n",
    "[Dask](http://dask.pydata.org/) is a library for parallel and distributed computing in Python. As mentioned in the Introduction, one of the main limitations of Python is that in most cases, a single Python interpreter can only access a single thread of computation at a time . This is because of the so-called Global\n",
    "Interpreter Lock (or [GIL](https://docs.python.org/3/glossary.html#term-global-interpreter-lock)).\n",
    "\n",
    "And while there is a [multiprocessing module](https://docs.python.org/3/library/multiprocessing.html) in the Python standard library, it's use is cumbersome and often requires complicated decisions. Dask simplifies this substantially, by making the code simpler, and by making these decisions for you.\n",
    "\n",
    "\n",
    "### Dask delayed computation:\n",
    "\n",
    "Let's look at a simple example. The following are some very fast and simple calculations, and we add some `sleep` into them, to simulate a compute-intensive task that takes some time to complete:\n"
   ]
  },
  {
   "cell_type": "code",
   "execution_count": 1,
   "id": "719561fc-e60c-4b0f-b395-4ec9f03d540a",
   "metadata": {},
   "outputs": [],
   "source": [
    "import time\n",
    "\n",
    "def inc(x):\n",
    "    time.sleep(1)\n",
    "    return x + 1\n",
    "\n",
    "def add(x, y):\n",
    "    time.sleep(1)\n",
    "    return x + y"
   ]
  },
  {
   "cell_type": "markdown",
   "id": "6f5539cb-401b-4647-84e9-3c062ed102e3",
   "metadata": {},
   "source": [
    "How much time would it take to perform the following computation? \n",
    "\n",
    "    x1 = inc(1)\n",
    "    x2 = inc(2)\n",
    "    z = add(x1, x2)\n",
    "\n",
    "Let's profile it:"
   ]
  },
  {
   "cell_type": "code",
   "execution_count": 2,
   "id": "04e72717-666d-429c-9fbb-093d8afa452a",
   "metadata": {},
   "outputs": [
    {
     "name": "stdout",
     "output_type": "stream",
     "text": [
      "CPU times: user 8.32 ms, sys: 6.21 ms, total: 14.5 ms\n",
      "Wall time: 3 s\n"
     ]
    }
   ],
   "source": [
    "%%time \n",
    "x1 = inc(1)\n",
    "x2 = inc(2)\n",
    "z = add(x1, x2)"
   ]
  },
  {
   "cell_type": "markdown",
   "id": "6d799352-8677-4ae3-8b7e-6747b35f896b",
   "metadata": {},
   "source": [
    "> Notice that we're using the `%%time` magic here, which only times one run of the code. If we want this estimate to be more accurate, it's better to run `%%timeit`, but that also takes longer, because it does several repeats.\n",
    "\n",
    "But does it have to take this long? Notice that while `z` depends on both `x1` and `x2`, there is no dependency between `x1` and `x2`. In principle, we could compute both of them in parallel, but Python doesn't do that out of the box. One way to convince Python to parallelize these is by telling Dask in advance about the dependencies between different variables, and letting it infer how to distribute the computations across threads."
   ]
  },
  {
   "cell_type": "markdown",
   "id": "5c8d6171-3393-4424-9e3b-899b1ea1b7cf",
   "metadata": {},
   "source": [
    "To enable this, we have to start by preprocessing our *functions*. The Python language has a notion of a *decorator*. This is a function that takes functions as inputs and produces functions as outputs, while doing something to them in the interim. In the case of dask's \"delayed\" decorator, it does something a bit odd: it makes it so that the function is not executed, until the subsequent consequences of running this function are well understood by dask. If that sounds odd, it will become clear soon. \n",
    "\n",
    "Let's start by creating the decorated versions of the functions we defined above:"
   ]
  },
  {
   "cell_type": "code",
   "execution_count": 3,
   "id": "ca81177d-4df3-4241-a95d-e8192d8a650d",
   "metadata": {},
   "outputs": [],
   "source": [
    "from dask import delayed\n",
    "\n",
    "delayed_inc = delayed(inc)\n",
    "delayed_add = delayed(add)"
   ]
  },
  {
   "cell_type": "markdown",
   "id": "ff54f9c0-43fe-4b78-a85e-6d4369098d39",
   "metadata": {},
   "source": [
    "Now, we compute our result in a delayed fashion:"
   ]
  },
  {
   "cell_type": "code",
   "execution_count": 4,
   "id": "7f113dfb-2885-4a4d-bee5-7c16d7e9e311",
   "metadata": {},
   "outputs": [],
   "source": [
    "x1 = delayed_inc(1)\n",
    "x2 = delayed_inc(2)\n",
    "z = delayed_add(x1, x2)"
   ]
  },
  {
   "cell_type": "markdown",
   "id": "2b45f8d9-a510-4f27-ae82-c6903df5e77f",
   "metadata": {},
   "source": [
    "Note that running that cell by itself took no time at all. On the other hand, there's also no result yet: "
   ]
  },
  {
   "cell_type": "code",
   "execution_count": 5,
   "id": "705143c7-961f-4540-9d60-1818ad909006",
   "metadata": {},
   "outputs": [
    {
     "data": {
      "text/plain": [
       "Delayed('add-1d3efa17-013e-4692-a9b8-a0bdcedb29cf')"
      ]
     },
     "execution_count": 5,
     "metadata": {},
     "output_type": "execute_result"
    }
   ],
   "source": [
    "z"
   ]
  },
  {
   "cell_type": "markdown",
   "id": "4f4af9a9-1bd1-499f-a2e7-02b9a85582e1",
   "metadata": {},
   "source": [
    "For now, all we have is an object that doesn't have a value, but that knows how to get its value once it will be asked for it. It can even report about the computational dependencies that will lead to its eventual materialization:"
   ]
  },
  {
   "cell_type": "code",
   "execution_count": 6,
   "id": "3216eaf5-4d4d-47a9-bd1a-50b0ab6d324c",
   "metadata": {},
   "outputs": [
    {
     "data": {
      "image/png": "[encoded data removed]",
      "text/plain": [
       "<IPython.core.display.Image object>"
      ]
     },
     "execution_count": 6,
     "metadata": {},
     "output_type": "execute_result"
    }
   ],
   "source": [
    "z.visualize()"
   ]
  },
  {
   "cell_type": "markdown",
   "id": "92428b42-a07c-417a-9e3c-0b24efab05d5",
   "metadata": {},
   "source": [
    "This is neat. The graph that was created includes the understanding that the two increment operations are independent and can proceed in parallel, and that it is only addition depends on the results of these computations and needs to wait for them. How long do you think the computation will take this time?"
   ]
  },
  {
   "cell_type": "code",
   "execution_count": 7,
   "id": "1590857a-5ba8-476c-bd1c-300853bdcc9d",
   "metadata": {},
   "outputs": [
    {
     "name": "stdout",
     "output_type": "stream",
     "text": [
      "CPU times: user 4 ms, sys: 4.74 ms, total: 8.74 ms\n",
      "Wall time: 2.01 s\n"
     ]
    }
   ],
   "source": [
    "%%time \n",
    "result = z.compute()"
   ]
  },
  {
   "cell_type": "markdown",
   "id": "cca61270-6162-46db-a822-abb67051759d",
   "metadata": {},
   "source": [
    "And now, we also have the value: "
   ]
  },
  {
   "cell_type": "code",
   "execution_count": 8,
   "id": "6aa1ba23-fd57-44c8-9755-6a508ac25efe",
   "metadata": {},
   "outputs": [
    {
     "data": {
      "text/plain": [
       "5"
      ]
     },
     "execution_count": 8,
     "metadata": {},
     "output_type": "execute_result"
    }
   ],
   "source": [
    "result"
   ]
  },
  {
   "cell_type": "markdown",
   "id": "03d8def3-aff2-4793-a850-29d230fb2cd5",
   "metadata": {},
   "source": [
    "This simple example is really the basis for everything that Dask does. However, much of its strength comes from the fact that it applies these ideas in a way that is tailored to computations that scientists might want to do. For example, Dask has implementations of several commonly-used Pytho data-structures. In particular, it implements a data structure that resembles the Numpy Array object and another data structure that resembles the Pandas DataFrame. This lets us do slightly more interesting things and leverage our knowledge of these tools."
   ]
  },
  {
   "cell_type": "code",
   "execution_count": null,
   "id": "b19326ca-20be-4193-9da4-26ddcc7d1174",
   "metadata": {},
   "outputs": [],
   "source": []
  }
 ],
 "metadata": {
  "kernelspec": {
   "display_name": "Python 3 (ipykernel)",
   "language": "python",
   "name": "python3"
  },
  "language_info": {
   "codemirror_mode": {
    "name": "ipython",
    "version": 3
   },
   "file_extension": ".py",
   "mimetype": "text/x-python",
   "name": "python",
   "nbconvert_exporter": "python",
   "pygments_lexer": "ipython3",
   "version": "3.7.12"
  }
 },
 "nbformat": 4,
 "nbformat_minor": 5
}
