{
 "cells": [
  {
   "cell_type": "markdown",
   "id": "ec7f3d6c-bf9b-474d-abf6-62530eceb0ba",
   "metadata": {},
   "source": [
    "# Using Dask to distribute computations\n",
    "\n",
    "In addition to the paralellization tricks that you saw so far, Dask has an entire other side to it devoted to distributed computing. Of course, parallelization and distributed computing are closely linked, because one of the limitations on parallelization is the compute that is available. There are a lot of ways to get a cluster of dask \"workers\" going, but once you do have one of these, the interface is again remarkably consistent. For the purpose of demonstration here, we will use a so-called \"local cluster\" "
   ]
  },
  {
   "cell_type": "code",
   "execution_count": 1,
   "id": "827c814c-df87-4f74-82a0-3b2125420562",
   "metadata": {},
   "outputs": [],
   "source": [
    "from dask.distributed import Client"
   ]
  },
  {
   "cell_type": "code",
   "execution_count": 2,
   "id": "d15c4570-5bd5-4ef0-a096-a70b2d8e2aef",
   "metadata": {},
   "outputs": [
    {
     "name": "stderr",
     "output_type": "stream",
     "text": [
      "distributed.diskutils - INFO - Found stale lock file and directory '/home/jovyan/source/nh2022-curriculum/rokem-parallel/dask-worker-space/worker-td7clynq', purging\n",
      "distributed.diskutils - INFO - Found stale lock file and directory '/home/jovyan/source/nh2022-curriculum/rokem-parallel/dask-worker-space/worker-m_4m629x', purging\n",
      "distributed.diskutils - INFO - Found stale lock file and directory '/home/jovyan/source/nh2022-curriculum/rokem-parallel/dask-worker-space/worker-04vim5ks', purging\n",
      "distributed.diskutils - INFO - Found stale lock file and directory '/home/jovyan/source/nh2022-curriculum/rokem-parallel/dask-worker-space/worker-5fmvhbfm', purging\n",
      "distributed.diskutils - INFO - Found stale lock file and directory '/home/jovyan/source/nh2022-curriculum/rokem-parallel/dask-worker-space/worker-ycizx40p', purging\n",
      "distributed.diskutils - INFO - Found stale lock file and directory '/home/jovyan/source/nh2022-curriculum/rokem-parallel/dask-worker-space/worker-kq5u5p3c', purging\n"
     ]
    }
   ],
   "source": [
    "client = Client()"
   ]
  },
  {
   "cell_type": "code",
   "execution_count": 3,
   "id": "7f9d6a83-d213-4350-a0eb-4e0bb9f35661",
   "metadata": {},
   "outputs": [],
   "source": [
    "import time\n",
    "\n",
    "def inc(x):\n",
    "    time.sleep(1)\n",
    "    return x + 1\n"
   ]
  },
  {
   "cell_type": "markdown",
   "id": "a3dca9be-79bb-43d9-8e9b-ebe76cbd6d77",
   "metadata": {},
   "source": [
    "There are a few things we can do with the client. The first is to map a function (for example, our incrementation function) to a sequence of inputs (for example, all the numbers from 0 to 999). "
   ]
  },
  {
   "cell_type": "code",
   "execution_count": 4,
   "id": "904b5c20-e0bd-40c4-b506-d52bf8e6a73c",
   "metadata": {},
   "outputs": [],
   "source": [
    "incs = client.map(inc, range(100))"
   ]
  },
  {
   "cell_type": "markdown",
   "id": "e2e0ac56-aaff-400b-abca-1705bd9a3830",
   "metadata": {},
   "source": [
    "The result is a sequence of so-called \"concurrent futures\" objects. This is a Python abstraction for things that are happening in parallel. Dask follows the standard Python API for this kind of thing, so that other Python libraries that know how to operate with this kind of object all work. What's in here? A sequence of these these objects, together with their status. One of the powerful facts about these objects is that the results of the computations are stored on the cluster, and we don't necessarily have to pull them down here (although we could, each one of the has a `result` method that pulls this down from the cluster). Instead, we can pass them on to another operation."
   ]
  },
  {
   "cell_type": "markdown",
   "id": "d2965b29-49a6-4b97-8d6c-77c8af13e740",
   "metadata": {},
   "source": [
    "Which brings us to the second thing that a client can do for us, which is to submit a function to the cluster, together with its inputs. In this case, the inputs are the sequence of futures. The function is sent to the cluster, and computation takes place there. So, if the results of computation are very big, we are not introducing a big memory or data transfer bottleneck. Instead, if the cluster is large (has lots of workers, and potentially lots of memory), we can take advantage of its distributed nature to never overwhelm any particular part of the system"
   ]
  },
  {
   "cell_type": "code",
   "execution_count": 5,
   "id": "b05a4dd9-8774-4f0e-924e-9bbeeb01fd86",
   "metadata": {},
   "outputs": [],
   "source": [
    "total = client.submit(sum, incs)"
   ]
  },
  {
   "cell_type": "markdown",
   "id": "2218b67e-6094-4520-9223-30aace5e089c",
   "metadata": {},
   "source": [
    "This too is a concurrent futures object, and its resolution depends on the resolution of the previous operations"
   ]
  },
  {
   "cell_type": "code",
   "execution_count": 11,
   "id": "0825d81b-99bf-47c4-9e2d-20d509fdb476",
   "metadata": {},
   "outputs": [
    {
     "data": {
      "text/html": [
       "<strong>Future: sum</strong>\n",
       "<span style=\"color: var(--jp-ui-font-color2, gray)\"> status: </span>\n",
       "\n",
       "\n",
       "<span style=\"color: var(--jp-error-color0, black)\">finished</span>,\n",
       "\n",
       "\n",
       "\n",
       "<span style=\"color: var(--jp-ui-font-color2, gray)\"> type:</span> int,\n",
       "\n",
       "\n",
       "<span style=\"color: var(--jp-ui-font-color2, gray)\"> key:</span> sum-38025fe64dd8dd8f3d4047ea3558d3a3"
      ],
      "text/plain": [
       "<Future: finished, type: int, key: sum-38025fe64dd8dd8f3d4047ea3558d3a3>"
      ]
     },
     "execution_count": 11,
     "metadata": {},
     "output_type": "execute_result"
    }
   ],
   "source": [
    "total"
   ]
  },
  {
   "cell_type": "markdown",
   "id": "94d662f6-7974-4d4d-930f-9721c2669a2b",
   "metadata": {},
   "source": [
    "Finally we can send dask objects to the cluster to be computed there. For example, consider a situation where we want to summarize a collection of really large data structures. For example arrays with 1000-by-1000-by-1000 elements. We can ask Dask to perform the summary/aggregation on the cluster, and then collect the result at the end."
   ]
  },
  {
   "cell_type": "code",
   "execution_count": 41,
   "id": "d4d38afc-e1bb-4d02-be87-f0010368082b",
   "metadata": {},
   "outputs": [],
   "source": [
    "import dask.array as da\n",
    "random_arrays = da.concatenate([da.random.random((1000, 1000, 1000)) for i in range(10)])"
   ]
  },
  {
   "cell_type": "code",
   "execution_count": 42,
   "id": "ce2bc778-c6fc-41c4-a8c5-889d41625fa6",
   "metadata": {},
   "outputs": [],
   "source": [
    "means = da.mean(random_arrays, -1)"
   ]
  },
  {
   "cell_type": "code",
   "execution_count": 43,
   "id": "b7696ef4-1ef5-49fc-8554-e1f5287dc167",
   "metadata": {},
   "outputs": [],
   "source": [
    "my_means = client.compute(means)"
   ]
  },
  {
   "cell_type": "code",
   "execution_count": 44,
   "id": "2b26cf47-d287-40b6-a98e-b66ccf114a14",
   "metadata": {},
   "outputs": [
    {
     "data": {
      "text/html": [
       "<strong>Future: finalize</strong>\n",
       "<span style=\"color: var(--jp-ui-font-color2, gray)\"> status: </span>\n",
       "\n",
       "\n",
       "<span style=\"color: var(--jp-error-color0, black)\">pending</span>,\n",
       "\n",
       "\n",
       "\n",
       "<span style=\"color: var(--jp-ui-font-color2, gray)\"> type:</span> NoneType,\n",
       "\n",
       "\n",
       "<span style=\"color: var(--jp-ui-font-color2, gray)\"> key:</span> finalize-4a0872d8243604bbb6b12b965ef3ad40"
      ],
      "text/plain": [
       "<Future: pending, key: finalize-4a0872d8243604bbb6b12b965ef3ad40>"
      ]
     },
     "execution_count": 44,
     "metadata": {},
     "output_type": "execute_result"
    }
   ],
   "source": [
    "my_means"
   ]
  },
  {
   "cell_type": "code",
   "execution_count": 45,
   "id": "97894a62-b251-480b-8e1d-299bb8464a8b",
   "metadata": {},
   "outputs": [
    {
     "data": {
      "text/plain": [
       "array([[0.50819211, 0.50867339, 0.5012711 , ..., 0.50298155, 0.50676199,\n",
       "        0.49435751],\n",
       "       [0.49902563, 0.49384037, 0.4998886 , ..., 0.49611254, 0.4963958 ,\n",
       "        0.49249021],\n",
       "       [0.49971012, 0.49499839, 0.50482917, ..., 0.50321588, 0.50323226,\n",
       "        0.50166189],\n",
       "       ...,\n",
       "       [0.50164299, 0.48836632, 0.49430836, ..., 0.51168625, 0.50501338,\n",
       "        0.49787479],\n",
       "       [0.49776087, 0.49109849, 0.50324673, ..., 0.49561485, 0.50006045,\n",
       "        0.50560226],\n",
       "       [0.5166063 , 0.52233526, 0.50358243, ..., 0.51052183, 0.49485912,\n",
       "        0.49424677]])"
      ]
     },
     "execution_count": 45,
     "metadata": {},
     "output_type": "execute_result"
    }
   ],
   "source": [
    "client.gather(my_means)"
   ]
  },
  {
   "cell_type": "markdown",
   "id": "b2cdf4e8-a8c7-4f2e-8966-4464070111bd",
   "metadata": {},
   "source": [
    "It's a good idea to cleanly close the client once you are done, so that you don't have cruft from the client still hanging around. These objects tend to create all kinds of traces in memory and on your file system"
   ]
  },
  {
   "cell_type": "code",
   "execution_count": null,
   "id": "76f1a340-37fc-4702-ab7e-5237bc846cae",
   "metadata": {},
   "outputs": [],
   "source": [
    "client.close()"
   ]
  },
  {
   "cell_type": "code",
   "execution_count": null,
   "id": "e423dbbe-4773-4b9e-b41d-340f64542838",
   "metadata": {},
   "outputs": [],
   "source": []
  }
 ],
 "metadata": {
  "kernelspec": {
   "display_name": "Python 3 (ipykernel)",
   "language": "python",
   "name": "python3"
  },
  "language_info": {
   "codemirror_mode": {
    "name": "ipython",
    "version": 3
   },
   "file_extension": ".py",
   "mimetype": "text/x-python",
   "name": "python",
   "nbconvert_exporter": "python",
   "pygments_lexer": "ipython3",
   "version": "3.7.12"
  }
 },
 "nbformat": 4,
 "nbformat_minor": 5
}
