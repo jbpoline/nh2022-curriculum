{
 "cells": [
  {
   "cell_type": "markdown",
   "id": "be6cad4a-ac45-49aa-b115-dc091a799357",
   "metadata": {},
   "source": [
    "# Introduction\n",
    "\n",
    "Writing code in python is easy: because it is dynamically typed, we don’t have to worry to much about declaring variable types (e.g. integers vs. floating point numbers). Also, it is interpreted, rather than compiled. Taken together, this means that we can avoid a lot of the boiler-plate that makes compiled, statically typed languages hard to read. However, this incurs a major drawback: performance for some operations can be quite slow.\n",
    "\n",
    "Whenever possible, the numpy array representation is helpful in saving time. But not all operations can be vectorized. What do you do when you need to speed up your code, but can’t rely on vectorization?\n",
    "\n",
    "Here, we’ll mention two general approaches to speeding up code:\n",
    "\n",
    "1. The first is the main topic of this tutorial, parallelization. One of the reasons that Python can be slow is that it does one thing at a time. Technically, this is because to make sure that it doesn't corrupt data and/or memory, and so that basic operations run reasonably fast, Python runs on a single thread at any given time. This is implemented in the so-called Global Interpreter Lock, or GIL. Here, we'll explore one (of many!) approach to parallelization, using a software library called Dask. \n",
    "\n",
    "1. The other approach -- which we will not explore in this tutorial -- is to compile your Python code into something faster, and then call the compiled code from with Python. There are two ways to do that: \n",
    "    - Sometimes, your only choice in speeding up code is to write extension code in C, but this is very cumbersome, and requires writing many lines of additional code above and beyond your core algorithms, just to communicate between the Python and C computation layers. [Cython](https://cython.org/) is a technology that allows us to easily bridge between python, and the underlying C representations. The main purpose of the library is to take code that is written in python, and, provided some additional amount of (mostly type) information, compile it to C, compile the C code, and bundle the C objects into python extensions that can then be imported directly into python.\n",
    "\n",
    "    - [Numba](https://numba.pydata.org/) and [Jax](https://jax.readthedocs.io/en/latest/index.html) also compile your code to machine code, but they both take a distinctly different approach. Instead of translating your Python code to C, and then compiling that down to machine code, they compile the code “just in time”, at the time that the code is called.\n",
    "\n",
    "\n",
    "But before we dive into parallelization, we need to find a way to know whether what we are doing is even helping."
   ]
  },
  {
   "cell_type": "markdown",
   "id": "a1dd27eb-e436-4fdf-8b0e-f4d7e3033954",
   "metadata": {},
   "source": [
    "## Profiling\n",
    "\n",
    "To know whether what you are doing is helping, it is crucial to measure how well you are doing before and after some change. Profiling is a way to know how well a particular piece of code works.\n",
    "\n",
    "### The IPython `timeit` magic\n",
    "\n",
    "In the Jupyter Python notebook, you can use a ‘magic’ function to time either a single statement, or multiple statements. For example, the following shows us how one operation scales with the size of the data. In this case, the %timeit magic only times the operation on that line."
   ]
  },
  {
   "cell_type": "code",
   "execution_count": null,
   "id": "d3f2d595-5d60-4a97-87fc-a3708502c373",
   "metadata": {},
   "outputs": [],
   "source": [
    "import numpy as np\n",
    "\n",
    "for shape in [10e3, 10e4, 10e5]:\n",
    "    X = np.random.rand(int(shape))\n",
    "    %timeit np.dot(X, X.T)"
   ]
  },
  {
   "cell_type": "markdown",
   "id": "54c069d9-7f2b-41df-8942-5073f2f2cb0e",
   "metadata": {},
   "source": [
    "In contrast, if you use `%%timeit`, the magic would apply to the entire cell.\n",
    "\n",
    "For example, in the following cell, we might calculate the pair-wise distance between the entries in a random matrix of 100 by 100, and store them:"
   ]
  },
  {
   "cell_type": "code",
   "execution_count": null,
   "id": "56384282-e2f6-4b31-8fee-e27a8f477769",
   "metadata": {},
   "outputs": [],
   "source": [
    "%%timeit \n",
    "X = np.random.rand(100, 100)\n",
    "D = np.empty((100, 100))\n",
    "\n",
    "M = X.shape[0]\n",
    "N = X.shape[1]\n",
    "for i in range(M):\n",
    "    for j in range(M):\n",
    "        d = 0.0\n",
    "        for k in range(N):\n",
    "            tmp = X[i, k] - X[j, k]\n",
    "            d += tmp * tmp\n",
    "        D[i, j] = np.sqrt(d)"
   ]
  },
  {
   "cell_type": "markdown",
   "id": "517e607f-8213-48c1-9aba-b6bec1aca4e2",
   "metadata": {},
   "source": [
    "## Line profiling\n",
    "\n",
    "Knowing that some set of procedures takes time is good, but to improve things, we often need to drill down deeper, and figure out which exact lines within a function are the ones that take up most of the time.\n",
    "\n",
    "That’s where a line-profiler comes in handy. We activate the Jupyter extension"
   ]
  },
  {
   "cell_type": "code",
   "execution_count": null,
   "id": "444fe08c-0cc2-4771-b8a0-b75843dadea3",
   "metadata": {},
   "outputs": [],
   "source": [
    "%load_ext line_profiler"
   ]
  },
  {
   "cell_type": "markdown",
   "id": "06c35484-7919-4295-ac9e-683d53c1a6d0",
   "metadata": {},
   "source": [
    "One you've done that, you'll need to define a function around the code\n",
    "that you are interested in profiling:"
   ]
  },
  {
   "cell_type": "code",
   "execution_count": null,
   "id": "ec24230d-35ab-44a7-9e53-658cfd9a29de",
   "metadata": {},
   "outputs": [],
   "source": [
    "def distance():\n",
    "    X = np.random.rand(100, 100)\n",
    "    D = np.empty((100, 100))\n",
    "\n",
    "    M = X.shape[0]\n",
    "    N = X.shape[1]\n",
    "    for i in range(M):\n",
    "        for j in range(M):\n",
    "            d = 0.0\n",
    "            for k in range(N):\n",
    "                tmp = X[i, k] - X[j, k]\n",
    "                d += tmp * tmp\n",
    "            D[i, j] = np.sqrt(d)"
   ]
  },
  {
   "cell_type": "markdown",
   "id": "a7e1e79e-03c9-4618-beec-2f9ef008236f",
   "metadata": {},
   "source": [
    "Sometimes the function you want to profile is not the same as the one you\n",
    "would call to profile it, so the syntax of the line-profiler extension\n",
    "is:\n",
    "\n",
    "    %lprun -f function_to_be_profiled function_to_be_called()\n",
    "    \n",
    "In this case, they are the same, so we run the following:"
   ]
  },
  {
   "cell_type": "code",
   "execution_count": null,
   "id": "060dbdd6-c3a1-49a5-9dd1-af4649e828ad",
   "metadata": {},
   "outputs": [],
   "source": [
    "%lprun -f distance distance()"
   ]
  },
  {
   "cell_type": "markdown",
   "id": "63cd9363-a902-40a7-9aa2-3941d1917338",
   "metadata": {},
   "source": [
    "In this output, the 'Hits' column is important, because it tells us that some lines of code are heavily used. And the '% Time' column is also very important, because it tells us where we should focus our attention first, in making this go faster."
   ]
  },
  {
   "cell_type": "markdown",
   "id": "a3f93c12-d0a2-40f2-9dc1-c25381e5e7e2",
   "metadata": {},
   "source": [
    "With that in our toolbox, let's start accelerating some code!"
   ]
  },
  {
   "cell_type": "code",
   "execution_count": null,
   "id": "291d97c8-49a4-44bd-b566-da58d62f5804",
   "metadata": {},
   "outputs": [],
   "source": []
  }
 ],
 "metadata": {
  "kernelspec": {
   "display_name": "Python 3 (ipykernel)",
   "language": "python",
   "name": "python3"
  },
  "language_info": {
   "codemirror_mode": {
    "name": "ipython",
    "version": 3
   },
   "file_extension": ".py",
   "mimetype": "text/x-python",
   "name": "python",
   "nbconvert_exporter": "python",
   "pygments_lexer": "ipython3",
   "version": "3.7.12"
  }
 },
 "nbformat": 4,
 "nbformat_minor": 5
}
