{
 "cells": [
  {
   "cell_type": "markdown",
   "id": "a9572126-fbc0-4db1-aa18-a86e7ff521c7",
   "metadata": {},
   "source": [
    "# Statistical visualization with Seaborn\n",
    "\n",
    "In the previous notebook, you saw how to operate on Matplotlib objects. This serves as an important foundation. But now, I am going to show you a short-cut that will allow you to create elegant and rather complex visualizations of statistical quantities, without having to operate at that low level. This is the Seaborn visualization library. It builds upon the Matplotlib basis to create rich statistical visualizations of the kind that you will want to use when comparing quantities, or characterizing quantitative data.\n",
    "\n",
    "Incidentally, Seaborn was also started by a neuroscientist, Michael Waskom, who created the tool originally as a way to formalize the kinds of visualizations that he was creating in his own research and so that he could reuse them himself. But, thanks to the elegance of the visualizations that the library creates, the broad utility of these visualization methods, and the easy-to-use API that utilizes the data munging capabilities of Pandas `DataFrame` objects, providing just enough flexibility, the library gained a very large user base, and it is now one of the most popular data science tools in any programming language.\n",
    "\n",
    "Let's import it and start using it:"
   ]
  },
  {
   "cell_type": "code",
   "execution_count": null,
   "id": "0b8d5429-a77b-4e19-b537-2637d5cceec4",
   "metadata": {},
   "outputs": [],
   "source": [
    "import seaborn as sns"
   ]
  },
  {
   "cell_type": "markdown",
   "id": "b5c50ae5-fabf-42c5-849e-d43f48521658",
   "metadata": {},
   "source": [
    "We'll use the ABIDE dataset again:\n"
   ]
  },
  {
   "cell_type": "code",
   "execution_count": null,
   "id": "c637d217-3600-4743-a450-72f35dfa51d9",
   "metadata": {},
   "outputs": [],
   "source": [
    "import pandas as pd\n",
    "abide = pd.read_csv('/home/jovyan/shared/abide2/abide2.tsv', sep='\\t')"
   ]
  },
  {
   "cell_type": "markdown",
   "id": "94008e02-f26a-498e-9649-9bb56856dfa1",
   "metadata": {},
   "source": [
    "Let's start by reproducing a plot we created before. As you can see, the syntax is quite different. The data is provided as the full `DataFrame` object, and variables/columns are extracted by passing them as  axes key-word arguments. "
   ]
  },
  {
   "cell_type": "code",
   "execution_count": null,
   "id": "e0b74de4-bc6f-4f0a-9873-b3bed254c626",
   "metadata": {},
   "outputs": [],
   "source": [
    "sns.scatterplot(data=abide, x=\"fsArea_L_V1_ROI\", y=\"fsArea_R_V1_ROI\", alpha=0.3)"
   ]
  },
  {
   "cell_type": "markdown",
   "id": "2662d61b-ef56-4286-b54f-2c00118e0591",
   "metadata": {},
   "source": [
    "This is not all that different from what we saw before, but with a different function, and just a bit more information, we can create a much more elaborate visualization that provides a lot of information about the relationships in the data, including a fit to a linear model:"
   ]
  },
  {
   "cell_type": "code",
   "execution_count": null,
   "id": "709f6edd-96e1-4c69-bf77-722b4936b1ca",
   "metadata": {},
   "outputs": [],
   "source": [
    "sns.jointplot(data=abide, x=\"fsArea_L_V1_ROI\", y=\"fsArea_R_V1_ROI\", kind=\"reg\", \n",
    "              xlim=(950, 5500), ylim=(950, 5500))"
   ]
  },
  {
   "cell_type": "markdown",
   "id": "3fbdf31f-4c0d-4a09-94af-9a126fae5649",
   "metadata": {},
   "source": [
    "Another example of this is the pairplot, that compares a collection of variables. For example, let's select the 4 variables that characterize left and right V1 and compare them to each other:"
   ]
  },
  {
   "cell_type": "code",
   "execution_count": null,
   "id": "4bdb989e-456b-4ad9-b7f7-bdec3a8d0ce3",
   "metadata": {},
   "outputs": [],
   "source": [
    "v1 = abide.filter(regex=\"\\w_\\w_V1\")"
   ]
  },
  {
   "cell_type": "code",
   "execution_count": null,
   "id": "7cc6b74b-b4df-4d9b-972c-310a66c9b323",
   "metadata": {},
   "outputs": [],
   "source": [
    "sns.pairplot(data=v1)"
   ]
  },
  {
   "cell_type": "markdown",
   "id": "2d4e7cf9-f006-48a4-b6ea-998f5ebafc28",
   "metadata": {},
   "source": [
    "And so on... there are a plethora of examples in Seaborn's [example gallery](https://seaborn.pydata.org/examples/index.html)"
   ]
  },
  {
   "cell_type": "markdown",
   "id": "9c7ab344-ea7c-41ca-af1d-855e2054478c",
   "metadata": {},
   "source": [
    "## Tidy data, in long format\n",
    "\n",
    "This all seems rather good, but there is one important caveat to all this. Seaborn really works best only if the data are organized in a long tidy format. What does that mean? The idea of \"tidy data\" comes from a [paper by that name](https://vita.had.co.nz/papers/tidy-data.pdf) by Hadley Wickham. The main idea is that each row should represent an observation and each column should represent a variable. Our representation of the ABIDE data, for example, conforms nicely with this notion. However, Seaborn really works best when the tidy data that you have are also organized in what is known as the \"long format\". In this format, variables that contain similar measurements should all be grouped together into columns. For example, in the ABIDE data case, this form would require that all of ROI area columns be combined into one \"area\" column, all of the GI columns be combined into one GI column, and so on, and then there would also be a column that records the ROI to which each measurement belongs. When data is organized in this way, it is much more amenable to representation in Seaborn.\n",
    "\n",
    "Let's see what we can do to move our data into long format. Let's focus on the left V1 again. We will add an identifier column, putting back the subject study ID into the `DataFrame`:"
   ]
  },
  {
   "cell_type": "code",
   "execution_count": null,
   "id": "b67609af-4aff-4183-844c-07ebf13a4753",
   "metadata": {},
   "outputs": [],
   "source": [
    "v1[\"subject\"] = abide[\"subject\"]"
   ]
  },
  {
   "cell_type": "markdown",
   "id": "6edde2e4-a0e8-4b2a-a428-0a559abf02cb",
   "metadata": {},
   "source": [
    "Pandas `DataFrame` object implement a `melt` method that pivots the data from the wide format into a particular long format. In this case, containing a \"variable\" and a \"value\" column that store what used to be the column name and the values stored therein for each subject. "
   ]
  },
  {
   "cell_type": "code",
   "execution_count": null,
   "id": "a2be6e5a-2311-404b-8ab8-b0ce5cea1f3d",
   "metadata": {},
   "outputs": [],
   "source": [
    "long_v1 = v1.melt(id_vars=[\"subject\"])"
   ]
  },
  {
   "cell_type": "code",
   "execution_count": null,
   "id": "9a8833fd-7eaa-4464-8ba7-c32056e7ccd8",
   "metadata": {},
   "outputs": [],
   "source": [
    "long_v1"
   ]
  },
  {
   "cell_type": "markdown",
   "id": "220bd5f6-f999-4e1b-8fde-8b5963c9e042",
   "metadata": {},
   "source": [
    "Now, that the data is in the long format, it is much more amenable to use in Seaborn. For example, we can compare the different properties stored in the variables (note that the values on the x axis have a variety of units, so this is a bit of an odd thing to do, but stil). "
   ]
  },
  {
   "cell_type": "code",
   "execution_count": null,
   "id": "bab0d8a5-8e3b-44de-9705-bc26410424c0",
   "metadata": {},
   "outputs": [],
   "source": [
    "sns.boxplot(data=long_v1, x=\"value\", y=\"variable\")"
   ]
  }
 ],
 "metadata": {
  "kernelspec": {
   "display_name": "Python 3 (ipykernel)",
   "language": "python",
   "name": "python3"
  },
  "language_info": {
   "codemirror_mode": {
    "name": "ipython",
    "version": 3
   },
   "file_extension": ".py",
   "mimetype": "text/x-python",
   "name": "python",
   "nbconvert_exporter": "python",
   "pygments_lexer": "ipython3",
   "version": "3.7.12"
  }
 },
 "nbformat": 4,
 "nbformat_minor": 5
}
