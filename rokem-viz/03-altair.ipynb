{
 "cells": [
  {
   "cell_type": "markdown",
   "id": "45f6bbae-ba40-4e9a-a481-880d7e0cae29",
   "metadata": {},
   "source": [
    "# Declarative visualizations with Altair\n",
    "\n",
    "To understand the approach that we will now introduce, we need to make a new distinction: _imperative_ data visualization programming will be defined as data visualization programming that focuses on telling the computer **how** to present information. For example, whether a line should be drawn, what style it should have, what color it should be and so on. Matplotlib is an example of imperative visualization. An alternative approach is _declarative_ data visualization, which focuses more on **what** you would like to happen, and letting the computer figure out how to achieve the desired outcome."
   ]
  },
  {
   "cell_type": "markdown",
   "id": "5043ecad-b7fd-4f84-a515-abd79451166d",
   "metadata": {},
   "source": [
    "## Introducing Altair\n",
    "\n",
    "Altair is a Python library that implements a declarative approach to data visualization. It was initially developed by Jake Vanderplas and Brian Granger, in close collaboration with several members of Jeff Heer's group. It is based on a framework that Heer and members of his group developed for declarative visualizations, called [vega lite](https://idl.cs.washington.edu/papers/vega-lite/). The main idea is that there can be a neat separation between the specification of the visualization, the code that generates the specification and the front end that renders it. This makes it possible to write down rather concise descriptions of a visualization that are independent from the details of both the interface that is used to create this description, as well as all of the details. This level of abstraction has advantages in terms of the expressiveness that a programming interface can have. In particular, this is used for rather easily creating interactive visualizations with rather powerful properties. We will get to that.\n",
    "\n",
    "Let's start simple. Like Seaborn, Altair relies on Tidy Pandas DataFrames as its input. Let's start by getting such a DataFrame:"
   ]
  },
  {
   "cell_type": "code",
   "execution_count": null,
   "id": "143edd09-df3d-4be8-86bb-86f0ec62a0a6",
   "metadata": {},
   "outputs": [],
   "source": [
    "import pandas as pd"
   ]
  },
  {
   "cell_type": "code",
   "execution_count": null,
   "id": "f7f13b24-d53a-4a2b-9e43-9c294afe7300",
   "metadata": {},
   "outputs": [],
   "source": [
    "abide = pd.read_csv('/home/jovyan/shared/abide2/abide2.tsv', sep='\\t')"
   ]
  },
  {
   "cell_type": "code",
   "execution_count": null,
   "id": "7837ac45-fefa-472b-9276-a165b0809068",
   "metadata": {},
   "outputs": [],
   "source": [
    "v1 = abide.filter(regex=\"\\w_\\w_V1\")"
   ]
  },
  {
   "cell_type": "code",
   "execution_count": null,
   "id": "7a34faef-df58-4e92-ab3c-535ac0f2680e",
   "metadata": {},
   "outputs": [],
   "source": [
    "v1[\"subject\"] = abide[\"subject\"]\n",
    "v1[\"group\"] = abide[\"group\"]\n",
    "v1[\"age\"] = abide[\"age\"]"
   ]
  },
  {
   "cell_type": "code",
   "execution_count": null,
   "id": "c21108e4-f162-4a17-817b-f60d89dfe560",
   "metadata": {},
   "outputs": [],
   "source": [
    "import altair as alt"
   ]
  },
  {
   "cell_type": "markdown",
   "id": "8dbc910a-5065-415a-8629-4ac7f2e65494",
   "metadata": {},
   "source": [
    "The fundamental unit of operation in Altair is the `Chart` object. When we first create a `Chart` it is full of potential, but it doesn't really do anything. For it to do something, we must call a `mark_*` method on it, which will create the markings. Still nothing. That is because markings are nothing without their encoding. It is only when we specify how the markings should be defined that data will appear on the page."
   ]
  },
  {
   "cell_type": "code",
   "execution_count": null,
   "id": "c63ea7ad-0790-4e56-b5e4-cc4a84d6f9bb",
   "metadata": {},
   "outputs": [],
   "source": [
    "chart = alt.Chart(v1)"
   ]
  },
  {
   "cell_type": "code",
   "execution_count": null,
   "id": "986c2e4f-e7e0-4674-be89-90514c0ff8cf",
   "metadata": {},
   "outputs": [],
   "source": [
    "point = chart.mark_point()"
   ]
  },
  {
   "cell_type": "code",
   "execution_count": null,
   "id": "c2d30e93-81ab-4ae4-abb3-4dbbae9ae49b",
   "metadata": {},
   "outputs": [],
   "source": [
    "point.encode(\n",
    "    x='fsArea_R_V1_ROI',\n",
    "    y='fsArea_L_V1_ROI',\n",
    ").interactive()"
   ]
  },
  {
   "cell_type": "markdown",
   "id": "9580eab7-e994-4c78-9b14-b97d5d7c6407",
   "metadata": {},
   "source": [
    "We can relatively easily add additional encodings:"
   ]
  },
  {
   "cell_type": "code",
   "execution_count": null,
   "id": "30e5a075-385c-4838-80d5-267b70af9429",
   "metadata": {},
   "outputs": [],
   "source": [
    "point.encode(\n",
    "    x='fsArea_R_V1_ROI',\n",
    "    y='fsArea_L_V1_ROI',\n",
    "    color=\"age\",\n",
    "    size=\"age\"\n",
    ").interactive()"
   ]
  },
  {
   "cell_type": "markdown",
   "id": "d62bac25-1155-4353-9e87-93d630015e80",
   "metadata": {},
   "source": [
    "Also, once a `Chart` has been created, it can accept different marks and these can be defined using different encodings. Moreover, we can tell Altair something about the variables, to help it decide how to execute the markings. For example, adding \":N\" to the \"group\" variable, tells Altair that this is a nominal variable (not a quantitative one, despite the fact that it takes the values \"1\" and \"2\"). "
   ]
  },
  {
   "cell_type": "code",
   "execution_count": null,
   "id": "add2c524-e028-4d0c-8f15-f75f8067a666",
   "metadata": {},
   "outputs": [],
   "source": [
    "chart.mark_bar().encode(\n",
    "    x='group:N',\n",
    "    y='fsArea_L_V1_ROI',\n",
    ").interactive()"
   ]
  },
  {
   "cell_type": "markdown",
   "id": "bc1cdf9b-ed82-4db5-8f4b-89a8be1ca7c9",
   "metadata": {},
   "source": [
    "With this language in mind, we can start composing visualizations. For example, we can add transforms to a chart. This is done literally using the \"+\" operation!"
   ]
  },
  {
   "cell_type": "code",
   "execution_count": null,
   "id": "92e9d464-bae6-4c1f-83ea-64ea0c9d80cb",
   "metadata": {
    "tags": []
   },
   "outputs": [],
   "source": [
    "chart = alt.Chart(v1).mark_point().encode(\n",
    "    x='fsArea_R_V1_ROI',\n",
    "    y='fsArea_L_V1_ROI'\n",
    ")\n",
    "\n",
    "chart + chart.transform_regression('fsArea_R_V1_ROI', 'fsArea_L_V1_ROI').mark_line()"
   ]
  },
  {
   "cell_type": "markdown",
   "id": "2f26f29b-08f1-4325-b089-7846c0f7656c",
   "metadata": {},
   "source": [
    "With these basic building blocks in hand, we can combine things to flexibly create rather rich and elaborate visualizations:"
   ]
  },
  {
   "cell_type": "code",
   "execution_count": null,
   "id": "8cc8f89c-a572-4171-b175-04cdb3a3e071",
   "metadata": {},
   "outputs": [],
   "source": [
    "brush = alt.selection(type='interval', resolve='global')\n",
    "\n",
    "base = alt.Chart(v1).mark_point().encode(\n",
    "    y='age',\n",
    "    color=alt.condition(brush, 'group:N', alt.ColorValue('gray')),\n",
    ").add_selection(\n",
    "    brush\n",
    ").properties(\n",
    "    width=250,\n",
    "    height=250\n",
    ")\n",
    "\n",
    "base.encode(x='fsArea_R_V1_ROI') | base.encode(x='fsArea_L_V1_ROI')"
   ]
  },
  {
   "cell_type": "markdown",
   "id": "43ca6d4c-0dba-4706-958f-debd331df55b",
   "metadata": {},
   "source": [
    "An important thing to keep in mind is that as we move from more imperative visualization (e.g., Matplotlib) to more declarative visualization (i.e., Seaborn and then Matplotlib), we give up quite a bit of control regarding the appearance of the visualizations and the elements that appear in the visualization. For example, it would be rather tricky to "
   ]
  }
 ],
 "metadata": {
  "kernelspec": {
   "display_name": "Python 3 (ipykernel)",
   "language": "python",
   "name": "python3"
  },
  "language_info": {
   "codemirror_mode": {
    "name": "ipython",
    "version": 3
   },
   "file_extension": ".py",
   "mimetype": "text/x-python",
   "name": "python",
   "nbconvert_exporter": "python",
   "pygments_lexer": "ipython3",
   "version": "3.7.12"
  }
 },
 "nbformat": 4,
 "nbformat_minor": 5
}
