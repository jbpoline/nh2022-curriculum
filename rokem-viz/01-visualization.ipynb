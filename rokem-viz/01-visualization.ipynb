{
 "cells": [
  {
   "cell_type": "markdown",
   "id": "543e1785-3f3f-488d-9e56-805b0558285c",
   "metadata": {},
   "source": [
    "# Data visualization with Python\n",
    "\n",
    "A picture is worth a thousand words. This is even more true for data analysis, and particularly when the data are large, complex and multi-dimensional. We need to look at our data to make sure that it represents what we think it does and we often need to show our data in order to communicate well with others. \n",
    "\n",
    "## The pyviz ecosystem\n",
    "\n",
    "There are many different ways to visualize data in Python. In fact, there are so many different options that serve every imaginable use-case, that there is a website devoted to helping users sort out what tool to use for what purpose. As an example, the following diagram is taken from that website: \n",
    "\n",
    "![](images/pyviz_options.png)\n"
   ]
  },
  {
   "cell_type": "markdown",
   "id": "731e42e6-8be0-4b6f-9cfc-03f2b5ad1d7e",
   "metadata": {},
   "source": [
    "As you can see, the universe of Python visualization divides roughly into a few constellations around some major stars. One of the main decisions that you need to make is whether you need very high performance (in which case, you might want to program in one of the libraries that interact directly with OpenGL, in green in the lower left), whether you are primarily targeting presentation of the visualizations in the browser (in which case, interaction with javascript may be desirable, and you might be in the top left, in red), or whether you would like to rely on Matplotlib (which puts you in the top right, in purple). \n",
    "\n",
    "The point is that you will have to consider all of these options and choose something that works well for you. And this might involve some trial and error. "
   ]
  },
  {
   "cell_type": "markdown",
   "id": "806ec334-beda-411f-8c5b-7bb5c39613a8",
   "metadata": {},
   "source": [
    "## Introducing Matplotlib \n",
    "\n",
    "Here, we will start with Matplotlib. This may very well end up being your tool of choice for most of your visualizations. There are a few reasons to get started there. The first is that it may very well be the easiest of all of these to teach and to learn. It is also a pretty good choice, becuase it is very popular in the scientific Python ecosystem, and because it is a very well-supported by a large community of developers. \n",
    "\n",
    "Matplotlib was started by a neuroscientist, John Hunter, while he was a postdoc at the University of Chicago. Within a few years, together with the rest of the scientific Python ecosystem, Matplotlib took off in popularity, and John left neuroscience to work at a Chicago-based hedge-fund, while still maintaining the library. Having learned about the challenges of software sustainability, he was among the founders of Numfocus, which is a non-profit that serves as the fiscal sponsor for many projects in this ecosystem (enabling them to take contributions, accept grants, and so on). The community around Matplotlib grew and now encompasses more than 1,000 contributors. The library and its visual style became familiar through images such as the images that described the first recording of gravitational waves by the LIGO collaboration: \n",
    "\n",
    "![](images/ligo_mpl.png)\n",
    "\n",
    "Or the famous images of a black hole created by the Event Horizon Telescope team.\n",
    "\n",
    "\n",
    "![](images/black_hole_mpl.png)\n",
    "\n",
    "This picture is cool not only because it's a ground-breaking result and it was also made with Matplotlib, seen on that laptop screen, but it also seems to have captured the moment that this result was obtained and the excitement of the researchers (Katie Bouman, at the time at MIT, and now at Caltech, who led the image processing effort that led to this result).\n",
    "\n",
    "In other words, if you use Matplotlib, you are almost guaranteed to make ground-breaking discoveries! "
   ]
  },
  {
   "cell_type": "markdown",
   "id": "cb02370e-effd-4ea5-9f93-a8b35ff9e3a6",
   "metadata": {},
   "source": [
    "## The `pyplot` API\n",
    "\n",
    "Presenting graphical information is complicated business and Matplotlib is a rather large and complicated library. There are different ways to call functions that would do similar things, depending on the level of detail that you would like to adopt. This makes it a bit hard, because you have to decide at which level you would like to call Matplotlib. However, there is one particular API that is almost always the right choice for a good balance of flexibility and expressivity, and I strongly recommend to always use this API. This is the API that we will learn here. First, we import the sub-module that contains this particular API, `matplolib.pyplot`. You can name it anything you want, but it is a rather strong convention to name it `plt`\n",
    "\n"
   ]
  },
  {
   "cell_type": "code",
   "execution_count": null,
   "id": "661fd9f9-7a9a-443e-9581-d2ea6882758e",
   "metadata": {},
   "outputs": [],
   "source": [
    "import matplotlib.pyplot as plt"
   ]
  },
  {
   "cell_type": "markdown",
   "id": "9ae36245-94d4-4375-b2f6-67c2f29c6728",
   "metadata": {},
   "source": [
    "The function which will almost always serve as our entry point into this API is the `plt.subplots` function. When called, it returns two objects. The first is always a Matplotlib `Figure` object. If called without any inputs, the second one will always be a Matplotlib `Axes` object."
   ]
  },
  {
   "cell_type": "code",
   "execution_count": null,
   "id": "d76a1dd7-264a-49c5-b966-797c7fe48e24",
   "metadata": {},
   "outputs": [],
   "source": [
    "fig, ax = plt.subplots()"
   ]
  },
  {
   "cell_type": "markdown",
   "id": "d8edc702-66c9-49ff-86f6-f24581e5b5ca",
   "metadata": {},
   "source": [
    "The `Figure` is a bit like a page on which the data will be presented. The `Axes` object is the canvas that contains the coordinate frame for data presentation. So, at this point, all we have is the coordinate frame. But the `Axes` object (which we have named `ax` in this example) has methods that can be used to add data into the coordinate frame. So, if we contine within the same cell, we can start adding data to the `Axes`. We'll start by using the `ax.plot` method. The default of this method is to draw a line.  For now, let's keep things really simple, before looking at some real data. "
   ]
  },
  {
   "cell_type": "code",
   "execution_count": null,
   "id": "1f2226f4-42ae-4eb5-9f8e-3a66d4e17b55",
   "metadata": {},
   "outputs": [],
   "source": [
    "fig, ax = plt.subplots()\n",
    "\n",
    "ax.plot([1, 2, 4, 8, 16])"
   ]
  },
  {
   "cell_type": "markdown",
   "id": "d8e15864-6b67-4afc-8776-6e65d56b45ad",
   "metadata": {},
   "source": [
    "If only one sequence is provided, `plot` assumes that this is uniformly sampled and puts the values on y. If two sequences are provided, the first sequence is taken to be the x coordinates, and the second sequence is taken to be the y coordinates"
   ]
  },
  {
   "cell_type": "code",
   "execution_count": null,
   "id": "428f9e8f-4984-422c-89cf-f1ad746d9ba4",
   "metadata": {},
   "outputs": [],
   "source": [
    "import numpy as np\n",
    "fig, ax = plt.subplots()\n",
    "ax.plot(np.array([1, 2, 4, 5, 10]), \n",
    "        np.array([1, 2, 4, 8, 16]))"
   ]
  },
  {
   "cell_type": "markdown",
   "id": "79196f3f-c99e-4ad3-a7e1-51f014456fd3",
   "metadata": {},
   "source": [
    "Matplotlib plotting also plays nice with Pandas data structures. For an example, let's look at a neuroscience dataset stored as a tsv file. This is the ABIDEII dataset (if you attended the machine learning tutorial, this dataset should be familiar to you). It contains measurements from more than 1,000 individuals, approximately half of which have been diagnosed with autism. The measurements were processed with Freesurfer, and for every individual, we have surface area, volume, cortical thickness, and local gyrification index in 360 different cortical regions of interest. The data also includes a few variables of phenotypic data such as age, sex and whether they are diagnosed with autism (group=1), or not (group=2)."
   ]
  },
  {
   "cell_type": "code",
   "execution_count": null,
   "id": "25e41722-4e80-40bb-9146-9cfddf6c3f10",
   "metadata": {},
   "outputs": [],
   "source": [
    "import pandas as pd"
   ]
  },
  {
   "cell_type": "code",
   "execution_count": null,
   "id": "742a63f7-b23a-4b18-a04f-953cc7aa9667",
   "metadata": {},
   "outputs": [],
   "source": [
    "abide = pd.read_csv('/home/jovyan/shared/abide2/abide2.tsv', sep='\\t')"
   ]
  },
  {
   "cell_type": "code",
   "execution_count": null,
   "id": "80bed96f-6b46-4ffd-8996-be317633885c",
   "metadata": {},
   "outputs": [],
   "source": [
    "abide.head()"
   ]
  },
  {
   "cell_type": "markdown",
   "id": "fb9a8c15-420a-4972-b11f-95d0a896fe2a",
   "metadata": {},
   "source": [
    "Let's visualize the average surface areas of visual cortical areas in the left hemisphere. We can select only these columns using the `filter` method of the `DataFrame` object:"
   ]
  },
  {
   "cell_type": "code",
   "execution_count": null,
   "id": "734362bc-80eb-42ca-a126-a857a7d0e9d1",
   "metadata": {},
   "outputs": [],
   "source": [
    "area_visual_l = abide.filter(regex=\"fsArea_L_V[0-9]\")"
   ]
  },
  {
   "cell_type": "markdown",
   "id": "fc6ee560-73a7-4e33-9c1a-10861ac6b1b8",
   "metadata": {},
   "source": [
    "We extract the mean values in each column using the `mean` method:"
   ]
  },
  {
   "cell_type": "code",
   "execution_count": null,
   "id": "c4353da2-7f57-40ab-b76f-c299aeafde43",
   "metadata": {},
   "outputs": [],
   "source": [
    "mean_area_visual_l = area_visual_l.mean()"
   ]
  },
  {
   "cell_type": "markdown",
   "id": "39480c7b-745d-4e7c-be03-e0c9975fa8c9",
   "metadata": {},
   "source": [
    "The resulting object is a Pandas `Series` object:"
   ]
  },
  {
   "cell_type": "code",
   "execution_count": null,
   "id": "15013f3d-c453-499a-9848-c3aff32f90ba",
   "metadata": {},
   "outputs": [],
   "source": [
    "mean_area_visual_l"
   ]
  },
  {
   "cell_type": "markdown",
   "id": "b055db74-7d11-44e0-8ecc-959778686f1b",
   "metadata": {},
   "source": [
    "Next, we use `ax.plot` passing this series in as input. Matplotlib automatically inserts the values in the index as x tick labels. Because these are long, we will use the `ax.tick_params` method to rotate them 90 degrees, to avoid them colliding with each other.\n",
    "\n",
    "We will also start using the best practices in annotating our axes with labels, using the `ax.set_xlabel` and `ax.set_ylabel` methods to insert labels: "
   ]
  },
  {
   "cell_type": "code",
   "execution_count": null,
   "id": "fab4afe8-14aa-4d18-8fb6-3b3c5dd9407f",
   "metadata": {},
   "outputs": [],
   "source": [
    "fig, ax = plt.subplots()\n",
    "ax.plot(mean_area_visual_l)\n",
    "ax.tick_params(axis='x', labelrotation = 90)\n",
    "ax.set_xlabel(\"Visual area\")\n",
    "ax.set_ylabel(\"Area ($mm^2$)\")"
   ]
  },
  {
   "cell_type": "markdown",
   "id": "f7ca4bf0-df0d-4518-8506-c7d03af5de9b",
   "metadata": {},
   "source": [
    "Matplotlib accepts the \"$\" sign as a marker that the enclosed text should be rendered in latex math style. This means that we can do things like use `^` for a superscript, but we can also write more complicated math into these labels if we need to. "
   ]
  },
  {
   "cell_type": "markdown",
   "id": "92675575-0aa3-4d59-a134-58f6230770fd",
   "metadata": {},
   "source": [
    "We can plot more than one line into an `Axes` object, by repeating the call to `ax.plot`. For example, let's compare the mean area of the visual areas across the two hemispheres. Notice that we are passing the `values` array to the second call, so that it gets drawn on the same range of x values (try removing that to see what happens otherwise). We are also going to label each line, and add a legend."
   ]
  },
  {
   "cell_type": "code",
   "execution_count": null,
   "id": "926e9c5a-573a-4db2-a3f7-68f9248a2015",
   "metadata": {},
   "outputs": [],
   "source": [
    "area_visual_r = abide.filter(regex=\"fsArea_R_V[0-9]\")\n",
    "mean_area_visual_r = area_visual_r.mean()"
   ]
  },
  {
   "cell_type": "code",
   "execution_count": null,
   "id": "8ca5e54a-28c6-45bf-a844-646670815c12",
   "metadata": {},
   "outputs": [],
   "source": [
    "fig, ax = plt.subplots()\n",
    "ax.plot(mean_area_visual_l, label=\"Left hemisphere\")\n",
    "ax.plot(mean_area_visual_r.values, label=\"Right hemipshere\")\n",
    "ax.tick_params(axis='x', labelrotation = 90)\n",
    "ax.set_xlabel(\"Visual area\")\n",
    "ax.set_ylabel(\"Area ($mm^2$)\")\n",
    "ax.legend()"
   ]
  },
  {
   "cell_type": "markdown",
   "id": "630e9671-d34b-4ecc-8608-b46390fcf815",
   "metadata": {},
   "source": [
    "In this case, the continuous line in the plot may give the impression that the data are continuous, and that there is some meaning to the interpolated values between the labeled ticks. It might be a good idea to customize the appearance of the plot, to make it clear that this is not the case. \n",
    "\n",
    "We repeat our previous plot, customizing the calls to `ax.plot` with additional key-word arguments that adjust the resulting visualization."
   ]
  },
  {
   "cell_type": "code",
   "execution_count": null,
   "id": "c36c8d0a-5d8a-4753-a059-c941d0ae0f4e",
   "metadata": {},
   "outputs": [],
   "source": [
    "fig, ax = plt.subplots()\n",
    "ax.plot(mean_area_visual_l, label=\"Left hemisphere\", marker=\"*\", linestyle=\"--\")\n",
    "ax.plot(mean_area_visual_r.values, label=\"Right hemipshere\", marker=\"o\", linestyle=\"--\")\n",
    "ax.tick_params(axis='x', labelrotation = 90)\n",
    "ax.set_xlabel(\"Visual area\")\n",
    "ax.set_ylabel(\"Area ($mm^2$)\")\n",
    "ax.legend()"
   ]
  },
  {
   "cell_type": "markdown",
   "id": "4f414220-d31a-40cb-b727-d1765bb56e73",
   "metadata": {},
   "source": [
    "## Scatter plots \n",
    "\n",
    "We notice that the mean are of V1 in the right hemisphere seems slightly larger than the mean area of V1 in the left hemisphere. But how consistent is this? We can use a different visualization to compare these values within each individual. A visualization well suited to make such a comparison is a scatter-plot, where each point represents an individual and the two axes represent the two variables to compare. "
   ]
  },
  {
   "cell_type": "code",
   "execution_count": null,
   "id": "4fe317d4-16cd-4bdb-8857-2b27832e59a6",
   "metadata": {},
   "outputs": [],
   "source": [
    "fig, ax = plt.subplots()\n",
    "ax.scatter(abide[\"fsArea_L_V1_ROI\"], abide[\"fsArea_R_V1_ROI\"])\n",
    "ax.set_xlabel(\"Left V1 area ($mm^2$)\")\n",
    "ax.set_ylabel(\"Right V1 area ($mm^2$)\")"
   ]
  },
  {
   "cell_type": "markdown",
   "id": "d0ae890f-3535-4d32-aa79-37d6a5942fab",
   "metadata": {},
   "source": [
    "It looks like these values are related, but just based on this visualization, it's hard to say whether one value is really larger than the other. For one, the range of values on each axis is different. Second, the aspect ratio of the plot makes it hard to tell if most of the points are higher than the equality (y=x) line. finally, in the middle of the plot, a lot of the points occlude each other, and the points at extreme values get the same weight as the points in the middle of that dense cloud of points. Let's address all of these issue in a revision of this plot. \n",
    "\n",
    "1. We will make the points transparent, by setting an alpha channel value when calling `ax.scatter`. This is a value of opacity. When it is smaller than 1.0, this means that the points are made somewhat transparent. This will make the density of the points in different parts of the plot more apparent. \n",
    "1. We will add a plot of y=x, so that we can see where most of the data lies.\n",
    "1. We will set the aspect ratio of the plot, so that the x and y axes take up the same range of values, and also the same amount of space."
   ]
  },
  {
   "cell_type": "code",
   "execution_count": null,
   "id": "640fd6f5-5bca-4dc6-89bc-ef2cb2df2ea8",
   "metadata": {},
   "outputs": [],
   "source": [
    "fig, ax = plt.subplots()\n",
    "ax.scatter(abide[\"fsArea_L_V1_ROI\"], abide[\"fsArea_R_V1_ROI\"], alpha=0.1)\n",
    "ax.plot([950, 5500], [950, 5500], color=\"black\", linestyle=\"--\")\n",
    "ax.set_xlabel(\"Left V1 area ($mm^2$)\")\n",
    "ax.set_ylabel(\"Right V1 area ($mm^2$)\")\n",
    "ax.set_aspect(\"equal\")"
   ]
  },
  {
   "cell_type": "markdown",
   "id": "b1fedce3-c8c7-41da-b96e-9d994649dc24",
   "metadata": {},
   "source": [
    "This is not exactly a statistical test, but it does clarify the degree to which this effect is consistent in the data. "
   ]
  },
  {
   "cell_type": "markdown",
   "id": "ea5b6452-20ae-4d86-ba59-f74e9a2df5cb",
   "metadata": {},
   "source": [
    "## Small multiples \n",
    "\n",
    "One powerful idea in data visualization, that was identified by the great [Edward Tufte](https://www.edwardtufte.com/tufte/), is the notion of \"small multiples\". The idea is that once we have established a language for a particular kind of visualization, we can reuse this idea again and again to clarify the relationships and/or patterns across a set of similar variables. For example, we have established a good way to compare the area of right V1 to left V1. We can now reuse this visualization to compare other areas across the two hemispheres. To do that, however, we will first expand our use of the subplots function. As we saw above, the function can be called without any input, to provide a single `Axes` and a single `Figure` object. If called with inputs, however, it can instead provide an array of `Axes` objects that all belong to the same `Figure` object. Let's start with empty `Axes`:"
   ]
  },
  {
   "cell_type": "code",
   "execution_count": null,
   "id": "46d547ae-e851-4687-ac69-fe316680b2c7",
   "metadata": {},
   "outputs": [],
   "source": [
    "fig, ax = plt.subplots(2,3)\n",
    "print(type(ax))\n",
    "print(ax.shape)"
   ]
  },
  {
   "cell_type": "markdown",
   "id": "1baebe43-2f86-4a87-9aba-8137e1ea03bc",
   "metadata": {},
   "source": [
    "This call generates a `Figure` that contains 2 rows and 3 columns of `Axes` objects. These are conveniently stored in a Numpy `array` object that can be used like other numpy arrays. \n",
    "\n",
    "Here, we will use this array to iterate over a collection of visual areas, and to display the R-L comparison in each area in its own small multiple. We will add a bit more automation to deal with the difference in scale between the different regions, and also fiddle with the size and layout of the overall figure, to make sure that this looks good."
   ]
  },
  {
   "cell_type": "code",
   "execution_count": null,
   "id": "92c0d176-b313-4d97-a720-13619439765a",
   "metadata": {},
   "outputs": [],
   "source": [
    "areas = [\"V1\", \"V2\", \"V3\", \"V4\", \"V3A\", \"V3B\"]\n",
    "fig, axes = plt.subplots(2,3)\n",
    "\n",
    "ii = 0\n",
    "\n",
    "for ax in axes.flat:\n",
    "    roi = areas[ii]\n",
    "    x = abide[f\"fsArea_L_{roi}_ROI\"]\n",
    "    y = abide[f\"fsArea_R_{roi}_ROI\"]\n",
    "    ax.scatter(x, y, alpha=0.1)\n",
    "    smallest = min(x.min(), y.min())\n",
    "    largest = max(x.max(), y.max())\n",
    "    ax.plot([smallest, largest], [smallest, largest], color=\"black\", linestyle=\"--\")\n",
    "    ax.set_xlabel(f\"Left {roi} area ($mm^2$)\")\n",
    "    ax.set_ylabel(f\"Right {roi} area ($mm^2$)\")\n",
    "    ax.set_aspect(\"equal\")\n",
    "    ii = ii + 1\n",
    "\n",
    "fig.set_size_inches([10, 6])\n",
    "fig.tight_layout()"
   ]
  },
  {
   "cell_type": "markdown",
   "id": "e08864c6-0df2-4316-b329-31165590386c",
   "metadata": {},
   "source": [
    "As you can see, this leads to automated visualizations that can adapt to the data that is provided to them, giving programs that generate visualizations flexibility and robustness."
   ]
  },
  {
   "cell_type": "markdown",
   "id": "6396172b-62d5-4f92-822c-c794dcb7c307",
   "metadata": {},
   "source": [
    "## Statistical visualizations with Matplotlib\n",
    "\n",
    "Statistical visualization is all about systematic quantitative comparisons. For example, how meaningful are the differences that we observed between left and right hemisphere V1 area? One of the classical visualizations for this purpose is the Box plot. This plot follows a simple set of conventions to display the median and quantiles (box and red horizontal line), as well as the range of values within 1.5 * IQR from each quartile. Values outside of that are considered outliers."
   ]
  },
  {
   "cell_type": "code",
   "execution_count": null,
   "id": "a4a1eeb7-63c4-4f82-949f-eadfebc4773d",
   "metadata": {},
   "outputs": [],
   "source": [
    "fig, ax = plt.subplots()\n",
    "ax.boxplot([abide[\"fsArea_L_V1_ROI\"], abide[\"fsArea_R_V1_ROI\"]])"
   ]
  },
  {
   "cell_type": "markdown",
   "id": "260700ea-04be-44ec-beda-cc349172e137",
   "metadata": {},
   "source": [
    "At this point, visualization is used as a rigorous tool for analysis. Rather than just showing us the data, it helps us interpret it and make inferences from it. We will see a bit more of that in a little bit. For now, let's turn to something else. "
   ]
  },
  {
   "cell_type": "markdown",
   "id": "90b59080-d326-468b-8549-fd67ce23cf31",
   "metadata": {},
   "source": [
    "## Visualizing images \n",
    "\n",
    "So far, we've seen Matplotlib represent numerical data. One more thing that Matplotlib can help us with is to visualize images. For example, image data stored in neuroimaging files. Let's demonstrate that with a nifti file:"
   ]
  },
  {
   "cell_type": "code",
   "execution_count": null,
   "id": "d98eb55b-f998-4c8e-b00f-255a982e0851",
   "metadata": {},
   "outputs": [],
   "source": [
    "import nibabel as nib"
   ]
  },
  {
   "cell_type": "code",
   "execution_count": null,
   "id": "368adee5-c8cc-4224-96eb-0627e77ab0d8",
   "metadata": {},
   "outputs": [],
   "source": [
    "img = nib.load(\"/home/jovyan/shared/viz/tpl-MNI152NLin2009cAsym_res-01_T1w.nii.gz\")"
   ]
  },
  {
   "cell_type": "code",
   "execution_count": null,
   "id": "d4129b68-09c0-43ff-ba2d-8bbf6f1a3a46",
   "metadata": {},
   "outputs": [],
   "source": [
    "anatomical = img.get_fdata()"
   ]
  },
  {
   "cell_type": "code",
   "execution_count": null,
   "id": "05617c67-7ede-4ac8-a73b-60c76c9e8ce6",
   "metadata": {},
   "outputs": [],
   "source": [
    "fig, ax = plt.subplots()\n",
    "ax.matshow(anatomical[:, :, anatomical.shape[-1] // 2])"
   ]
  },
  {
   "cell_type": "markdown",
   "id": "4e6da4e7-616a-4ea5-84a9-5862cb7eda05",
   "metadata": {},
   "source": [
    "Notice that the default color-map used by Matplotlib to designate the different intensities in each voxel in this image is called \"viridis\". It goes from dark blue through shades of green to yellow. One of the merits of this color-map (in stark contrast to many other color-maps that are in widespread use in neuroscience) is that the colors change from low values to high values not only in their hue, but also -- _in a monotonic and linear fashion_ -- from dark to bright. This is important, because it means that the salience of different parts of the image corresponds to how bright they are, which is directly related to the values represented. \n",
    "\n",
    "But, you can also choose other colormaps. For example, we are pretty used to looking at MRI images in a gray-scale color-map: "
   ]
  },
  {
   "cell_type": "code",
   "execution_count": null,
   "id": "5a61e2ff-afc0-4c78-82b7-c03a6b1387d1",
   "metadata": {},
   "outputs": [],
   "source": [
    "fig, ax = plt.subplots()\n",
    "ax.matshow(anatomical[:, :, anatomical.shape[-1] // 2], cmap=\"gray\")"
   ]
  },
  {
   "cell_type": "markdown",
   "id": "bed5cb8f-ace6-4f39-8369-1e435f4dd720",
   "metadata": {},
   "source": [
    "## Last thoughts about Matplotlib\n",
    "\n",
    "Matplotlib is a very large and feature-rich library. We really only touched the tip of the iceberg. The good news is that if you want to learn more, Matplotlib has incredibly good documentation, including an extensive library of examples that you can explore to find the visualization that you would like to create: https://matplotlib.org/stable/gallery/index.html"
   ]
  },
  {
   "cell_type": "code",
   "execution_count": null,
   "id": "b44b4564-6ced-4ae5-8732-e2787dce0e68",
   "metadata": {},
   "outputs": [],
   "source": []
  }
 ],
 "metadata": {
  "kernelspec": {
   "display_name": "Python 3 (ipykernel)",
   "language": "python",
   "name": "python3"
  },
  "language_info": {
   "codemirror_mode": {
    "name": "ipython",
    "version": 3
   },
   "file_extension": ".py",
   "mimetype": "text/x-python",
   "name": "python",
   "nbconvert_exporter": "python",
   "pygments_lexer": "ipython3",
   "version": "3.7.12"
  }
 },
 "nbformat": 4,
 "nbformat_minor": 5
}
