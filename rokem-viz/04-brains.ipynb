{
 "cells": [
  {
   "cell_type": "markdown",
   "id": "9807380c-31c2-411b-839e-22cd4e9d6cf4",
   "metadata": {},
   "source": [
    "# Brain visualizations with nilearn\n",
    "\n",
    "When working with neuroscience data, we often want to display three-dimensional objects. There are many ways to present three-dimensional data. One simple way is to use orthographic slicing, turning the third dimension into a collection of two-dimensional views. But, we often want to be able to manipulate the data in three dimensions and look at objects that cannot easily be sliced, such as brain surfaces. \n",
    "\n",
    "As with two-dimensional visualizations, there is more than one way to visualize things in three-dimensions in Python. For the purpose of brain visualizations, I will just point here to a simple example from the nilearn documentation. "
   ]
  },
  {
   "cell_type": "code",
   "execution_count": null,
   "id": "e7673749-236f-4371-8425-ab4c0d5d0ef9",
   "metadata": {},
   "outputs": [],
   "source": [
    "# Retrieve destrieux parcellation in fsaverage5 space from nilearn\n",
    "from nilearn import datasets\n",
    "\n",
    "destrieux_atlas = datasets.fetch_atlas_surf_destrieux()\n",
    "\n",
    "# The parcellation is already loaded into memory\n",
    "parcellation = destrieux_atlas['map_left']\n",
    "\n",
    "fsaverage = datasets.fetch_surf_fsaverage()"
   ]
  },
  {
   "cell_type": "code",
   "execution_count": null,
   "id": "72c9a8c8-8238-4154-a4db-0e57a41339f3",
   "metadata": {},
   "outputs": [],
   "source": [
    "from nilearn import plotting\n",
    "\n",
    "view = plotting.view_surf(fsaverage.infl_left, parcellation,\n",
    "                          cmap='gist_ncar', symmetric_cmap=False)\n",
    "view"
   ]
  },
  {
   "cell_type": "markdown",
   "id": "2a0bf7d0-4805-4e1e-b508-53ca34463c11",
   "metadata": {},
   "source": [
    "For more information, I reccommend looking into the plotly documentation: https://plotly.com/python/3d-surface-plots/"
   ]
  },
  {
   "cell_type": "code",
   "execution_count": null,
   "id": "b8c1d71d-d88c-4370-818c-aa47a94c93b9",
   "metadata": {},
   "outputs": [],
   "source": []
  }
 ],
 "metadata": {
  "kernelspec": {
   "display_name": "Python 3 (ipykernel)",
   "language": "python",
   "name": "python3"
  },
  "language_info": {
   "codemirror_mode": {
    "name": "ipython",
    "version": 3
   },
   "file_extension": ".py",
   "mimetype": "text/x-python",
   "name": "python",
   "nbconvert_exporter": "python",
   "pygments_lexer": "ipython3",
   "version": "3.7.12"
  }
 },
 "nbformat": 4,
 "nbformat_minor": 5
}
